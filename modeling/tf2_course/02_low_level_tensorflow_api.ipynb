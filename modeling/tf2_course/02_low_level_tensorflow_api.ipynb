{
  "nbformat": 4,
  "nbformat_minor": 0,
  "metadata": {
    "kernelspec": {
      "display_name": "Python 3",
      "language": "python",
      "name": "python3"
    },
    "language_info": {
      "codemirror_mode": {
        "name": "ipython",
        "version": 3
      },
      "file_extension": ".py",
      "mimetype": "text/x-python",
      "name": "python",
      "nbconvert_exporter": "python",
      "pygments_lexer": "ipython3",
      "version": "3.6.8"
    },
    "colab": {
      "name": "02_low_level_tensorflow_api.ipynb",
      "provenance": [],
      "include_colab_link": true
    },
    "accelerator": "GPU"
  },
  "cells": [
    {
      "cell_type": "markdown",
      "metadata": {
        "id": "view-in-github",
        "colab_type": "text"
      },
      "source": [
        "<a href=\"https://colab.research.google.com/github/cyyeh/tensorflow-tutorials/blob/master/modeling/tf2_course/02_low_level_tensorflow_api.ipynb\" target=\"_parent\"><img src=\"https://colab.research.google.com/assets/colab-badge.svg\" alt=\"Open In Colab\"/></a>"
      ]
    },
    {
      "cell_type": "markdown",
      "metadata": {
        "id": "X8OVPCvWFjyc",
        "colab_type": "text"
      },
      "source": [
        "# Low-Level TensorFlow API"
      ]
    },
    {
      "cell_type": "code",
      "metadata": {
        "id": "mPi1MqOaFnNR",
        "colab_type": "code",
        "colab": {
          "base_uri": "https://localhost:8080/",
          "height": 119
        },
        "outputId": "44446e40-3f9e-488d-c9fa-345af2d89e9c"
      },
      "source": [
        "!git clone https://github.com/ageron/tf2_course.git\n",
        "%cd tf2_course"
      ],
      "execution_count": 1,
      "outputs": [
        {
          "output_type": "stream",
          "text": [
            "Cloning into 'tf2_course'...\n",
            "remote: Enumerating objects: 167, done.\u001b[K\n",
            "remote: Total 167 (delta 0), reused 0 (delta 0), pack-reused 167\u001b[K\n",
            "Receiving objects: 100% (167/167), 957.94 KiB | 22.28 MiB/s, done.\n",
            "Resolving deltas: 100% (93/93), done.\n",
            "/content/tf2_course\n"
          ],
          "name": "stdout"
        }
      ]
    },
    {
      "cell_type": "markdown",
      "metadata": {
        "id": "u5C5VcqXFjyd",
        "colab_type": "text"
      },
      "source": [
        "In this notebook you will learn how to use TensorFlow's low-level API, then use it to build custom loss functions, as well as custom Keras layers and models."
      ]
    },
    {
      "cell_type": "markdown",
      "metadata": {
        "id": "vT74q99BFjye",
        "colab_type": "text"
      },
      "source": [
        "## Imports"
      ]
    },
    {
      "cell_type": "code",
      "metadata": {
        "id": "zQ2RhxPhFjye",
        "colab_type": "code",
        "colab": {}
      },
      "source": [
        "%matplotlib inline"
      ],
      "execution_count": 0,
      "outputs": []
    },
    {
      "cell_type": "code",
      "metadata": {
        "id": "EMS7PUSDFjyh",
        "colab_type": "code",
        "colab": {}
      },
      "source": [
        "import matplotlib as mpl\n",
        "import matplotlib.pyplot as plt\n",
        "import numpy as np\n",
        "import os\n",
        "import pandas as pd\n",
        "import sklearn\n",
        "import sys\n",
        "import tensorflow as tf\n",
        "from tensorflow import keras\n",
        "import time"
      ],
      "execution_count": 0,
      "outputs": []
    },
    {
      "cell_type": "code",
      "metadata": {
        "id": "stNsB0CQFjyj",
        "colab_type": "code",
        "colab": {
          "base_uri": "https://localhost:8080/",
          "height": 153
        },
        "outputId": "a579c9f7-625f-4598-fa40-4d7f9a0e45d5"
      },
      "source": [
        "print(\"python\", sys.version)\n",
        "for module in mpl, np, pd, sklearn, tf, keras:\n",
        "    print(module.__name__, module.__version__)"
      ],
      "execution_count": 4,
      "outputs": [
        {
          "output_type": "stream",
          "text": [
            "python 3.6.9 (default, Apr 18 2020, 01:56:04) \n",
            "[GCC 8.4.0]\n",
            "matplotlib 3.2.1\n",
            "numpy 1.18.4\n",
            "pandas 1.0.3\n",
            "sklearn 0.22.2.post1\n",
            "tensorflow 2.2.0\n",
            "tensorflow.keras 2.3.0-tf\n"
          ],
          "name": "stdout"
        }
      ]
    },
    {
      "cell_type": "code",
      "metadata": {
        "id": "TxWzdd0kFjyl",
        "colab_type": "code",
        "colab": {}
      },
      "source": [
        "assert sys.version_info >= (3, 5) # Python ≥3.5 required\n",
        "assert tf.__version__ >= \"2.0\"    # TensorFlow ≥2.0 required"
      ],
      "execution_count": 0,
      "outputs": []
    },
    {
      "cell_type": "markdown",
      "metadata": {
        "id": "m_46gFCsFjyn",
        "colab_type": "text"
      },
      "source": [
        "## Tensors and operations"
      ]
    },
    {
      "cell_type": "markdown",
      "metadata": {
        "id": "x7m2oktmFjyo",
        "colab_type": "text"
      },
      "source": [
        "You can browse through the code examples or jump directly to the exercises."
      ]
    },
    {
      "cell_type": "markdown",
      "metadata": {
        "id": "Z8YgIEeKFjyo",
        "colab_type": "text"
      },
      "source": [
        "### Tensors"
      ]
    },
    {
      "cell_type": "code",
      "metadata": {
        "id": "9wZVK9D8Fjyp",
        "colab_type": "code",
        "colab": {
          "base_uri": "https://localhost:8080/",
          "height": 68
        },
        "outputId": "59a3ce97-f308-41fe-9561-f20abeded2c5"
      },
      "source": [
        "t = tf.constant([[1., 2., 3.], [4., 5., 6.]])\n",
        "t"
      ],
      "execution_count": 6,
      "outputs": [
        {
          "output_type": "execute_result",
          "data": {
            "text/plain": [
              "<tf.Tensor: shape=(2, 3), dtype=float32, numpy=\n",
              "array([[1., 2., 3.],\n",
              "       [4., 5., 6.]], dtype=float32)>"
            ]
          },
          "metadata": {
            "tags": []
          },
          "execution_count": 6
        }
      ]
    },
    {
      "cell_type": "code",
      "metadata": {
        "id": "yN2sshqSFjyr",
        "colab_type": "code",
        "colab": {
          "base_uri": "https://localhost:8080/",
          "height": 34
        },
        "outputId": "d1327cf1-5fc1-4c39-edb3-0cede0fdec28"
      },
      "source": [
        "t.shape"
      ],
      "execution_count": 7,
      "outputs": [
        {
          "output_type": "execute_result",
          "data": {
            "text/plain": [
              "TensorShape([2, 3])"
            ]
          },
          "metadata": {
            "tags": []
          },
          "execution_count": 7
        }
      ]
    },
    {
      "cell_type": "code",
      "metadata": {
        "id": "sDx1G2LUFjyt",
        "colab_type": "code",
        "colab": {
          "base_uri": "https://localhost:8080/",
          "height": 34
        },
        "outputId": "c071c152-37fe-4034-aff8-eac33712337c"
      },
      "source": [
        "t.dtype"
      ],
      "execution_count": 8,
      "outputs": [
        {
          "output_type": "execute_result",
          "data": {
            "text/plain": [
              "tf.float32"
            ]
          },
          "metadata": {
            "tags": []
          },
          "execution_count": 8
        }
      ]
    },
    {
      "cell_type": "markdown",
      "metadata": {
        "id": "O3dL4gFHFjyv",
        "colab_type": "text"
      },
      "source": [
        "### Indexing"
      ]
    },
    {
      "cell_type": "code",
      "metadata": {
        "id": "QbQ9UlWuFjyw",
        "colab_type": "code",
        "colab": {
          "base_uri": "https://localhost:8080/",
          "height": 68
        },
        "outputId": "8526026c-a2f6-453b-b53c-b44aba6cf996"
      },
      "source": [
        "t[:, 1:]"
      ],
      "execution_count": 9,
      "outputs": [
        {
          "output_type": "execute_result",
          "data": {
            "text/plain": [
              "<tf.Tensor: shape=(2, 2), dtype=float32, numpy=\n",
              "array([[2., 3.],\n",
              "       [5., 6.]], dtype=float32)>"
            ]
          },
          "metadata": {
            "tags": []
          },
          "execution_count": 9
        }
      ]
    },
    {
      "cell_type": "code",
      "metadata": {
        "id": "zosNgkwHFjyx",
        "colab_type": "code",
        "colab": {
          "base_uri": "https://localhost:8080/",
          "height": 68
        },
        "outputId": "268097b0-29ed-4e15-e149-32d582d0fa50"
      },
      "source": [
        "t[..., 1, tf.newaxis]"
      ],
      "execution_count": 10,
      "outputs": [
        {
          "output_type": "execute_result",
          "data": {
            "text/plain": [
              "<tf.Tensor: shape=(2, 1), dtype=float32, numpy=\n",
              "array([[2.],\n",
              "       [5.]], dtype=float32)>"
            ]
          },
          "metadata": {
            "tags": []
          },
          "execution_count": 10
        }
      ]
    },
    {
      "cell_type": "markdown",
      "metadata": {
        "id": "0LfTvDayFjyz",
        "colab_type": "text"
      },
      "source": [
        "### Ops"
      ]
    },
    {
      "cell_type": "code",
      "metadata": {
        "id": "KFw_Rf20Fjy0",
        "colab_type": "code",
        "colab": {
          "base_uri": "https://localhost:8080/",
          "height": 68
        },
        "outputId": "787c8e4b-81ff-462a-9e3f-1b1627ccbdbb"
      },
      "source": [
        "t + 10"
      ],
      "execution_count": 11,
      "outputs": [
        {
          "output_type": "execute_result",
          "data": {
            "text/plain": [
              "<tf.Tensor: shape=(2, 3), dtype=float32, numpy=\n",
              "array([[11., 12., 13.],\n",
              "       [14., 15., 16.]], dtype=float32)>"
            ]
          },
          "metadata": {
            "tags": []
          },
          "execution_count": 11
        }
      ]
    },
    {
      "cell_type": "code",
      "metadata": {
        "id": "aMRpgxJBFjy2",
        "colab_type": "code",
        "colab": {
          "base_uri": "https://localhost:8080/",
          "height": 68
        },
        "outputId": "a7fa2fb5-e22c-4d20-ea53-1397e21062a7"
      },
      "source": [
        "tf.square(t)"
      ],
      "execution_count": 12,
      "outputs": [
        {
          "output_type": "execute_result",
          "data": {
            "text/plain": [
              "<tf.Tensor: shape=(2, 3), dtype=float32, numpy=\n",
              "array([[ 1.,  4.,  9.],\n",
              "       [16., 25., 36.]], dtype=float32)>"
            ]
          },
          "metadata": {
            "tags": []
          },
          "execution_count": 12
        }
      ]
    },
    {
      "cell_type": "code",
      "metadata": {
        "id": "VXRYD049Fjy4",
        "colab_type": "code",
        "colab": {
          "base_uri": "https://localhost:8080/",
          "height": 68
        },
        "outputId": "d99693a5-20bc-478e-ecdc-7424aa9bda10"
      },
      "source": [
        "t @ tf.transpose(t)"
      ],
      "execution_count": 13,
      "outputs": [
        {
          "output_type": "execute_result",
          "data": {
            "text/plain": [
              "<tf.Tensor: shape=(2, 2), dtype=float32, numpy=\n",
              "array([[14., 32.],\n",
              "       [32., 77.]], dtype=float32)>"
            ]
          },
          "metadata": {
            "tags": []
          },
          "execution_count": 13
        }
      ]
    },
    {
      "cell_type": "markdown",
      "metadata": {
        "id": "zRN5QySbFjy6",
        "colab_type": "text"
      },
      "source": [
        "### To/From NumPy"
      ]
    },
    {
      "cell_type": "code",
      "metadata": {
        "id": "-GINmeUVFjy6",
        "colab_type": "code",
        "colab": {
          "base_uri": "https://localhost:8080/",
          "height": 51
        },
        "outputId": "728e6813-d55e-4f81-ec1a-5275020b46fb"
      },
      "source": [
        "t.numpy()"
      ],
      "execution_count": 14,
      "outputs": [
        {
          "output_type": "execute_result",
          "data": {
            "text/plain": [
              "array([[1., 2., 3.],\n",
              "       [4., 5., 6.]], dtype=float32)"
            ]
          },
          "metadata": {
            "tags": []
          },
          "execution_count": 14
        }
      ]
    },
    {
      "cell_type": "code",
      "metadata": {
        "id": "bvjYZyK_Fjy9",
        "colab_type": "code",
        "colab": {
          "base_uri": "https://localhost:8080/",
          "height": 68
        },
        "outputId": "345c3379-5d32-48cc-89c0-5bab399695c9"
      },
      "source": [
        "a = np.array([[1., 2., 3.], [4., 5., 6.]])\n",
        "tf.constant(a)"
      ],
      "execution_count": 15,
      "outputs": [
        {
          "output_type": "execute_result",
          "data": {
            "text/plain": [
              "<tf.Tensor: shape=(2, 3), dtype=float64, numpy=\n",
              "array([[1., 2., 3.],\n",
              "       [4., 5., 6.]])>"
            ]
          },
          "metadata": {
            "tags": []
          },
          "execution_count": 15
        }
      ]
    },
    {
      "cell_type": "code",
      "metadata": {
        "id": "4oUJ84_sFjy_",
        "colab_type": "code",
        "colab": {
          "base_uri": "https://localhost:8080/",
          "height": 51
        },
        "outputId": "a1c6f74b-acb4-4ba0-bfe1-f4aba4326818"
      },
      "source": [
        "t = tf.constant([[1., 2., 3.], [4., 5., 6.]])\n",
        "np.square(t)"
      ],
      "execution_count": 16,
      "outputs": [
        {
          "output_type": "execute_result",
          "data": {
            "text/plain": [
              "array([[ 1.,  4.,  9.],\n",
              "       [16., 25., 36.]], dtype=float32)"
            ]
          },
          "metadata": {
            "tags": []
          },
          "execution_count": 16
        }
      ]
    },
    {
      "cell_type": "markdown",
      "metadata": {
        "id": "bC79Ys8eFjzB",
        "colab_type": "text"
      },
      "source": [
        "### Scalars"
      ]
    },
    {
      "cell_type": "code",
      "metadata": {
        "id": "3GN6fK9pFjzB",
        "colab_type": "code",
        "colab": {
          "base_uri": "https://localhost:8080/",
          "height": 34
        },
        "outputId": "4fd1b503-f9e3-4200-c7d9-c154458f0270"
      },
      "source": [
        "t = tf.constant(2.718)\n",
        "t"
      ],
      "execution_count": 17,
      "outputs": [
        {
          "output_type": "execute_result",
          "data": {
            "text/plain": [
              "<tf.Tensor: shape=(), dtype=float32, numpy=2.718>"
            ]
          },
          "metadata": {
            "tags": []
          },
          "execution_count": 17
        }
      ]
    },
    {
      "cell_type": "code",
      "metadata": {
        "id": "kVy6A5fmFjzE",
        "colab_type": "code",
        "colab": {
          "base_uri": "https://localhost:8080/",
          "height": 34
        },
        "outputId": "13ec7c5a-8d3a-43da-9518-cede7883dc50"
      },
      "source": [
        "t.shape"
      ],
      "execution_count": 18,
      "outputs": [
        {
          "output_type": "execute_result",
          "data": {
            "text/plain": [
              "TensorShape([])"
            ]
          },
          "metadata": {
            "tags": []
          },
          "execution_count": 18
        }
      ]
    },
    {
      "cell_type": "code",
      "metadata": {
        "id": "vjpy33G1FjzF",
        "colab_type": "code",
        "colab": {
          "base_uri": "https://localhost:8080/",
          "height": 34
        },
        "outputId": "08b48301-5af8-4c84-e179-bcca08f628ab"
      },
      "source": [
        "t.numpy()"
      ],
      "execution_count": 19,
      "outputs": [
        {
          "output_type": "execute_result",
          "data": {
            "text/plain": [
              "2.718"
            ]
          },
          "metadata": {
            "tags": []
          },
          "execution_count": 19
        }
      ]
    },
    {
      "cell_type": "markdown",
      "metadata": {
        "id": "b9cQMDN0FjzH",
        "colab_type": "text"
      },
      "source": [
        "### Conflicting Types"
      ]
    },
    {
      "cell_type": "code",
      "metadata": {
        "id": "rC7GwC8aFjzH",
        "colab_type": "code",
        "colab": {
          "base_uri": "https://localhost:8080/",
          "height": 34
        },
        "outputId": "7f1c13bb-e354-42f2-f157-205062c700d1"
      },
      "source": [
        "try:\n",
        "    tf.constant(1) + tf.constant(1.0)\n",
        "except tf.errors.InvalidArgumentError as ex:\n",
        "    print(ex)"
      ],
      "execution_count": 20,
      "outputs": [
        {
          "output_type": "stream",
          "text": [
            "cannot compute AddV2 as input #1(zero-based) was expected to be a int32 tensor but is a float tensor [Op:AddV2]\n"
          ],
          "name": "stdout"
        }
      ]
    },
    {
      "cell_type": "code",
      "metadata": {
        "id": "r8YNXBxsFjzJ",
        "colab_type": "code",
        "colab": {
          "base_uri": "https://localhost:8080/",
          "height": 34
        },
        "outputId": "ed97a653-0202-420c-d71f-b418a10645c4"
      },
      "source": [
        "try:\n",
        "    tf.constant(1.0, dtype=tf.float64) + tf.constant(1.0)\n",
        "except tf.errors.InvalidArgumentError as ex:\n",
        "    print(ex)"
      ],
      "execution_count": 21,
      "outputs": [
        {
          "output_type": "stream",
          "text": [
            "cannot compute AddV2 as input #1(zero-based) was expected to be a double tensor but is a float tensor [Op:AddV2]\n"
          ],
          "name": "stdout"
        }
      ]
    },
    {
      "cell_type": "code",
      "metadata": {
        "id": "MHJpnM35FjzL",
        "colab_type": "code",
        "colab": {
          "base_uri": "https://localhost:8080/",
          "height": 34
        },
        "outputId": "7979fdb4-0d88-4f41-906a-5333c62ee0d3"
      },
      "source": [
        "t = tf.constant(1.0, dtype=tf.float64)\n",
        "tf.cast(t, tf.float32) + tf.constant(1.0)"
      ],
      "execution_count": 22,
      "outputs": [
        {
          "output_type": "execute_result",
          "data": {
            "text/plain": [
              "<tf.Tensor: shape=(), dtype=float32, numpy=2.0>"
            ]
          },
          "metadata": {
            "tags": []
          },
          "execution_count": 22
        }
      ]
    },
    {
      "cell_type": "markdown",
      "metadata": {
        "id": "pLLUH_w9FjzN",
        "colab_type": "text"
      },
      "source": [
        "### Strings"
      ]
    },
    {
      "cell_type": "code",
      "metadata": {
        "id": "vsgpf-6TFjzN",
        "colab_type": "code",
        "colab": {
          "base_uri": "https://localhost:8080/",
          "height": 34
        },
        "outputId": "84409363-e06e-4114-ee82-f78d7b58667d"
      },
      "source": [
        "t = tf.constant(\"café\")\n",
        "t"
      ],
      "execution_count": 23,
      "outputs": [
        {
          "output_type": "execute_result",
          "data": {
            "text/plain": [
              "<tf.Tensor: shape=(), dtype=string, numpy=b'caf\\xc3\\xa9'>"
            ]
          },
          "metadata": {
            "tags": []
          },
          "execution_count": 23
        }
      ]
    },
    {
      "cell_type": "code",
      "metadata": {
        "id": "hR8aJl7TFjzP",
        "colab_type": "code",
        "colab": {
          "base_uri": "https://localhost:8080/",
          "height": 34
        },
        "outputId": "8789ebd5-fb06-4bcd-ef42-e26bcfa6c1af"
      },
      "source": [
        "tf.strings.length(t)"
      ],
      "execution_count": 24,
      "outputs": [
        {
          "output_type": "execute_result",
          "data": {
            "text/plain": [
              "<tf.Tensor: shape=(), dtype=int32, numpy=5>"
            ]
          },
          "metadata": {
            "tags": []
          },
          "execution_count": 24
        }
      ]
    },
    {
      "cell_type": "code",
      "metadata": {
        "id": "MV9hxkr8FjzS",
        "colab_type": "code",
        "colab": {
          "base_uri": "https://localhost:8080/",
          "height": 34
        },
        "outputId": "3fee8bc2-b78a-4d19-9393-19839cbe1976"
      },
      "source": [
        "tf.strings.length(t, unit=\"UTF8_CHAR\")"
      ],
      "execution_count": 25,
      "outputs": [
        {
          "output_type": "execute_result",
          "data": {
            "text/plain": [
              "<tf.Tensor: shape=(), dtype=int32, numpy=4>"
            ]
          },
          "metadata": {
            "tags": []
          },
          "execution_count": 25
        }
      ]
    },
    {
      "cell_type": "code",
      "metadata": {
        "id": "RQgPYrnKFjzU",
        "colab_type": "code",
        "colab": {
          "base_uri": "https://localhost:8080/",
          "height": 34
        },
        "outputId": "d534e3b3-3f0d-4d3c-dc4b-51f7fc14ea5a"
      },
      "source": [
        "tf.strings.unicode_decode(t, \"UTF8\")"
      ],
      "execution_count": 26,
      "outputs": [
        {
          "output_type": "execute_result",
          "data": {
            "text/plain": [
              "<tf.Tensor: shape=(4,), dtype=int32, numpy=array([ 99,  97, 102, 233], dtype=int32)>"
            ]
          },
          "metadata": {
            "tags": []
          },
          "execution_count": 26
        }
      ]
    },
    {
      "cell_type": "markdown",
      "metadata": {
        "id": "4qPERReIFjzV",
        "colab_type": "text"
      },
      "source": [
        "### String arrays"
      ]
    },
    {
      "cell_type": "code",
      "metadata": {
        "id": "5cptZXN4FjzV",
        "colab_type": "code",
        "colab": {}
      },
      "source": [
        "t = tf.constant([\"Café\", \"Coffee\", \"caffè\", \"咖啡\"])"
      ],
      "execution_count": 0,
      "outputs": []
    },
    {
      "cell_type": "code",
      "metadata": {
        "id": "ajXIVN3IFjzX",
        "colab_type": "code",
        "colab": {
          "base_uri": "https://localhost:8080/",
          "height": 34
        },
        "outputId": "e7af1f8f-c57a-4187-9a5b-33341b3b9981"
      },
      "source": [
        "tf.strings.length(t, unit=\"UTF8_CHAR\")"
      ],
      "execution_count": 28,
      "outputs": [
        {
          "output_type": "execute_result",
          "data": {
            "text/plain": [
              "<tf.Tensor: shape=(4,), dtype=int32, numpy=array([4, 6, 5, 2], dtype=int32)>"
            ]
          },
          "metadata": {
            "tags": []
          },
          "execution_count": 28
        }
      ]
    },
    {
      "cell_type": "code",
      "metadata": {
        "id": "kGVlRWZCFjzZ",
        "colab_type": "code",
        "colab": {
          "base_uri": "https://localhost:8080/",
          "height": 34
        },
        "outputId": "b5d8e326-4496-4d6c-bc70-a18150597fe7"
      },
      "source": [
        "r = tf.strings.unicode_decode(t, \"UTF8\")\n",
        "r"
      ],
      "execution_count": 29,
      "outputs": [
        {
          "output_type": "execute_result",
          "data": {
            "text/plain": [
              "<tf.RaggedTensor [[67, 97, 102, 233], [67, 111, 102, 102, 101, 101], [99, 97, 102, 102, 232], [21654, 21857]]>"
            ]
          },
          "metadata": {
            "tags": []
          },
          "execution_count": 29
        }
      ]
    },
    {
      "cell_type": "markdown",
      "metadata": {
        "id": "K2WI4o0YFjza",
        "colab_type": "text"
      },
      "source": [
        "### Ragged tensors"
      ]
    },
    {
      "cell_type": "code",
      "metadata": {
        "id": "pflHeKMiFjzb",
        "colab_type": "code",
        "colab": {
          "base_uri": "https://localhost:8080/",
          "height": 34
        },
        "outputId": "b123179b-a942-4e72-f1fe-dcfe1ad9e701"
      },
      "source": [
        "r = tf.ragged.constant([[11, 12], [21, 22, 23], [], [41]])\n",
        "r"
      ],
      "execution_count": 30,
      "outputs": [
        {
          "output_type": "execute_result",
          "data": {
            "text/plain": [
              "<tf.RaggedTensor [[11, 12], [21, 22, 23], [], [41]]>"
            ]
          },
          "metadata": {
            "tags": []
          },
          "execution_count": 30
        }
      ]
    },
    {
      "cell_type": "code",
      "metadata": {
        "id": "mFsm7pj0Fjzc",
        "colab_type": "code",
        "colab": {
          "base_uri": "https://localhost:8080/",
          "height": 34
        },
        "outputId": "e7c3180e-3bb3-4dc4-d124-e478f306b97f"
      },
      "source": [
        "print(r)"
      ],
      "execution_count": 31,
      "outputs": [
        {
          "output_type": "stream",
          "text": [
            "<tf.RaggedTensor [[11, 12], [21, 22, 23], [], [41]]>\n"
          ],
          "name": "stdout"
        }
      ]
    },
    {
      "cell_type": "code",
      "metadata": {
        "id": "k4-RvI2IFjze",
        "colab_type": "code",
        "colab": {
          "base_uri": "https://localhost:8080/",
          "height": 34
        },
        "outputId": "4ac28d6f-425c-4623-f969-37e4f67cad4b"
      },
      "source": [
        "print(r[1])"
      ],
      "execution_count": 32,
      "outputs": [
        {
          "output_type": "stream",
          "text": [
            "tf.Tensor([21 22 23], shape=(3,), dtype=int32)\n"
          ],
          "name": "stdout"
        }
      ]
    },
    {
      "cell_type": "code",
      "metadata": {
        "id": "W5E2XJRLFjzg",
        "colab_type": "code",
        "colab": {
          "base_uri": "https://localhost:8080/",
          "height": 34
        },
        "outputId": "7acfbe90-1d2c-42d1-f221-37d20925f938"
      },
      "source": [
        "print(r[1:2])"
      ],
      "execution_count": 33,
      "outputs": [
        {
          "output_type": "stream",
          "text": [
            "<tf.RaggedTensor [[21, 22, 23]]>\n"
          ],
          "name": "stdout"
        }
      ]
    },
    {
      "cell_type": "code",
      "metadata": {
        "id": "GN39VSnoFjzi",
        "colab_type": "code",
        "colab": {
          "base_uri": "https://localhost:8080/",
          "height": 34
        },
        "outputId": "bd31a561-f556-41a0-95a2-faaea22006dc"
      },
      "source": [
        "r2 = tf.ragged.constant([[51, 52], [], [71]])\n",
        "print(tf.concat([r, r2], axis=0))"
      ],
      "execution_count": 34,
      "outputs": [
        {
          "output_type": "stream",
          "text": [
            "<tf.RaggedTensor [[11, 12], [21, 22, 23], [], [41], [51, 52], [], [71]]>\n"
          ],
          "name": "stdout"
        }
      ]
    },
    {
      "cell_type": "code",
      "metadata": {
        "id": "d_4GzpcCFjzj",
        "colab_type": "code",
        "colab": {
          "base_uri": "https://localhost:8080/",
          "height": 34
        },
        "outputId": "5c060fca-130b-46a8-ed6b-881ea39b7fce"
      },
      "source": [
        "r3 = tf.ragged.constant([[13, 14, 15], [24], [], [42, 43]])\n",
        "print(tf.concat([r, r3], axis=1))"
      ],
      "execution_count": 35,
      "outputs": [
        {
          "output_type": "stream",
          "text": [
            "<tf.RaggedTensor [[11, 12, 13, 14, 15], [21, 22, 23, 24], [], [41, 42, 43]]>\n"
          ],
          "name": "stdout"
        }
      ]
    },
    {
      "cell_type": "code",
      "metadata": {
        "id": "JbcqOhBNFjzl",
        "colab_type": "code",
        "colab": {
          "base_uri": "https://localhost:8080/",
          "height": 102
        },
        "outputId": "c688a5b7-615f-405d-dcd5-b8101fb18db8"
      },
      "source": [
        "r.to_tensor()"
      ],
      "execution_count": 36,
      "outputs": [
        {
          "output_type": "execute_result",
          "data": {
            "text/plain": [
              "<tf.Tensor: shape=(4, 3), dtype=int32, numpy=\n",
              "array([[11, 12,  0],\n",
              "       [21, 22, 23],\n",
              "       [ 0,  0,  0],\n",
              "       [41,  0,  0]], dtype=int32)>"
            ]
          },
          "metadata": {
            "tags": []
          },
          "execution_count": 36
        }
      ]
    },
    {
      "cell_type": "markdown",
      "metadata": {
        "id": "DD0CZAz6Fjzn",
        "colab_type": "text"
      },
      "source": [
        "### Sparse tensors"
      ]
    },
    {
      "cell_type": "code",
      "metadata": {
        "id": "aaxYhF2nFjzn",
        "colab_type": "code",
        "colab": {
          "base_uri": "https://localhost:8080/",
          "height": 85
        },
        "outputId": "c466ae29-f9db-4a2a-b55b-4904e5165cb9"
      },
      "source": [
        "s = tf.SparseTensor(indices=[[0, 1], [1, 0], [2, 3]],\n",
        "                    values=[1., 2., 3.],\n",
        "                    dense_shape=[3, 4])\n",
        "print(s)"
      ],
      "execution_count": 37,
      "outputs": [
        {
          "output_type": "stream",
          "text": [
            "SparseTensor(indices=tf.Tensor(\n",
            "[[0 1]\n",
            " [1 0]\n",
            " [2 3]], shape=(3, 2), dtype=int64), values=tf.Tensor([1. 2. 3.], shape=(3,), dtype=float32), dense_shape=tf.Tensor([3 4], shape=(2,), dtype=int64))\n"
          ],
          "name": "stdout"
        }
      ]
    },
    {
      "cell_type": "code",
      "metadata": {
        "id": "98izxKFqFjzp",
        "colab_type": "code",
        "colab": {
          "base_uri": "https://localhost:8080/",
          "height": 85
        },
        "outputId": "abe81b5a-0cda-4d35-d358-11027ea860d2"
      },
      "source": [
        "tf.sparse.to_dense(s)"
      ],
      "execution_count": 38,
      "outputs": [
        {
          "output_type": "execute_result",
          "data": {
            "text/plain": [
              "<tf.Tensor: shape=(3, 4), dtype=float32, numpy=\n",
              "array([[0., 1., 0., 0.],\n",
              "       [2., 0., 0., 0.],\n",
              "       [0., 0., 0., 3.]], dtype=float32)>"
            ]
          },
          "metadata": {
            "tags": []
          },
          "execution_count": 38
        }
      ]
    },
    {
      "cell_type": "code",
      "metadata": {
        "id": "hYXiRPvCFjzs",
        "colab_type": "code",
        "colab": {}
      },
      "source": [
        "s2 = s * 2.0"
      ],
      "execution_count": 0,
      "outputs": []
    },
    {
      "cell_type": "code",
      "metadata": {
        "id": "w2_Yv0B1Fjzt",
        "colab_type": "code",
        "colab": {
          "base_uri": "https://localhost:8080/",
          "height": 34
        },
        "outputId": "2cf92ef4-ef32-4b72-f58e-a6d938f89e63"
      },
      "source": [
        "try:\n",
        "    s3 = s + 1.\n",
        "except TypeError as ex:\n",
        "    print(ex)"
      ],
      "execution_count": 40,
      "outputs": [
        {
          "output_type": "stream",
          "text": [
            "unsupported operand type(s) for +: 'SparseTensor' and 'float'\n"
          ],
          "name": "stdout"
        }
      ]
    },
    {
      "cell_type": "code",
      "metadata": {
        "id": "QDz0blXlFjzv",
        "colab_type": "code",
        "colab": {
          "base_uri": "https://localhost:8080/",
          "height": 85
        },
        "outputId": "e1b0e063-22d5-4fa0-9187-471c353a0df2"
      },
      "source": [
        "s4 = tf.constant([[10., 20.], [30., 40.], [50., 60.], [70., 80.]])\n",
        "tf.sparse.sparse_dense_matmul(s, s4)"
      ],
      "execution_count": 41,
      "outputs": [
        {
          "output_type": "execute_result",
          "data": {
            "text/plain": [
              "<tf.Tensor: shape=(3, 2), dtype=float32, numpy=\n",
              "array([[ 30.,  40.],\n",
              "       [ 20.,  40.],\n",
              "       [210., 240.]], dtype=float32)>"
            ]
          },
          "metadata": {
            "tags": []
          },
          "execution_count": 41
        }
      ]
    },
    {
      "cell_type": "code",
      "metadata": {
        "id": "krfvi3KSFjzx",
        "colab_type": "code",
        "colab": {
          "base_uri": "https://localhost:8080/",
          "height": 68
        },
        "outputId": "44dab885-5d79-4041-80ac-bff44ef1baeb"
      },
      "source": [
        "s5 = tf.SparseTensor(indices=[[0, 2], [0, 1]],\n",
        "                     values=[1., 2.],\n",
        "                     dense_shape=[3, 4])\n",
        "print(s5)"
      ],
      "execution_count": 42,
      "outputs": [
        {
          "output_type": "stream",
          "text": [
            "SparseTensor(indices=tf.Tensor(\n",
            "[[0 2]\n",
            " [0 1]], shape=(2, 2), dtype=int64), values=tf.Tensor([1. 2.], shape=(2,), dtype=float32), dense_shape=tf.Tensor([3 4], shape=(2,), dtype=int64))\n"
          ],
          "name": "stdout"
        }
      ]
    },
    {
      "cell_type": "code",
      "metadata": {
        "id": "2EhpKa5GFjzz",
        "colab_type": "code",
        "colab": {
          "base_uri": "https://localhost:8080/",
          "height": 85
        },
        "outputId": "a0d332e5-69ea-44a3-ca32-3c173669d560"
      },
      "source": [
        "try:\n",
        "    tf.sparse.to_dense(s5)\n",
        "except tf.errors.InvalidArgumentError as ex:\n",
        "    print(ex)"
      ],
      "execution_count": 43,
      "outputs": [
        {
          "output_type": "stream",
          "text": [
            "indices[1] = [0,1] is out of order. Many sparse ops require sorted indices.\n",
            "    Use `tf.sparse.reorder` to create a correctly ordered copy.\n",
            "\n",
            " [Op:SparseToDense]\n"
          ],
          "name": "stdout"
        }
      ]
    },
    {
      "cell_type": "code",
      "metadata": {
        "id": "WsXPnzSHFjz1",
        "colab_type": "code",
        "colab": {
          "base_uri": "https://localhost:8080/",
          "height": 85
        },
        "outputId": "2e6ca10c-3fb3-4ac8-f963-42378686cb8e"
      },
      "source": [
        "s6 = tf.sparse.reorder(s5)\n",
        "tf.sparse.to_dense(s6)"
      ],
      "execution_count": 44,
      "outputs": [
        {
          "output_type": "execute_result",
          "data": {
            "text/plain": [
              "<tf.Tensor: shape=(3, 4), dtype=float32, numpy=\n",
              "array([[0., 2., 1., 0.],\n",
              "       [0., 0., 0., 0.],\n",
              "       [0., 0., 0., 0.]], dtype=float32)>"
            ]
          },
          "metadata": {
            "tags": []
          },
          "execution_count": 44
        }
      ]
    },
    {
      "cell_type": "markdown",
      "metadata": {
        "id": "UQb9uddxFjz4",
        "colab_type": "text"
      },
      "source": [
        "### Variables"
      ]
    },
    {
      "cell_type": "code",
      "metadata": {
        "id": "V7qNd23YFjz4",
        "colab_type": "code",
        "colab": {
          "base_uri": "https://localhost:8080/",
          "height": 68
        },
        "outputId": "746523b2-14b7-4bb9-a1e3-30c21763f27b"
      },
      "source": [
        "v = tf.Variable([[1., 2., 3.], [4., 5., 6.]])\n",
        "v"
      ],
      "execution_count": 45,
      "outputs": [
        {
          "output_type": "execute_result",
          "data": {
            "text/plain": [
              "<tf.Variable 'Variable:0' shape=(2, 3) dtype=float32, numpy=\n",
              "array([[1., 2., 3.],\n",
              "       [4., 5., 6.]], dtype=float32)>"
            ]
          },
          "metadata": {
            "tags": []
          },
          "execution_count": 45
        }
      ]
    },
    {
      "cell_type": "code",
      "metadata": {
        "id": "DTkoh5TTFjz6",
        "colab_type": "code",
        "colab": {
          "base_uri": "https://localhost:8080/",
          "height": 68
        },
        "outputId": "e4165a83-b82b-4f0d-9923-227be70a5930"
      },
      "source": [
        "v.value()"
      ],
      "execution_count": 46,
      "outputs": [
        {
          "output_type": "execute_result",
          "data": {
            "text/plain": [
              "<tf.Tensor: shape=(2, 3), dtype=float32, numpy=\n",
              "array([[1., 2., 3.],\n",
              "       [4., 5., 6.]], dtype=float32)>"
            ]
          },
          "metadata": {
            "tags": []
          },
          "execution_count": 46
        }
      ]
    },
    {
      "cell_type": "code",
      "metadata": {
        "id": "sXgd2UiyFjz9",
        "colab_type": "code",
        "colab": {
          "base_uri": "https://localhost:8080/",
          "height": 51
        },
        "outputId": "dcf30a58-fb32-4ce2-9848-63a702e26451"
      },
      "source": [
        "v.numpy()"
      ],
      "execution_count": 47,
      "outputs": [
        {
          "output_type": "execute_result",
          "data": {
            "text/plain": [
              "array([[1., 2., 3.],\n",
              "       [4., 5., 6.]], dtype=float32)"
            ]
          },
          "metadata": {
            "tags": []
          },
          "execution_count": 47
        }
      ]
    },
    {
      "cell_type": "code",
      "metadata": {
        "id": "n3MTi1B8Fjz_",
        "colab_type": "code",
        "colab": {
          "base_uri": "https://localhost:8080/",
          "height": 68
        },
        "outputId": "a2a15f7a-7832-43b2-c500-4b26cc93425e"
      },
      "source": [
        "v.assign(2 * v)"
      ],
      "execution_count": 48,
      "outputs": [
        {
          "output_type": "execute_result",
          "data": {
            "text/plain": [
              "<tf.Variable 'UnreadVariable' shape=(2, 3) dtype=float32, numpy=\n",
              "array([[ 2.,  4.,  6.],\n",
              "       [ 8., 10., 12.]], dtype=float32)>"
            ]
          },
          "metadata": {
            "tags": []
          },
          "execution_count": 48
        }
      ]
    },
    {
      "cell_type": "code",
      "metadata": {
        "id": "cKKwPu7qFj0A",
        "colab_type": "code",
        "colab": {
          "base_uri": "https://localhost:8080/",
          "height": 68
        },
        "outputId": "8f52bd82-55b8-4ac7-bec4-e74c493ebba4"
      },
      "source": [
        "v[0, 1].assign(42)"
      ],
      "execution_count": 49,
      "outputs": [
        {
          "output_type": "execute_result",
          "data": {
            "text/plain": [
              "<tf.Variable 'UnreadVariable' shape=(2, 3) dtype=float32, numpy=\n",
              "array([[ 2., 42.,  6.],\n",
              "       [ 8., 10., 12.]], dtype=float32)>"
            ]
          },
          "metadata": {
            "tags": []
          },
          "execution_count": 49
        }
      ]
    },
    {
      "cell_type": "code",
      "metadata": {
        "id": "ZSq-0Y69Fj0C",
        "colab_type": "code",
        "colab": {
          "base_uri": "https://localhost:8080/",
          "height": 68
        },
        "outputId": "3e7e6aaf-fe1e-455b-e8c5-5892781e9d71"
      },
      "source": [
        "v[1].assign([7., 8., 9.])"
      ],
      "execution_count": 50,
      "outputs": [
        {
          "output_type": "execute_result",
          "data": {
            "text/plain": [
              "<tf.Variable 'UnreadVariable' shape=(2, 3) dtype=float32, numpy=\n",
              "array([[ 2., 42.,  6.],\n",
              "       [ 7.,  8.,  9.]], dtype=float32)>"
            ]
          },
          "metadata": {
            "tags": []
          },
          "execution_count": 50
        }
      ]
    },
    {
      "cell_type": "code",
      "metadata": {
        "id": "K3gsLZR-Fj0E",
        "colab_type": "code",
        "colab": {
          "base_uri": "https://localhost:8080/",
          "height": 34
        },
        "outputId": "1f224cd2-ccf7-42b3-8e62-48ad76f99397"
      },
      "source": [
        "try:\n",
        "    v[1] = [7., 8., 9.]\n",
        "except TypeError as ex:\n",
        "    print(ex)"
      ],
      "execution_count": 51,
      "outputs": [
        {
          "output_type": "stream",
          "text": [
            "'ResourceVariable' object does not support item assignment\n"
          ],
          "name": "stdout"
        }
      ]
    },
    {
      "cell_type": "code",
      "metadata": {
        "id": "HUH6z7v2Fj0H",
        "colab_type": "code",
        "colab": {
          "base_uri": "https://localhost:8080/",
          "height": 68
        },
        "outputId": "1b9ff177-f3f4-4fa2-c697-0225f6c2de42"
      },
      "source": [
        "sparse_delta = tf.IndexedSlices(values=[[1., 2., 3.], [4., 5., 6.]],\n",
        "                                indices=[1, 0])\n",
        "v.scatter_update(sparse_delta)"
      ],
      "execution_count": 52,
      "outputs": [
        {
          "output_type": "execute_result",
          "data": {
            "text/plain": [
              "<tf.Variable 'UnreadVariable' shape=(2, 3) dtype=float32, numpy=\n",
              "array([[4., 5., 6.],\n",
              "       [1., 2., 3.]], dtype=float32)>"
            ]
          },
          "metadata": {
            "tags": []
          },
          "execution_count": 52
        }
      ]
    },
    {
      "cell_type": "code",
      "metadata": {
        "id": "gvgwfnBcFj0J",
        "colab_type": "code",
        "colab": {
          "base_uri": "https://localhost:8080/",
          "height": 68
        },
        "outputId": "ff3d79f9-7007-4fd9-82c0-fd9e34a087c2"
      },
      "source": [
        "v.scatter_nd_update(indices=[[0, 0], [1, 2]],\n",
        "                    updates=[100., 200.])"
      ],
      "execution_count": 53,
      "outputs": [
        {
          "output_type": "execute_result",
          "data": {
            "text/plain": [
              "<tf.Variable 'UnreadVariable' shape=(2, 3) dtype=float32, numpy=\n",
              "array([[100.,   5.,   6.],\n",
              "       [  1.,   2., 200.]], dtype=float32)>"
            ]
          },
          "metadata": {
            "tags": []
          },
          "execution_count": 53
        }
      ]
    },
    {
      "cell_type": "markdown",
      "metadata": {
        "id": "tXKgL6JrFj0K",
        "colab_type": "text"
      },
      "source": [
        "### Devices"
      ]
    },
    {
      "cell_type": "code",
      "metadata": {
        "id": "iPhLkKF0Fj0L",
        "colab_type": "code",
        "colab": {}
      },
      "source": [
        "with tf.device(\"/cpu:0\"):\n",
        "    t = tf.constant([[1., 2., 3.], [4., 5., 6.]])"
      ],
      "execution_count": 0,
      "outputs": []
    },
    {
      "cell_type": "code",
      "metadata": {
        "id": "0G5GQ1DqFj0M",
        "colab_type": "code",
        "colab": {
          "base_uri": "https://localhost:8080/",
          "height": 34
        },
        "outputId": "f224f6aa-09c6-4921-9cf5-5c84c46d84fa"
      },
      "source": [
        "t.device"
      ],
      "execution_count": 55,
      "outputs": [
        {
          "output_type": "execute_result",
          "data": {
            "text/plain": [
              "'/job:localhost/replica:0/task:0/device:CPU:0'"
            ]
          },
          "metadata": {
            "tags": []
          },
          "execution_count": 55
        }
      ]
    },
    {
      "cell_type": "code",
      "metadata": {
        "id": "2a_btHQrFj0N",
        "colab_type": "code",
        "colab": {
          "base_uri": "https://localhost:8080/",
          "height": 105
        },
        "outputId": "72f1ea7b-c24c-4bae-f4d8-d50aa573c2e1"
      },
      "source": [
        "if tf.test.is_gpu_available():\n",
        "    with tf.device(\"/gpu:0\"):\n",
        "        t2 = tf.constant([[1., 2., 3.], [4., 5., 6.]])\n",
        "    print(t2.device)"
      ],
      "execution_count": 56,
      "outputs": [
        {
          "output_type": "stream",
          "text": [
            "WARNING:tensorflow:From <ipython-input-56-53646bc4cad9>:1: is_gpu_available (from tensorflow.python.framework.test_util) is deprecated and will be removed in a future version.\n",
            "Instructions for updating:\n",
            "Use `tf.config.list_physical_devices('GPU')` instead.\n",
            "/job:localhost/replica:0/task:0/device:CPU:0\n"
          ],
          "name": "stdout"
        }
      ]
    },
    {
      "cell_type": "markdown",
      "metadata": {
        "id": "g-fAfovKFj0O",
        "colab_type": "text"
      },
      "source": [
        "![Exercise](https://c1.staticflickr.com/9/8101/8553474140_c50cf08708_b.jpg)"
      ]
    },
    {
      "cell_type": "markdown",
      "metadata": {
        "id": "K86K6q6KFj0P",
        "colab_type": "text"
      },
      "source": [
        "## Exercise 1 – Custom loss function"
      ]
    },
    {
      "cell_type": "markdown",
      "metadata": {
        "id": "AciCq5FvFj0Q",
        "colab_type": "text"
      },
      "source": [
        "Let's start by loading and preparing the California housing dataset. We first load it, then split it into a training set, a validation set and a test set, and finally we scale it:"
      ]
    },
    {
      "cell_type": "code",
      "metadata": {
        "id": "uOSGyrhoFj0Q",
        "colab_type": "code",
        "colab": {
          "base_uri": "https://localhost:8080/",
          "height": 34
        },
        "outputId": "34fa9a76-5e18-4fa2-c742-245567d70709"
      },
      "source": [
        "from sklearn.datasets import fetch_california_housing\n",
        "from sklearn.model_selection import train_test_split\n",
        "from sklearn.preprocessing import StandardScaler\n",
        "\n",
        "housing = fetch_california_housing()\n",
        "X_train_full, X_test, y_train_full, y_test = train_test_split(\n",
        "    housing.data, housing.target.reshape(-1, 1), random_state=42)\n",
        "X_train, X_valid, y_train, y_valid = train_test_split(\n",
        "    X_train_full, y_train_full, random_state=42)\n",
        "\n",
        "scaler = StandardScaler()\n",
        "X_train_scaled = scaler.fit_transform(X_train)\n",
        "X_valid_scaled = scaler.transform(X_valid)\n",
        "X_test_scaled = scaler.transform(X_test)"
      ],
      "execution_count": 57,
      "outputs": [
        {
          "output_type": "stream",
          "text": [
            "Downloading Cal. housing from https://ndownloader.figshare.com/files/5976036 to /root/scikit_learn_data\n"
          ],
          "name": "stderr"
        }
      ]
    },
    {
      "cell_type": "markdown",
      "metadata": {
        "id": "X8-p0oltFj0S",
        "colab_type": "text"
      },
      "source": [
        "### 1.1)\n",
        "Create an `my_mse()` function with two arguments: the true labels `y_true` and the model predictions `y_pred`. Make it return the mean squared error using TensorFlow operations. Note that you could write your own custom metrics in exactly the same way. **Tip**: recall that the MSE is the mean of the squares of prediction errors, which are the differences between the predictions and the labels, so you will need to use `tf.reduce_mean()` and `tf.square()`."
      ]
    },
    {
      "cell_type": "code",
      "metadata": {
        "id": "_yHcVU7MFj0S",
        "colab_type": "code",
        "colab": {}
      },
      "source": [
        ""
      ],
      "execution_count": 0,
      "outputs": []
    },
    {
      "cell_type": "code",
      "metadata": {
        "id": "7ZPkdriHFj0U",
        "colab_type": "code",
        "colab": {}
      },
      "source": [
        ""
      ],
      "execution_count": 0,
      "outputs": []
    },
    {
      "cell_type": "code",
      "metadata": {
        "id": "lelwSqTDFj0V",
        "colab_type": "code",
        "colab": {}
      },
      "source": [
        ""
      ],
      "execution_count": 0,
      "outputs": []
    },
    {
      "cell_type": "markdown",
      "metadata": {
        "id": "Gu5L2WRoFj0W",
        "colab_type": "text"
      },
      "source": [
        "### 1.2)\n",
        "Compile the following model, passing it your custom loss function, then train it and evaluate it. **Tip**: don't forget to use the scaled sets."
      ]
    },
    {
      "cell_type": "code",
      "metadata": {
        "id": "mmiLtoWKFj0X",
        "colab_type": "code",
        "colab": {}
      },
      "source": [
        "model = keras.models.Sequential([\n",
        "    keras.layers.Dense(30, activation=\"relu\", input_shape=X_train.shape[1:]),\n",
        "    keras.layers.Dense(1),\n",
        "])"
      ],
      "execution_count": 0,
      "outputs": []
    },
    {
      "cell_type": "code",
      "metadata": {
        "id": "7Kk8qeLKFj0Y",
        "colab_type": "code",
        "colab": {}
      },
      "source": [
        ""
      ],
      "execution_count": 0,
      "outputs": []
    },
    {
      "cell_type": "code",
      "metadata": {
        "id": "eAEZpfWuFj0a",
        "colab_type": "code",
        "colab": {}
      },
      "source": [
        ""
      ],
      "execution_count": 0,
      "outputs": []
    },
    {
      "cell_type": "code",
      "metadata": {
        "id": "z-GjL3uVFj0a",
        "colab_type": "code",
        "colab": {}
      },
      "source": [
        ""
      ],
      "execution_count": 0,
      "outputs": []
    },
    {
      "cell_type": "markdown",
      "metadata": {
        "id": "7XHpuXPGFj0b",
        "colab_type": "text"
      },
      "source": [
        "### 1.3)\n",
        "Try building and compiling the model again, this time adding `\"mse\"` (or equivalently `\"mean_squared_error\"` or `keras.losses.mean_squared_error`) to the list of additional metrics, then train the model and make sure the `my_mse` is equal to the standard `mse`."
      ]
    },
    {
      "cell_type": "code",
      "metadata": {
        "id": "jqIQy5j5Fj0c",
        "colab_type": "code",
        "colab": {}
      },
      "source": [
        ""
      ],
      "execution_count": 0,
      "outputs": []
    },
    {
      "cell_type": "code",
      "metadata": {
        "id": "cBdTyKG_Fj0c",
        "colab_type": "code",
        "colab": {}
      },
      "source": [
        ""
      ],
      "execution_count": 0,
      "outputs": []
    },
    {
      "cell_type": "code",
      "metadata": {
        "id": "BoZ0bjL5Fj0e",
        "colab_type": "code",
        "colab": {}
      },
      "source": [
        ""
      ],
      "execution_count": 0,
      "outputs": []
    },
    {
      "cell_type": "markdown",
      "metadata": {
        "id": "FnZ47TkwFj0g",
        "colab_type": "text"
      },
      "source": [
        "### 1.4)\n",
        "If you want your code to be portable to other Python implementations of the Keras API, you should use the operations in `keras.backend` rather than TensorFlow operations directly. This package contains thin wrappers around the backend's operations (for example, `keras.backend.square()` simply calls `tf.square()`). Try reimplementing the `my_mse()` function this way and use it to train and evaluate your model again. **Tip**: people frequently define `K = keras.backend` to make their code more readable."
      ]
    },
    {
      "cell_type": "code",
      "metadata": {
        "id": "bydnwKu5Fj0h",
        "colab_type": "code",
        "colab": {}
      },
      "source": [
        ""
      ],
      "execution_count": 0,
      "outputs": []
    },
    {
      "cell_type": "code",
      "metadata": {
        "id": "8P796QKiFj0i",
        "colab_type": "code",
        "colab": {}
      },
      "source": [
        ""
      ],
      "execution_count": 0,
      "outputs": []
    },
    {
      "cell_type": "code",
      "metadata": {
        "id": "nimVBA-vFj0k",
        "colab_type": "code",
        "colab": {}
      },
      "source": [
        ""
      ],
      "execution_count": 0,
      "outputs": []
    },
    {
      "cell_type": "markdown",
      "metadata": {
        "id": "gNhDMsD-Fj0l",
        "colab_type": "text"
      },
      "source": [
        "![Exercise solution](https://camo.githubusercontent.com/250388fde3fac9135ead9471733ee28e049f7a37/68747470733a2f2f75706c6f61642e77696b696d656469612e6f72672f77696b6970656469612f636f6d6d6f6e732f302f30362f46696c6f735f736567756e646f5f6c6f676f5f253238666c69707065642532392e6a7067)"
      ]
    },
    {
      "cell_type": "markdown",
      "metadata": {
        "id": "Wi2OTnzdFj0l",
        "colab_type": "text"
      },
      "source": [
        "### 1.1)\n",
        "Create an `my_mse()` function with two arguments: the true labels `y_true` and the model predictions `y_pred`. Make it return the mean squared error using TensorFlow operations. Note that you could write your own custom metrics in exactly the same way. **Tip**: recall that the MSE is the mean of the squares of prediction errors, which are the differences between the predictions and the labels, so you will need to use `tf.reduce_mean()` and `tf.square()`."
      ]
    },
    {
      "cell_type": "code",
      "metadata": {
        "id": "93RZBQsDFj0m",
        "colab_type": "code",
        "colab": {}
      },
      "source": [
        "def my_mse(y_true, y_pred):\n",
        "    return tf.reduce_mean(tf.square(y_pred - y_true))"
      ],
      "execution_count": 0,
      "outputs": []
    },
    {
      "cell_type": "markdown",
      "metadata": {
        "id": "fvX1opr_Fj0n",
        "colab_type": "text"
      },
      "source": [
        "### 1.2)\n",
        "Compile your model, passing it your custom loss function, then train it and evaluate it. **Tip**: don't forget to use the scaled sets."
      ]
    },
    {
      "cell_type": "code",
      "metadata": {
        "id": "4cC8jGDWFj0n",
        "colab_type": "code",
        "colab": {}
      },
      "source": [
        "model = keras.models.Sequential([\n",
        "    keras.layers.Dense(30, activation=\"relu\", input_shape=X_train.shape[1:]),\n",
        "    keras.layers.Dense(1),\n",
        "])"
      ],
      "execution_count": 0,
      "outputs": []
    },
    {
      "cell_type": "code",
      "metadata": {
        "id": "uleb2tW0Fj0p",
        "colab_type": "code",
        "colab": {}
      },
      "source": [
        "model.compile(loss=my_mse, optimizer=keras.optimizers.SGD(lr=1e-3))"
      ],
      "execution_count": 0,
      "outputs": []
    },
    {
      "cell_type": "code",
      "metadata": {
        "id": "sRLWG5XqFj0r",
        "colab_type": "code",
        "colab": {
          "base_uri": "https://localhost:8080/",
          "height": 374
        },
        "outputId": "642c9bac-1cc7-4555-ed28-c85aa965188d"
      },
      "source": [
        "model.fit(X_train_scaled, y_train, epochs=10,\n",
        "          validation_data=(X_valid_scaled, y_valid))"
      ],
      "execution_count": 61,
      "outputs": [
        {
          "output_type": "stream",
          "text": [
            "Epoch 1/10\n",
            "363/363 [==============================] - 1s 2ms/step - loss: 2.1606 - val_loss: 2.3257\n",
            "Epoch 2/10\n",
            "363/363 [==============================] - 1s 2ms/step - loss: 0.7208 - val_loss: 0.8345\n",
            "Epoch 3/10\n",
            "363/363 [==============================] - 1s 2ms/step - loss: 0.6368 - val_loss: 0.6026\n",
            "Epoch 4/10\n",
            "363/363 [==============================] - 1s 2ms/step - loss: 0.5987 - val_loss: 0.5685\n",
            "Epoch 5/10\n",
            "363/363 [==============================] - 1s 2ms/step - loss: 0.5693 - val_loss: 0.5382\n",
            "Epoch 6/10\n",
            "363/363 [==============================] - 1s 2ms/step - loss: 0.5444 - val_loss: 0.5097\n",
            "Epoch 7/10\n",
            "363/363 [==============================] - 1s 2ms/step - loss: 0.5230 - val_loss: 0.4863\n",
            "Epoch 8/10\n",
            "363/363 [==============================] - 1s 2ms/step - loss: 0.5044 - val_loss: 0.4688\n",
            "Epoch 9/10\n",
            "363/363 [==============================] - 1s 2ms/step - loss: 0.4886 - val_loss: 0.4572\n",
            "Epoch 10/10\n",
            "363/363 [==============================] - 1s 2ms/step - loss: 0.4753 - val_loss: 0.4462\n"
          ],
          "name": "stdout"
        },
        {
          "output_type": "execute_result",
          "data": {
            "text/plain": [
              "<tensorflow.python.keras.callbacks.History at 0x7f759d0d46a0>"
            ]
          },
          "metadata": {
            "tags": []
          },
          "execution_count": 61
        }
      ]
    },
    {
      "cell_type": "code",
      "metadata": {
        "id": "80vnT_khFj0s",
        "colab_type": "code",
        "colab": {
          "base_uri": "https://localhost:8080/",
          "height": 51
        },
        "outputId": "b1b11aed-fc6c-47f0-a34a-15da6f68f453"
      },
      "source": [
        "model.evaluate(X_test_scaled, y_test)"
      ],
      "execution_count": 62,
      "outputs": [
        {
          "output_type": "stream",
          "text": [
            "162/162 [==============================] - 0s 1ms/step - loss: 0.4586\n"
          ],
          "name": "stdout"
        },
        {
          "output_type": "execute_result",
          "data": {
            "text/plain": [
              "0.45855703949928284"
            ]
          },
          "metadata": {
            "tags": []
          },
          "execution_count": 62
        }
      ]
    },
    {
      "cell_type": "markdown",
      "metadata": {
        "id": "XILjOgDAFj0u",
        "colab_type": "text"
      },
      "source": [
        "### 1.3)\n",
        "Try building and compiling the model again, this time adding `\"mse\"` (or equivalently `\"mean_squared_error\"` or `keras.losses.mean_squared_error`) to the list of additional metrics, then train the model and make sure the `my_mse` is equal to the standard `mse`."
      ]
    },
    {
      "cell_type": "code",
      "metadata": {
        "id": "HHWZUQSyFj0u",
        "colab_type": "code",
        "colab": {
          "base_uri": "https://localhost:8080/",
          "height": 391
        },
        "outputId": "5dd32e74-4ba8-4d75-ebd8-319fadad8c72"
      },
      "source": [
        "model = keras.models.Sequential([\n",
        "    keras.layers.Dense(30, activation=\"relu\", input_shape=X_train.shape[1:]),\n",
        "    keras.layers.Dense(1),\n",
        "])\n",
        "model.compile(loss=my_mse, optimizer=keras.optimizers.SGD(lr=1e-3),\n",
        "              metrics=[\"mean_squared_error\"])\n",
        "model.fit(X_train_scaled, y_train, epochs=10,\n",
        "          validation_data=(X_valid_scaled, y_valid))\n",
        "model.evaluate(X_test_scaled, y_test)"
      ],
      "execution_count": 63,
      "outputs": [
        {
          "output_type": "stream",
          "text": [
            "Epoch 1/10\n",
            "363/363 [==============================] - 1s 2ms/step - loss: 2.1718 - mean_squared_error: 2.1718 - val_loss: 0.8087 - val_mean_squared_error: 0.8087\n",
            "Epoch 2/10\n",
            "363/363 [==============================] - 1s 2ms/step - loss: 0.6860 - mean_squared_error: 0.6860 - val_loss: 0.6115 - val_mean_squared_error: 0.6115\n",
            "Epoch 3/10\n",
            "363/363 [==============================] - 1s 2ms/step - loss: 0.6237 - mean_squared_error: 0.6237 - val_loss: 0.5825 - val_mean_squared_error: 0.5825\n",
            "Epoch 4/10\n",
            "363/363 [==============================] - 1s 2ms/step - loss: 0.5864 - mean_squared_error: 0.5864 - val_loss: 0.5480 - val_mean_squared_error: 0.5480\n",
            "Epoch 5/10\n",
            "363/363 [==============================] - 1s 2ms/step - loss: 0.5565 - mean_squared_error: 0.5565 - val_loss: 0.5187 - val_mean_squared_error: 0.5187\n",
            "Epoch 6/10\n",
            "363/363 [==============================] - 1s 2ms/step - loss: 0.5318 - mean_squared_error: 0.5318 - val_loss: 0.4880 - val_mean_squared_error: 0.4880\n",
            "Epoch 7/10\n",
            "363/363 [==============================] - 1s 2ms/step - loss: 0.5128 - mean_squared_error: 0.5128 - val_loss: 0.4882 - val_mean_squared_error: 0.4882\n",
            "Epoch 8/10\n",
            "363/363 [==============================] - 1s 2ms/step - loss: 0.4968 - mean_squared_error: 0.4968 - val_loss: 0.4583 - val_mean_squared_error: 0.4583\n",
            "Epoch 9/10\n",
            "363/363 [==============================] - 1s 2ms/step - loss: 0.4832 - mean_squared_error: 0.4832 - val_loss: 0.4444 - val_mean_squared_error: 0.4444\n",
            "Epoch 10/10\n",
            "363/363 [==============================] - 1s 2ms/step - loss: 0.4719 - mean_squared_error: 0.4719 - val_loss: 0.4387 - val_mean_squared_error: 0.4387\n",
            "162/162 [==============================] - 0s 1ms/step - loss: 0.4662 - mean_squared_error: 0.4662\n"
          ],
          "name": "stdout"
        },
        {
          "output_type": "execute_result",
          "data": {
            "text/plain": [
              "[0.46621134877204895, 0.46621134877204895]"
            ]
          },
          "metadata": {
            "tags": []
          },
          "execution_count": 63
        }
      ]
    },
    {
      "cell_type": "markdown",
      "metadata": {
        "id": "lZ_DeTD2Fj0w",
        "colab_type": "text"
      },
      "source": [
        "### 1.4)\n",
        "If you want your code to be portable to other Python implementations of the Keras API, you should use the operations in `keras.backend` rather than TensorFlow operations directly. This package contains thin wrappers around the backend's operations (for example, `keras.backend.square()` simply calls `tf.square()`). Try reimplementing the `my_mse()` function this way and use it to train and evaluate your model again. **Tip**: people frequently define `K = keras.backend` to make their code more readable."
      ]
    },
    {
      "cell_type": "code",
      "metadata": {
        "id": "xTxrvQO9Fj0w",
        "colab_type": "code",
        "colab": {}
      },
      "source": [
        "def my_portable_mse(y_true, y_pred):\n",
        "    K = keras.backend\n",
        "    return K.mean(K.square(y_pred - y_true))"
      ],
      "execution_count": 0,
      "outputs": []
    },
    {
      "cell_type": "code",
      "metadata": {
        "scrolled": true,
        "id": "QQrh_xpjFj0z",
        "colab_type": "code",
        "colab": {
          "base_uri": "https://localhost:8080/",
          "height": 391
        },
        "outputId": "3d7e47fa-0c88-4e97-f565-2c0ebe19ec70"
      },
      "source": [
        "model = keras.models.Sequential([\n",
        "    keras.layers.Dense(30, activation=\"relu\", input_shape=X_train.shape[1:]),\n",
        "    keras.layers.Dense(1),\n",
        "])\n",
        "model.compile(loss=my_portable_mse,\n",
        "              optimizer=keras.optimizers.SGD(lr=1e-3),\n",
        "              metrics=[\"mean_squared_error\"])\n",
        "model.fit(X_train_scaled, y_train, epochs=10,\n",
        "          validation_data=(X_valid_scaled, y_valid))\n",
        "model.evaluate(X_test_scaled, y_test)"
      ],
      "execution_count": 65,
      "outputs": [
        {
          "output_type": "stream",
          "text": [
            "Epoch 1/10\n",
            "363/363 [==============================] - 1s 3ms/step - loss: 2.3894 - mean_squared_error: 2.3894 - val_loss: 5.4275 - val_mean_squared_error: 5.4275\n",
            "Epoch 2/10\n",
            "363/363 [==============================] - 1s 2ms/step - loss: 0.7952 - mean_squared_error: 0.7952 - val_loss: 0.8988 - val_mean_squared_error: 0.8988\n",
            "Epoch 3/10\n",
            "363/363 [==============================] - 1s 2ms/step - loss: 0.6656 - mean_squared_error: 0.6656 - val_loss: 0.6442 - val_mean_squared_error: 0.6442\n",
            "Epoch 4/10\n",
            "363/363 [==============================] - 1s 2ms/step - loss: 0.6245 - mean_squared_error: 0.6245 - val_loss: 0.5821 - val_mean_squared_error: 0.5821\n",
            "Epoch 5/10\n",
            "363/363 [==============================] - 1s 2ms/step - loss: 0.5953 - mean_squared_error: 0.5953 - val_loss: 0.5582 - val_mean_squared_error: 0.5582\n",
            "Epoch 6/10\n",
            "363/363 [==============================] - 1s 2ms/step - loss: 0.5700 - mean_squared_error: 0.5700 - val_loss: 0.5614 - val_mean_squared_error: 0.5614\n",
            "Epoch 7/10\n",
            "363/363 [==============================] - 1s 2ms/step - loss: 0.5483 - mean_squared_error: 0.5483 - val_loss: 0.5318 - val_mean_squared_error: 0.5318\n",
            "Epoch 8/10\n",
            "363/363 [==============================] - 1s 2ms/step - loss: 0.5302 - mean_squared_error: 0.5302 - val_loss: 0.5175 - val_mean_squared_error: 0.5175\n",
            "Epoch 9/10\n",
            "363/363 [==============================] - 1s 2ms/step - loss: 0.5147 - mean_squared_error: 0.5147 - val_loss: 0.5167 - val_mean_squared_error: 0.5167\n",
            "Epoch 10/10\n",
            "363/363 [==============================] - 1s 2ms/step - loss: 0.5016 - mean_squared_error: 0.5016 - val_loss: 0.5295 - val_mean_squared_error: 0.5295\n",
            "162/162 [==============================] - 0s 2ms/step - loss: 0.4847 - mean_squared_error: 0.4847\n"
          ],
          "name": "stdout"
        },
        {
          "output_type": "execute_result",
          "data": {
            "text/plain": [
              "[0.4846990406513214, 0.4846990406513214]"
            ]
          },
          "metadata": {
            "tags": []
          },
          "execution_count": 65
        }
      ]
    },
    {
      "cell_type": "markdown",
      "metadata": {
        "id": "tVdeXDUwFj01",
        "colab_type": "text"
      },
      "source": [
        "![Exercise](https://c1.staticflickr.com/9/8101/8553474140_c50cf08708_b.jpg)"
      ]
    },
    {
      "cell_type": "markdown",
      "metadata": {
        "id": "GKomy9cRFj01",
        "colab_type": "text"
      },
      "source": [
        "## Exercise 2 – Custom layer"
      ]
    },
    {
      "cell_type": "markdown",
      "metadata": {
        "id": "HAwwfn4aFj02",
        "colab_type": "text"
      },
      "source": [
        "### 2.1)\n",
        "Some layers have no weights, such as `keras.layers.Flatten` or `keras.layers.ReLU`. If you want to create a custom layer without any weights, the simplest option is to create a `keras.layers.Lambda` layer and pass it the function to perform. For example, try creating a custom layer that applies the softplus function (log(exp(X) + 1), and try calling this layer like a regular function.\n",
        "\n",
        "**Tip**: you can use `tf.math.softplus()` rather than computing the log and the exponential manually."
      ]
    },
    {
      "cell_type": "code",
      "metadata": {
        "id": "r7yqLD81Fj02",
        "colab_type": "code",
        "colab": {}
      },
      "source": [
        ""
      ],
      "execution_count": 0,
      "outputs": []
    },
    {
      "cell_type": "code",
      "metadata": {
        "id": "VD7PIjQ7Fj04",
        "colab_type": "code",
        "colab": {}
      },
      "source": [
        ""
      ],
      "execution_count": 0,
      "outputs": []
    },
    {
      "cell_type": "code",
      "metadata": {
        "id": "oLwvoXG1Fj1D",
        "colab_type": "code",
        "colab": {}
      },
      "source": [
        ""
      ],
      "execution_count": 0,
      "outputs": []
    },
    {
      "cell_type": "markdown",
      "metadata": {
        "id": "AfBjNwd7Fj1E",
        "colab_type": "text"
      },
      "source": [
        "### 2.2)\n",
        "Create a regression model like in exercise 1, but add your softplus layer at the top (i.e., after the existing 1-unit dense layer). This can be useful to ensure that your model never predicts negative values."
      ]
    },
    {
      "cell_type": "code",
      "metadata": {
        "id": "RWWc146CFj1E",
        "colab_type": "code",
        "colab": {}
      },
      "source": [
        ""
      ],
      "execution_count": 0,
      "outputs": []
    },
    {
      "cell_type": "code",
      "metadata": {
        "id": "hHBFnUoWFj1F",
        "colab_type": "code",
        "colab": {}
      },
      "source": [
        ""
      ],
      "execution_count": 0,
      "outputs": []
    },
    {
      "cell_type": "code",
      "metadata": {
        "id": "xRK2J3ULFj1G",
        "colab_type": "code",
        "colab": {}
      },
      "source": [
        ""
      ],
      "execution_count": 0,
      "outputs": []
    },
    {
      "cell_type": "markdown",
      "metadata": {
        "id": "S45QOBWsFj1I",
        "colab_type": "text"
      },
      "source": [
        "### 2.3)\n",
        "Alternatively, try using this softplus layer as the activation function of the output layer.\n",
        "\n",
        "**Notes**:\n",
        "* setting a layer's activation function is just a handy way of adding an extra weightless layer.\n",
        "* Keras supports the softplus activation function out of the box:\n",
        "  * set `activation=\"softplus\"`\n",
        "  * or set `activation=keras.activations.softplus`\n",
        "  * or add a `keras.layers.Activation(\"softplus\")` layer to your model."
      ]
    },
    {
      "cell_type": "code",
      "metadata": {
        "id": "V8knTBCFFj1I",
        "colab_type": "code",
        "colab": {}
      },
      "source": [
        ""
      ],
      "execution_count": 0,
      "outputs": []
    },
    {
      "cell_type": "code",
      "metadata": {
        "id": "9NvXa2ASFj1J",
        "colab_type": "code",
        "colab": {}
      },
      "source": [
        ""
      ],
      "execution_count": 0,
      "outputs": []
    },
    {
      "cell_type": "code",
      "metadata": {
        "id": "jdbEHWNiFj1K",
        "colab_type": "code",
        "colab": {}
      },
      "source": [
        ""
      ],
      "execution_count": 0,
      "outputs": []
    },
    {
      "cell_type": "markdown",
      "metadata": {
        "id": "LOoYBjG1Fj1L",
        "colab_type": "text"
      },
      "source": [
        "### 2.4)\n",
        "Now let's create a custom layer with its own weights. Use the following template to create a `MyDense` layer that computes $\\phi(\\mathbf{X} \\mathbf{W}) + \\mathbf{b}$, where $\\phi$ is the (optional) activation function, $\\mathbf{X}$ is the input data, $\\mathbf{W}$ represents the kernel (i.e., connection weights), and $\\mathbf{b}$ represents the biases, then train and evaluate a model using this instead of a regular `Dense` layer.\n",
        "\n",
        "**Tips**:\n",
        "* The constructor `__init__()`:\n",
        "  * It must have all your layer's hyperparameters as arguments, and save them to instance variables. You will need the number of `units` and the optional `activation` function. To support all kinds of activation functions (strings or functions), simply create a `keras.layers.Activation` passing it the `activation` argument.\n",
        "  * The `**kwargs` argument must be passed to the base class's constructor (`super().__init__()`) so your class can support the `input_shape` argument, and more.\n",
        "* The `build()` method:\n",
        "  * The `build()` method will be called automatically by Keras when it knows the shape of the inputs. Note that the argument should really be called `batch_input_shape` since it includes the batch size.\n",
        "  * You must call `self.add_weight()` for each weight you want to create, specifying its `name`, `shape` (which often depends on the `input_shape`), how to initialize it, and whether or not it is `trainable`. You need two weights: the `kernel` (connection weights) and the `biases`. The kernel must be initialized randomly. The biases are usually initialized with zeros. **Note**: you can find many initializers in `keras.initializers`.\n",
        "  * Do not forget to call `super().build()`, so Keras knows that the model has been built.\n",
        "  * Note: you could create the weights in the constructor, but it is preferable to create them in the `build()` method, because users of your class may not always know the `input_shape` when creating the model. The first time the model is used on some actual data, the `build()` method will automatically be called with the actual `input_shape`.\n",
        "* The `call()` method:\n",
        "  * This is where to code your layer's actual computations. As before, you can use TensorFlow operations directly, or use `keras.backend` operations if you want the layer to be portable to other Keras implementations.\n",
        "* The `compute_output_shape()` method:\n",
        "  * You do not need to implement this method when using tf.keras, as the `Layer` class provides a good implementation.\n",
        "  * However, if want to port your code to another Keras implementation (such as keras-team), and if the output shape is different from the input shape, then you need to implement this method. Note that the input shape is actually the batch input shape, and the ouptut shape must be the batch output shape."
      ]
    },
    {
      "cell_type": "code",
      "metadata": {
        "id": "VOr3G2dRFj1L",
        "colab_type": "code",
        "colab": {}
      },
      "source": [
        "# This template was copied from https://keras.io/layers/writing-your-own-keras-layers/\n",
        "# I just removed the imports and replaced Layer with keras.layers.Layer.\n",
        "\n",
        "class MyLayer(keras.layers.Layer):\n",
        "    def __init__(self, output_dim, **kwargs):\n",
        "        self.output_dim = output_dim\n",
        "        super(MyLayer, self).__init__(**kwargs)\n",
        "\n",
        "    def build(self, input_shape):\n",
        "        # Create a trainable weight variable for this layer.\n",
        "        self.kernel = self.add_weight(name='kernel', \n",
        "                                      shape=(input_shape[1], self.output_dim),\n",
        "                                      initializer='uniform',\n",
        "                                      trainable=True)\n",
        "        super(MyLayer, self).build(input_shape)  # Be sure to call this at the end\n",
        "\n",
        "    def call(self, x):\n",
        "        return K.dot(x, self.kernel)\n",
        "\n",
        "    def compute_output_shape(self, input_shape):\n",
        "        return (input_shape[0], self.output_dim)"
      ],
      "execution_count": 0,
      "outputs": []
    },
    {
      "cell_type": "code",
      "metadata": {
        "id": "UcrSpDTFFj1M",
        "colab_type": "code",
        "colab": {}
      },
      "source": [
        ""
      ],
      "execution_count": 0,
      "outputs": []
    },
    {
      "cell_type": "code",
      "metadata": {
        "id": "zlPQmxAlFj1O",
        "colab_type": "code",
        "colab": {}
      },
      "source": [
        ""
      ],
      "execution_count": 0,
      "outputs": []
    },
    {
      "cell_type": "code",
      "metadata": {
        "id": "6siqTsoVFj1P",
        "colab_type": "code",
        "colab": {}
      },
      "source": [
        ""
      ],
      "execution_count": 0,
      "outputs": []
    },
    {
      "cell_type": "markdown",
      "metadata": {
        "id": "zOlFh8BSFj1R",
        "colab_type": "text"
      },
      "source": [
        "![Exercise solution](https://camo.githubusercontent.com/250388fde3fac9135ead9471733ee28e049f7a37/68747470733a2f2f75706c6f61642e77696b696d656469612e6f72672f77696b6970656469612f636f6d6d6f6e732f302f30362f46696c6f735f736567756e646f5f6c6f676f5f253238666c69707065642532392e6a7067)"
      ]
    },
    {
      "cell_type": "markdown",
      "metadata": {
        "id": "T4CP9A0VFj1S",
        "colab_type": "text"
      },
      "source": [
        "## Exercise 2 – Solution"
      ]
    },
    {
      "cell_type": "markdown",
      "metadata": {
        "id": "fmCdWvvJFj1S",
        "colab_type": "text"
      },
      "source": [
        "### 2.1)\n",
        "Some layers have no weights, such as `keras.layers.Flatten` or `keras.layers.ReLU`. If you want to create a custom layer without any weights, the simplest option is to create a `keras.layers.Lambda` layer and pass it the function to perform. For example, try creating a custom layer that applies the softplus function (log(exp(X) + 1), and try calling this layer like a regular function."
      ]
    },
    {
      "cell_type": "code",
      "metadata": {
        "id": "yk72EFK1Fj1S",
        "colab_type": "code",
        "colab": {}
      },
      "source": [
        "my_softplus = keras.layers.Lambda(lambda X: tf.nn.softplus(X))"
      ],
      "execution_count": 0,
      "outputs": []
    },
    {
      "cell_type": "code",
      "metadata": {
        "id": "xcOkvJx5Fj1T",
        "colab_type": "code",
        "colab": {
          "base_uri": "https://localhost:8080/",
          "height": 68
        },
        "outputId": "ac7f6b23-0291-40c5-b762-972b7aeb64c5"
      },
      "source": [
        "my_softplus([-10., -5., 0., 5., 10.])"
      ],
      "execution_count": 67,
      "outputs": [
        {
          "output_type": "execute_result",
          "data": {
            "text/plain": [
              "<tf.Tensor: shape=(5,), dtype=float32, numpy=\n",
              "array([4.5417706e-05, 6.7153489e-03, 6.9314718e-01, 5.0067153e+00,\n",
              "       1.0000046e+01], dtype=float32)>"
            ]
          },
          "metadata": {
            "tags": []
          },
          "execution_count": 67
        }
      ]
    },
    {
      "cell_type": "markdown",
      "metadata": {
        "id": "k5nXKhEwFj1U",
        "colab_type": "text"
      },
      "source": [
        "### 2.2)\n",
        "Create a regression model like in exercise 1, but add your softplus layer at the top (i.e., after the existing 1-unit dense layer). This can be useful to ensure that your model never predicts negative values."
      ]
    },
    {
      "cell_type": "code",
      "metadata": {
        "id": "h1p_1-G_Fj1V",
        "colab_type": "code",
        "colab": {
          "base_uri": "https://localhost:8080/",
          "height": 391
        },
        "outputId": "26f6693a-25d6-47e6-ba82-e4449d5ce234"
      },
      "source": [
        "model = keras.models.Sequential([\n",
        "    keras.layers.Dense(30, activation=\"relu\", input_shape=X_train.shape[1:]),\n",
        "    keras.layers.Dense(1),\n",
        "    my_softplus\n",
        "])\n",
        "model.compile(loss=my_portable_mse, optimizer=keras.optimizers.SGD(lr=1e-3))\n",
        "model.fit(X_train_scaled, y_train, epochs=10,\n",
        "          validation_data=(X_valid_scaled, y_valid))\n",
        "model.evaluate(X_test_scaled, y_test)"
      ],
      "execution_count": 68,
      "outputs": [
        {
          "output_type": "stream",
          "text": [
            "Epoch 1/10\n",
            "363/363 [==============================] - 1s 2ms/step - loss: 2.1776 - val_loss: 2.2139\n",
            "Epoch 2/10\n",
            "363/363 [==============================] - 1s 2ms/step - loss: 0.8318 - val_loss: 0.9146\n",
            "Epoch 3/10\n",
            "363/363 [==============================] - 1s 2ms/step - loss: 0.7026 - val_loss: 0.6713\n",
            "Epoch 4/10\n",
            "363/363 [==============================] - 1s 2ms/step - loss: 0.6621 - val_loss: 0.6358\n",
            "Epoch 5/10\n",
            "363/363 [==============================] - 1s 2ms/step - loss: 0.6313 - val_loss: 0.6059\n",
            "Epoch 6/10\n",
            "363/363 [==============================] - 1s 2ms/step - loss: 0.6039 - val_loss: 0.5787\n",
            "Epoch 7/10\n",
            "363/363 [==============================] - 1s 2ms/step - loss: 0.5792 - val_loss: 0.5563\n",
            "Epoch 8/10\n",
            "363/363 [==============================] - 1s 2ms/step - loss: 0.5570 - val_loss: 0.5335\n",
            "Epoch 9/10\n",
            "363/363 [==============================] - 1s 2ms/step - loss: 0.5369 - val_loss: 0.5165\n",
            "Epoch 10/10\n",
            "363/363 [==============================] - 1s 2ms/step - loss: 0.5201 - val_loss: 0.4989\n",
            "162/162 [==============================] - 0s 1ms/step - loss: 0.5081\n"
          ],
          "name": "stdout"
        },
        {
          "output_type": "execute_result",
          "data": {
            "text/plain": [
              "0.5080794095993042"
            ]
          },
          "metadata": {
            "tags": []
          },
          "execution_count": 68
        }
      ]
    },
    {
      "cell_type": "markdown",
      "metadata": {
        "id": "gzQ8ZUkfFj1W",
        "colab_type": "text"
      },
      "source": [
        "### 2.3)\n",
        "Alternatively, try using this softplus layer as the activation function of the output layer."
      ]
    },
    {
      "cell_type": "code",
      "metadata": {
        "id": "-SJHtRquFj1W",
        "colab_type": "code",
        "colab": {
          "base_uri": "https://localhost:8080/",
          "height": 391
        },
        "outputId": "d5174ce2-5a40-4fa5-c9d6-cc09744049f7"
      },
      "source": [
        "model = keras.models.Sequential([\n",
        "    keras.layers.Dense(30, activation=\"relu\", input_shape=X_train.shape[1:]),\n",
        "    keras.layers.Dense(1, activation=my_softplus)\n",
        "#   A few alternatives...\n",
        "#   keras.layers.Dense(1, activation=tf.function(lambda X: my_softplus(X)))\n",
        "#   keras.layers.Dense(1, activation=\"softplus\")\n",
        "#   keras.layers.Dense(1, activation=keras.activations.softplus)\n",
        "#   keras.layers.Dense(1), keras.layers.Activation(\"softplus\")\n",
        "])\n",
        "\n",
        "model.compile(loss=my_portable_mse, optimizer=keras.optimizers.SGD(lr=1e-3))\n",
        "model.fit(X_train_scaled, y_train, epochs=10,\n",
        "          validation_data=(X_valid_scaled, y_valid))\n",
        "model.evaluate(X_test_scaled, y_test)"
      ],
      "execution_count": 69,
      "outputs": [
        {
          "output_type": "stream",
          "text": [
            "Epoch 1/10\n",
            "363/363 [==============================] - 1s 2ms/step - loss: 2.5836 - val_loss: 4.2680\n",
            "Epoch 2/10\n",
            "363/363 [==============================] - 1s 2ms/step - loss: 0.9811 - val_loss: 0.6775\n",
            "Epoch 3/10\n",
            "363/363 [==============================] - 1s 2ms/step - loss: 0.6800 - val_loss: 0.6057\n",
            "Epoch 4/10\n",
            "363/363 [==============================] - 1s 2ms/step - loss: 0.6314 - val_loss: 0.5738\n",
            "Epoch 5/10\n",
            "363/363 [==============================] - 1s 2ms/step - loss: 0.5993 - val_loss: 0.5465\n",
            "Epoch 6/10\n",
            "363/363 [==============================] - 1s 2ms/step - loss: 0.5721 - val_loss: 0.5240\n",
            "Epoch 7/10\n",
            "363/363 [==============================] - 1s 2ms/step - loss: 0.5490 - val_loss: 0.5028\n",
            "Epoch 8/10\n",
            "363/363 [==============================] - 1s 2ms/step - loss: 0.5290 - val_loss: 0.4849\n",
            "Epoch 9/10\n",
            "363/363 [==============================] - 1s 2ms/step - loss: 0.5115 - val_loss: 0.4694\n",
            "Epoch 10/10\n",
            "363/363 [==============================] - 1s 2ms/step - loss: 0.4972 - val_loss: 0.4562\n",
            "162/162 [==============================] - 0s 1ms/step - loss: 0.4757\n"
          ],
          "name": "stdout"
        },
        {
          "output_type": "execute_result",
          "data": {
            "text/plain": [
              "0.4757061004638672"
            ]
          },
          "metadata": {
            "tags": []
          },
          "execution_count": 69
        }
      ]
    },
    {
      "cell_type": "markdown",
      "metadata": {
        "id": "hs000_o6Fj1X",
        "colab_type": "text"
      },
      "source": [
        "### 2.4)\n",
        "Now let's create a custom layer with its own weights. Use the following template to create a `MyDense` layer that computes $\\phi(\\mathbf{X} \\mathbf{W}) + \\mathbf{b}$, where $\\phi$ is the (optional) activation function, $\\mathbf{X}$ is the input data, $\\mathbf{W}$ represents the kernel (i.e., connection weights), and $\\mathbf{b}$ represents the biases, then train and evaluate a model using this instead of a regular `Dense` layer."
      ]
    },
    {
      "cell_type": "code",
      "metadata": {
        "id": "-QThj-BQFj1X",
        "colab_type": "code",
        "colab": {}
      },
      "source": [
        "class MyDense(keras.layers.Layer):\n",
        "    def __init__(self, units, activation=None, **kwargs):\n",
        "        self.units = units\n",
        "        self.activation = keras.layers.Activation(activation)\n",
        "        super(MyDense, self).__init__(**kwargs)\n",
        "\n",
        "    def build(self, input_shape):\n",
        "        self.kernel = self.add_weight(name='kernel', \n",
        "                                      shape=(input_shape[1], self.units),\n",
        "                                      initializer='uniform',\n",
        "                                      trainable=True)\n",
        "        self.biases = self.add_weight(name='bias', \n",
        "                                      shape=(self.units,),\n",
        "                                      initializer='zeros',\n",
        "                                      trainable=True)\n",
        "        super(MyDense, self).build(input_shape)\n",
        "\n",
        "    def call(self, X):\n",
        "        return self.activation(X @ self.kernel + self.biases)"
      ],
      "execution_count": 0,
      "outputs": []
    },
    {
      "cell_type": "code",
      "metadata": {
        "id": "ljkY-ArkFj1Z",
        "colab_type": "code",
        "colab": {}
      },
      "source": [
        "model = keras.models.Sequential([\n",
        "    MyDense(30, activation=\"relu\", input_shape=X_train.shape[1:]),\n",
        "    MyDense(1)\n",
        "])"
      ],
      "execution_count": 0,
      "outputs": []
    },
    {
      "cell_type": "code",
      "metadata": {
        "scrolled": false,
        "id": "frpsu56pFj1a",
        "colab_type": "code",
        "colab": {
          "base_uri": "https://localhost:8080/",
          "height": 391
        },
        "outputId": "da888c8c-6dec-4300-aebe-8caebe75970b"
      },
      "source": [
        "model.compile(loss=\"mse\", optimizer=keras.optimizers.SGD(lr=1e-3))\n",
        "model.fit(X_train_scaled, y_train, epochs=10,\n",
        "          validation_data=(X_valid_scaled, y_valid))\n",
        "model.evaluate(X_test_scaled, y_test)"
      ],
      "execution_count": 72,
      "outputs": [
        {
          "output_type": "stream",
          "text": [
            "Epoch 1/10\n",
            "363/363 [==============================] - 1s 2ms/step - loss: 3.5667 - val_loss: 2.1241\n",
            "Epoch 2/10\n",
            "363/363 [==============================] - 1s 2ms/step - loss: 1.6695 - val_loss: 1.2522\n",
            "Epoch 3/10\n",
            "363/363 [==============================] - 1s 2ms/step - loss: 1.0693 - val_loss: 0.9105\n",
            "Epoch 4/10\n",
            "363/363 [==============================] - 1s 2ms/step - loss: 0.8194 - val_loss: 0.7470\n",
            "Epoch 5/10\n",
            "363/363 [==============================] - 1s 2ms/step - loss: 0.7186 - val_loss: 0.6669\n",
            "Epoch 6/10\n",
            "363/363 [==============================] - 1s 2ms/step - loss: 0.6711 - val_loss: 0.6248\n",
            "Epoch 7/10\n",
            "363/363 [==============================] - 1s 2ms/step - loss: 0.6416 - val_loss: 0.5971\n",
            "Epoch 8/10\n",
            "363/363 [==============================] - 1s 2ms/step - loss: 0.6192 - val_loss: 0.5749\n",
            "Epoch 9/10\n",
            "363/363 [==============================] - 1s 2ms/step - loss: 0.6000 - val_loss: 0.5561\n",
            "Epoch 10/10\n",
            "363/363 [==============================] - 1s 2ms/step - loss: 0.5824 - val_loss: 0.5393\n",
            "162/162 [==============================] - 0s 1ms/step - loss: 0.5639\n"
          ],
          "name": "stdout"
        },
        {
          "output_type": "execute_result",
          "data": {
            "text/plain": [
              "0.5638962984085083"
            ]
          },
          "metadata": {
            "tags": []
          },
          "execution_count": 72
        }
      ]
    },
    {
      "cell_type": "markdown",
      "metadata": {
        "id": "hHN_9Ir9Fj1b",
        "colab_type": "text"
      },
      "source": [
        "![Exercise](https://c1.staticflickr.com/9/8101/8553474140_c50cf08708_b.jpg)"
      ]
    },
    {
      "cell_type": "markdown",
      "metadata": {
        "id": "WCLHTqyPFj1b",
        "colab_type": "text"
      },
      "source": [
        "## Exercise 3 – TensorFlow Functions"
      ]
    },
    {
      "cell_type": "markdown",
      "metadata": {
        "id": "vQJadv6sFj1c",
        "colab_type": "text"
      },
      "source": [
        "### 3.1)\n",
        "Examine and run the following code examples."
      ]
    },
    {
      "cell_type": "code",
      "metadata": {
        "id": "TJ8Xvg4LFj1c",
        "colab_type": "code",
        "colab": {}
      },
      "source": [
        "def scaled_elu(z, scale=1.0, alpha=1.0):\n",
        "    is_positive = tf.greater_equal(z, 0.0)\n",
        "    return scale * tf.where(is_positive, z, alpha * tf.nn.elu(z))"
      ],
      "execution_count": 0,
      "outputs": []
    },
    {
      "cell_type": "code",
      "metadata": {
        "id": "xEjrey74Fj1d",
        "colab_type": "code",
        "colab": {
          "base_uri": "https://localhost:8080/",
          "height": 34
        },
        "outputId": "ed3d5aef-cfe7-441b-b321-fce840d5ed07"
      },
      "source": [
        "scaled_elu(tf.constant(-3.))"
      ],
      "execution_count": 80,
      "outputs": [
        {
          "output_type": "execute_result",
          "data": {
            "text/plain": [
              "<tf.Tensor: shape=(), dtype=float32, numpy=-0.95021296>"
            ]
          },
          "metadata": {
            "tags": []
          },
          "execution_count": 80
        }
      ]
    },
    {
      "cell_type": "code",
      "metadata": {
        "id": "uC_ZxWsAFj1e",
        "colab_type": "code",
        "colab": {
          "base_uri": "https://localhost:8080/",
          "height": 34
        },
        "outputId": "13d3cfe0-b04e-44ec-892c-9acdba5eeb47"
      },
      "source": [
        "scaled_elu(tf.constant([-3., 2.5]))"
      ],
      "execution_count": 81,
      "outputs": [
        {
          "output_type": "execute_result",
          "data": {
            "text/plain": [
              "<tf.Tensor: shape=(2,), dtype=float32, numpy=array([-0.95021296,  2.5       ], dtype=float32)>"
            ]
          },
          "metadata": {
            "tags": []
          },
          "execution_count": 81
        }
      ]
    },
    {
      "cell_type": "code",
      "metadata": {
        "id": "7jQZ157xFj1f",
        "colab_type": "code",
        "colab": {
          "base_uri": "https://localhost:8080/",
          "height": 34
        },
        "outputId": "7b7eac30-0238-4fdd-e4ce-00c7d96013ff"
      },
      "source": [
        "scaled_elu_tf = tf.function(scaled_elu)\n",
        "scaled_elu_tf"
      ],
      "execution_count": 82,
      "outputs": [
        {
          "output_type": "execute_result",
          "data": {
            "text/plain": [
              "<tensorflow.python.eager.def_function.Function at 0x7f75948f32b0>"
            ]
          },
          "metadata": {
            "tags": []
          },
          "execution_count": 82
        }
      ]
    },
    {
      "cell_type": "code",
      "metadata": {
        "id": "giBD_7KDFj1h",
        "colab_type": "code",
        "colab": {
          "base_uri": "https://localhost:8080/",
          "height": 34
        },
        "outputId": "61413757-a672-466a-94c7-2f048f256646"
      },
      "source": [
        "scaled_elu_tf(tf.constant(-3.))"
      ],
      "execution_count": 83,
      "outputs": [
        {
          "output_type": "execute_result",
          "data": {
            "text/plain": [
              "<tf.Tensor: shape=(), dtype=float32, numpy=-0.95021296>"
            ]
          },
          "metadata": {
            "tags": []
          },
          "execution_count": 83
        }
      ]
    },
    {
      "cell_type": "code",
      "metadata": {
        "id": "Hod6doH3Fj1j",
        "colab_type": "code",
        "colab": {
          "base_uri": "https://localhost:8080/",
          "height": 34
        },
        "outputId": "b25827cc-3a7f-4b5c-d69c-5cc98c562ab5"
      },
      "source": [
        "scaled_elu_tf(tf.constant([-3., 2.5]))"
      ],
      "execution_count": 84,
      "outputs": [
        {
          "output_type": "execute_result",
          "data": {
            "text/plain": [
              "<tf.Tensor: shape=(2,), dtype=float32, numpy=array([-0.95021296,  2.5       ], dtype=float32)>"
            ]
          },
          "metadata": {
            "tags": []
          },
          "execution_count": 84
        }
      ]
    },
    {
      "cell_type": "code",
      "metadata": {
        "id": "DlWCK5xvFj1k",
        "colab_type": "code",
        "colab": {
          "base_uri": "https://localhost:8080/",
          "height": 34
        },
        "outputId": "843a335e-5678-42f4-d358-1a8e5dcd29c1"
      },
      "source": [
        "scaled_elu_tf.python_function is scaled_elu"
      ],
      "execution_count": 85,
      "outputs": [
        {
          "output_type": "execute_result",
          "data": {
            "text/plain": [
              "True"
            ]
          },
          "metadata": {
            "tags": []
          },
          "execution_count": 85
        }
      ]
    },
    {
      "cell_type": "code",
      "metadata": {
        "id": "xOSi8YD4Fj1m",
        "colab_type": "code",
        "colab": {
          "base_uri": "https://localhost:8080/",
          "height": 51
        },
        "outputId": "c44f837f-88c5-46c0-f21f-d24f9c3051f6"
      },
      "source": [
        "%timeit scaled_elu(tf.random.normal((1000, 1000)))"
      ],
      "execution_count": 86,
      "outputs": [
        {
          "output_type": "stream",
          "text": [
            "The slowest run took 11.22 times longer than the fastest. This could mean that an intermediate result is being cached.\n",
            "1000 loops, best of 3: 202 µs per loop\n"
          ],
          "name": "stdout"
        }
      ]
    },
    {
      "cell_type": "code",
      "metadata": {
        "id": "nh20OZ8FFj1n",
        "colab_type": "code",
        "colab": {
          "base_uri": "https://localhost:8080/",
          "height": 51
        },
        "outputId": "854aba1b-c84d-4ca5-d5ab-38dc7435547d"
      },
      "source": [
        "%timeit scaled_elu_tf(tf.random.normal((1000, 1000)))"
      ],
      "execution_count": 87,
      "outputs": [
        {
          "output_type": "stream",
          "text": [
            "The slowest run took 42.86 times longer than the fastest. This could mean that an intermediate result is being cached.\n",
            "1000 loops, best of 3: 446 µs per loop\n"
          ],
          "name": "stdout"
        }
      ]
    },
    {
      "cell_type": "code",
      "metadata": {
        "id": "8_0dAqGRFj1o",
        "colab_type": "code",
        "colab": {}
      },
      "source": [
        "def display_tf_code(func):\n",
        "    from IPython.display import display, Markdown\n",
        "    if hasattr(func, \"python_function\"):\n",
        "        func = func.python_function\n",
        "    code = tf.autograph.to_code(func, experimental_optional_features=None)\n",
        "    display(Markdown('```python\\n{}\\n```'.format(code)))"
      ],
      "execution_count": 0,
      "outputs": []
    },
    {
      "cell_type": "code",
      "metadata": {
        "id": "Qi3OmlQKFj1p",
        "colab_type": "code",
        "colab": {
          "base_uri": "https://localhost:8080/",
          "height": 34
        },
        "outputId": "fc76c032-61b9-43fa-a8bb-320844b2d65f"
      },
      "source": [
        "display_tf_code(scaled_elu)"
      ],
      "execution_count": 89,
      "outputs": [
        {
          "output_type": "display_data",
          "data": {
            "text/markdown": "```python\ndef tf__scaled_elu(z, scale=None, alpha=None):\n    do_return = False\n    retval_ = ag__.UndefinedReturnValue()\n    with ag__.FunctionScope('scaled_elu', 'fscope', ag__.ConversionOptions(recursive=True, user_requested=True, optional_features=(), internal_convert_user_code=True)) as fscope:\n        is_positive = ag__.converted_call(tf.greater_equal, (z, 0.0), None, fscope)\n        try:\n            do_return = True\n            retval_ = fscope.mark_return_value((scale * ag__.converted_call(tf.where, (is_positive, z, (alpha * ag__.converted_call(tf.nn.elu, (z,), None, fscope))), None, fscope)))\n        except:\n            do_return = False\n            raise\n    (do_return,)\n    return ag__.retval(retval_)\n\n```",
            "text/plain": [
              "<IPython.core.display.Markdown object>"
            ]
          },
          "metadata": {
            "tags": []
          }
        }
      ]
    },
    {
      "cell_type": "code",
      "metadata": {
        "id": "pnYipk5-Fj1r",
        "colab_type": "code",
        "colab": {}
      },
      "source": [
        "var = tf.Variable(0)\n",
        "\n",
        "@tf.function\n",
        "def add_21():\n",
        "    return var.assign_add(21)\n",
        "\n",
        "@tf.function\n",
        "def times_2():\n",
        "    return var.assign(var * 2)"
      ],
      "execution_count": 0,
      "outputs": []
    },
    {
      "cell_type": "code",
      "metadata": {
        "id": "zM0JjsdpFj1s",
        "colab_type": "code",
        "colab": {
          "base_uri": "https://localhost:8080/",
          "height": 34
        },
        "outputId": "d624cee0-8178-4234-ff85-946ebfbb97b3"
      },
      "source": [
        "add_21()\n",
        "times_2()"
      ],
      "execution_count": 91,
      "outputs": [
        {
          "output_type": "execute_result",
          "data": {
            "text/plain": [
              "<tf.Tensor: shape=(), dtype=int32, numpy=42>"
            ]
          },
          "metadata": {
            "tags": []
          },
          "execution_count": 91
        }
      ]
    },
    {
      "cell_type": "code",
      "metadata": {
        "id": "dKrOfdq6Fj1t",
        "colab_type": "code",
        "colab": {}
      },
      "source": [
        "def times_4(x):\n",
        "    return 4. * x\n",
        "\n",
        "@tf.function\n",
        "def times_4_plus_22(x):\n",
        "    return times_4(x) + 22."
      ],
      "execution_count": 0,
      "outputs": []
    },
    {
      "cell_type": "code",
      "metadata": {
        "id": "Z7lZiZ9YFj1u",
        "colab_type": "code",
        "colab": {
          "base_uri": "https://localhost:8080/",
          "height": 34
        },
        "outputId": "aa1ee433-bf1c-4efc-b00a-c98617bab1e4"
      },
      "source": [
        "times_4_plus_22(tf.constant(5.))"
      ],
      "execution_count": 93,
      "outputs": [
        {
          "output_type": "execute_result",
          "data": {
            "text/plain": [
              "<tf.Tensor: shape=(), dtype=float32, numpy=42.0>"
            ]
          },
          "metadata": {
            "tags": []
          },
          "execution_count": 93
        }
      ]
    },
    {
      "cell_type": "markdown",
      "metadata": {
        "id": "1Z4EzHMdFj1v",
        "colab_type": "text"
      },
      "source": [
        "Compute 1 + 1/2 + 1/4 + ...: the order of execution of the operations with side-effects (e.g., `assign()`) is preserved (in TF 1.x, `tf.control_dependencies()` was needed in such cases):"
      ]
    },
    {
      "cell_type": "code",
      "metadata": {
        "id": "vqKuGz0lFj1v",
        "colab_type": "code",
        "colab": {
          "base_uri": "https://localhost:8080/",
          "height": 34
        },
        "outputId": "1bd4b0f0-31f7-482d-bcd8-c48da8aae707"
      },
      "source": [
        "total = tf.Variable(0.)\n",
        "increment = tf.Variable(1.)\n",
        "\n",
        "@tf.function\n",
        "def converge_to_2(n_iterations):\n",
        "    for i in tf.range(n_iterations):\n",
        "        total.assign_add(increment)\n",
        "        increment.assign(increment / 2.0)\n",
        "    return total\n",
        "\n",
        "converge_to_2(20)"
      ],
      "execution_count": 94,
      "outputs": [
        {
          "output_type": "execute_result",
          "data": {
            "text/plain": [
              "<tf.Tensor: shape=(), dtype=float32, numpy=1.9999981>"
            ]
          },
          "metadata": {
            "tags": []
          },
          "execution_count": 94
        }
      ]
    },
    {
      "cell_type": "markdown",
      "metadata": {
        "id": "7kqYwVXpFj1w",
        "colab_type": "text"
      },
      "source": [
        "### 3.2)\n",
        "Write a function that computes the sum of squares from 1 to n, where n is an argument. Convert it to a graph function by using `tf.function` as a decorator. Display the code generated by autograph using the `display_tf_code()` function. Use `%timeit` to see how must faster the TensorFlow `Function` is compared to the Python function."
      ]
    },
    {
      "cell_type": "code",
      "metadata": {
        "id": "ZuB4gH82Fj1w",
        "colab_type": "code",
        "colab": {}
      },
      "source": [
        ""
      ],
      "execution_count": 0,
      "outputs": []
    },
    {
      "cell_type": "code",
      "metadata": {
        "id": "fO7StzxVFj1x",
        "colab_type": "code",
        "colab": {}
      },
      "source": [
        ""
      ],
      "execution_count": 0,
      "outputs": []
    },
    {
      "cell_type": "code",
      "metadata": {
        "id": "KgGfsmjQFj1z",
        "colab_type": "code",
        "colab": {}
      },
      "source": [
        ""
      ],
      "execution_count": 0,
      "outputs": []
    },
    {
      "cell_type": "markdown",
      "metadata": {
        "id": "xm_h-X7GFj10",
        "colab_type": "text"
      },
      "source": [
        "### 3.3)\n",
        "Examine and run the following code examples."
      ]
    },
    {
      "cell_type": "code",
      "metadata": {
        "id": "GjflVHcDFj10",
        "colab_type": "code",
        "colab": {}
      },
      "source": [
        "@tf.function\n",
        "def square(x):\n",
        "    tf.print(\"Calling\", x)  # part of the TF Function\n",
        "    print(\"Tracing\")  # NOT part of the TF Function\n",
        "    return tf.square(x)"
      ],
      "execution_count": 0,
      "outputs": []
    },
    {
      "cell_type": "code",
      "metadata": {
        "id": "Ja3MPNcrFj12",
        "colab_type": "code",
        "colab": {}
      },
      "source": [
        "for i in range(5):\n",
        "    square(tf.constant(i))"
      ],
      "execution_count": 0,
      "outputs": []
    },
    {
      "cell_type": "code",
      "metadata": {
        "id": "vWolnuCcFj13",
        "colab_type": "code",
        "colab": {}
      },
      "source": [
        "for i in range(5):\n",
        "    square(tf.constant(i, dtype=tf.float32))"
      ],
      "execution_count": 0,
      "outputs": []
    },
    {
      "cell_type": "code",
      "metadata": {
        "id": "Xz7stfy5Fj13",
        "colab_type": "code",
        "colab": {}
      },
      "source": [
        "for i in range(5):\n",
        "    square(tf.constant([i, i], dtype=tf.float32))"
      ],
      "execution_count": 0,
      "outputs": []
    },
    {
      "cell_type": "code",
      "metadata": {
        "id": "W9-fxpn4Fj14",
        "colab_type": "code",
        "colab": {}
      },
      "source": [
        "# WARNING: when passing non-tensor values, a trace happens for any new value!\n",
        "# This is to allow optimization in case this value determines e.g., number of layers.\n",
        "for i in range(5):\n",
        "    square(i)"
      ],
      "execution_count": 0,
      "outputs": []
    },
    {
      "cell_type": "markdown",
      "metadata": {
        "id": "Arwn4gjpFj16",
        "colab_type": "text"
      },
      "source": [
        "### 3.4)\n",
        "When you give Keras a custom loss function, it actually creates a graph function based on it, and then uses that graph function during training. The same is true of custom metric functions, and the `call()` method of custom layers and models. Create a `my_mse()` function, like you did earlier, but add an instruction to log a message inside it (use `print()`, *not* `tf.print()`!), and verify that the message is only logged once when you compile and train the model. Optionally, you can also find out when Keras converts custom metrics, layers and models."
      ]
    },
    {
      "cell_type": "code",
      "metadata": {
        "id": "mdDU8O_lFj16",
        "colab_type": "code",
        "colab": {}
      },
      "source": [
        ""
      ],
      "execution_count": 0,
      "outputs": []
    },
    {
      "cell_type": "code",
      "metadata": {
        "id": "yGa7lxCHFj18",
        "colab_type": "code",
        "colab": {}
      },
      "source": [
        ""
      ],
      "execution_count": 0,
      "outputs": []
    },
    {
      "cell_type": "code",
      "metadata": {
        "id": "61R_bcxtFj1_",
        "colab_type": "code",
        "colab": {}
      },
      "source": [
        ""
      ],
      "execution_count": 0,
      "outputs": []
    },
    {
      "cell_type": "markdown",
      "metadata": {
        "id": "VV10BkoXFj2A",
        "colab_type": "text"
      },
      "source": [
        "### 3.5)\n",
        "Examine the following function, and try to call it with various argument types and shapes. Notice that only tensors of type `int32` and one dimension (of any size) are accepted now that we have specified the `input_signature`."
      ]
    },
    {
      "cell_type": "code",
      "metadata": {
        "id": "pgxI0PuiFj2A",
        "colab_type": "code",
        "colab": {}
      },
      "source": [
        "@tf.function(input_signature=[tf.TensorSpec([None], tf.int32, name=\"x\")])\n",
        "def cube(z):\n",
        "    return tf.pow(z, 3)"
      ],
      "execution_count": 0,
      "outputs": []
    },
    {
      "cell_type": "code",
      "metadata": {
        "id": "ERSoNXbgFj2C",
        "colab_type": "code",
        "colab": {}
      },
      "source": [
        ""
      ],
      "execution_count": 0,
      "outputs": []
    },
    {
      "cell_type": "code",
      "metadata": {
        "id": "BKZ-3A7jFj2E",
        "colab_type": "code",
        "colab": {}
      },
      "source": [
        ""
      ],
      "execution_count": 0,
      "outputs": []
    },
    {
      "cell_type": "code",
      "metadata": {
        "id": "jn9ispiIFj2E",
        "colab_type": "code",
        "colab": {}
      },
      "source": [
        ""
      ],
      "execution_count": 0,
      "outputs": []
    },
    {
      "cell_type": "markdown",
      "metadata": {
        "id": "1ei5Hg5qFj2F",
        "colab_type": "text"
      },
      "source": [
        "![Exercise solution](https://camo.githubusercontent.com/250388fde3fac9135ead9471733ee28e049f7a37/68747470733a2f2f75706c6f61642e77696b696d656469612e6f72672f77696b6970656469612f636f6d6d6f6e732f302f30362f46696c6f735f736567756e646f5f6c6f676f5f253238666c69707065642532392e6a7067)"
      ]
    },
    {
      "cell_type": "markdown",
      "metadata": {
        "id": "2kQapLEOFj2G",
        "colab_type": "text"
      },
      "source": [
        "## Exercise 3 – Solution"
      ]
    },
    {
      "cell_type": "markdown",
      "metadata": {
        "id": "1_COlrEOFj2H",
        "colab_type": "text"
      },
      "source": [
        "### 3.1)\n",
        "Examine the code examples."
      ]
    },
    {
      "cell_type": "markdown",
      "metadata": {
        "id": "qvsUxlS2Fj2H",
        "colab_type": "text"
      },
      "source": [
        "Done."
      ]
    },
    {
      "cell_type": "markdown",
      "metadata": {
        "id": "d8kU98nOFj2H",
        "colab_type": "text"
      },
      "source": [
        "### 3.2)\n",
        "Write a function that computes the sum of squares from 1 to n, where n is an argument. Convert it to a graph function by using `tf.function` as a decorator. Display the code generated by autograph using the `display_tf_code()` function. Use `%timeit` to see how must faster the TensorFlow `Function` is compared to the Python function."
      ]
    },
    {
      "cell_type": "code",
      "metadata": {
        "id": "_X3Fm9VmFj2I",
        "colab_type": "code",
        "colab": {}
      },
      "source": [
        "@tf.function\n",
        "def sum_squares(n):\n",
        "    s = tf.constant(0)\n",
        "    for i in range(1, n + 1):\n",
        "        s = s + i ** 2\n",
        "    return s"
      ],
      "execution_count": 0,
      "outputs": []
    },
    {
      "cell_type": "code",
      "metadata": {
        "id": "TpqblOiLFj2J",
        "colab_type": "code",
        "colab": {
          "base_uri": "https://localhost:8080/",
          "height": 34
        },
        "outputId": "076bf8ee-32e3-43a7-af48-61ec69d21b04"
      },
      "source": [
        "sum_squares(tf.constant(5))"
      ],
      "execution_count": 96,
      "outputs": [
        {
          "output_type": "execute_result",
          "data": {
            "text/plain": [
              "<tf.Tensor: shape=(), dtype=int32, numpy=55>"
            ]
          },
          "metadata": {
            "tags": []
          },
          "execution_count": 96
        }
      ]
    },
    {
      "cell_type": "code",
      "metadata": {
        "id": "sJvqi6pfFj2K",
        "colab_type": "code",
        "colab": {
          "base_uri": "https://localhost:8080/",
          "height": 34
        },
        "outputId": "9fc54f0f-2cfd-4ca8-fbeb-bf9c34bffa45"
      },
      "source": [
        "display_tf_code(sum_squares.python_function)"
      ],
      "execution_count": 97,
      "outputs": [
        {
          "output_type": "display_data",
          "data": {
            "text/markdown": "```python\ndef tf__sum_squares(n):\n    do_return = False\n    retval_ = ag__.UndefinedReturnValue()\n    with ag__.FunctionScope('sum_squares', 'fscope', ag__.ConversionOptions(recursive=True, user_requested=True, optional_features=(), internal_convert_user_code=True)) as fscope:\n        s = ag__.converted_call(tf.constant, (0,), None, fscope)\n\n        def get_state():\n            return (s,)\n\n        def set_state(loop_vars):\n            nonlocal s\n            (s,) = loop_vars\n\n        def loop_body(itr):\n            nonlocal s\n            i = itr\n            s = (s + (i ** 2))\n        ag__.for_stmt(ag__.converted_call(range, (1, (n + 1)), None, fscope), None, loop_body, get_state, set_state, ('s',), {})\n        try:\n            do_return = True\n            retval_ = fscope.mark_return_value(s)\n        except:\n            do_return = False\n            raise\n    (do_return,)\n    return ag__.retval(retval_)\n\n```",
            "text/plain": [
              "<IPython.core.display.Markdown object>"
            ]
          },
          "metadata": {
            "tags": []
          }
        }
      ]
    },
    {
      "cell_type": "code",
      "metadata": {
        "id": "Xb8a6x_gFj2L",
        "colab_type": "code",
        "colab": {
          "base_uri": "https://localhost:8080/",
          "height": 1000
        },
        "outputId": "cbc34e2e-3abb-4a01-9170-dfbb5c0c844c"
      },
      "source": [
        "%timeit sum_squares(10000)"
      ],
      "execution_count": 98,
      "outputs": [
        {
          "output_type": "stream",
          "text": [
            "WARNING:tensorflow:Large unrolled loop detected. Did you mean to use a TF loop? The following ops were created after iteration 3002: (<tf.Operation 'add_3000/y' type=Const>, <tf.Operation 'add_3000' type=AddV2>)\n",
            "See https://github.com/tensorflow/tensorflow/blob/master/tensorflow/python/autograph/g3doc/reference/common_errors.md#warning-large-unrolled-loop-detected\n",
            "Location:\n",
            "  File \"/usr/lib/python3.6/runpy.py\", line 193, in _run_module_as_main\n",
            "    \"__main__\", mod_spec)\n",
            "\n",
            "  File \"/usr/lib/python3.6/runpy.py\", line 85, in _run_code\n",
            "    exec(code, run_globals)\n",
            "\n",
            "  File \"/usr/local/lib/python3.6/dist-packages/ipykernel_launcher.py\", line 16, in <module>\n",
            "    app.launch_new_instance()\n",
            "\n",
            "  File \"/usr/local/lib/python3.6/dist-packages/traitlets/config/application.py\", line 664, in launch_instance\n",
            "    app.start()\n",
            "\n",
            "  File \"/usr/local/lib/python3.6/dist-packages/ipykernel/kernelapp.py\", line 499, in start\n",
            "    self.io_loop.start()\n",
            "\n",
            "  File \"/usr/local/lib/python3.6/dist-packages/tornado/ioloop.py\", line 888, in start\n",
            "    handler_func(fd_obj, events)\n",
            "\n",
            "  File \"/usr/local/lib/python3.6/dist-packages/tornado/stack_context.py\", line 277, in null_wrapper\n",
            "    return fn(*args, **kwargs)\n",
            "\n",
            "  File \"/usr/local/lib/python3.6/dist-packages/zmq/eventloop/zmqstream.py\", line 456, in _handle_events\n",
            "    self._handle_recv()\n",
            "\n",
            "  File \"/usr/local/lib/python3.6/dist-packages/zmq/eventloop/zmqstream.py\", line 486, in _handle_recv\n",
            "    self._run_callback(callback, msg)\n",
            "\n",
            "  File \"/usr/local/lib/python3.6/dist-packages/zmq/eventloop/zmqstream.py\", line 438, in _run_callback\n",
            "    callback(*args, **kwargs)\n",
            "\n",
            "  File \"/usr/local/lib/python3.6/dist-packages/tornado/stack_context.py\", line 277, in null_wrapper\n",
            "    return fn(*args, **kwargs)\n",
            "\n",
            "  File \"/usr/local/lib/python3.6/dist-packages/ipykernel/kernelbase.py\", line 283, in dispatcher\n",
            "    return self.dispatch_shell(stream, msg)\n",
            "\n",
            "  File \"/usr/local/lib/python3.6/dist-packages/ipykernel/kernelbase.py\", line 233, in dispatch_shell\n",
            "    handler(stream, idents, msg)\n",
            "\n",
            "  File \"/usr/local/lib/python3.6/dist-packages/ipykernel/kernelbase.py\", line 399, in execute_request\n",
            "    user_expressions, allow_stdin)\n",
            "\n",
            "  File \"/usr/local/lib/python3.6/dist-packages/ipykernel/ipkernel.py\", line 208, in do_execute\n",
            "    res = shell.run_cell(code, store_history=store_history, silent=silent)\n",
            "\n",
            "  File \"/usr/local/lib/python3.6/dist-packages/ipykernel/zmqshell.py\", line 537, in run_cell\n",
            "    return super(ZMQInteractiveShell, self).run_cell(*args, **kwargs)\n",
            "\n",
            "  File \"/usr/local/lib/python3.6/dist-packages/IPython/core/interactiveshell.py\", line 2718, in run_cell\n",
            "    interactivity=interactivity, compiler=compiler, result=result)\n",
            "\n",
            "  File \"/usr/local/lib/python3.6/dist-packages/IPython/core/interactiveshell.py\", line 2828, in run_ast_nodes\n",
            "    if self.run_code(code, result):\n",
            "\n",
            "  File \"/usr/local/lib/python3.6/dist-packages/IPython/core/interactiveshell.py\", line 2882, in run_code\n",
            "    exec(code_obj, self.user_global_ns, self.user_ns)\n",
            "\n",
            "  File \"<ipython-input-98-c34968e7b447>\", line 1, in <module>\n",
            "    get_ipython().magic('timeit sum_squares(10000)')\n",
            "\n",
            "  File \"/usr/local/lib/python3.6/dist-packages/IPython/core/interactiveshell.py\", line 2160, in magic\n",
            "    return self.run_line_magic(magic_name, magic_arg_s)\n",
            "\n",
            "  File \"/usr/local/lib/python3.6/dist-packages/IPython/core/interactiveshell.py\", line 2081, in run_line_magic\n",
            "    result = fn(*args,**kwargs)\n",
            "\n",
            "  File \"<decorator-gen-59>\", line 2, in timeit\n",
            "\n",
            "  File \"/usr/local/lib/python3.6/dist-packages/IPython/core/magic.py\", line 188, in <lambda>\n",
            "    call = lambda f, *a, **k: f(*a, **k)\n",
            "\n",
            "  File \"/usr/local/lib/python3.6/dist-packages/IPython/core/magics/execution.py\", line 1057, in timeit\n",
            "    time_number = timer.timeit(number)\n",
            "\n",
            "  File \"/usr/local/lib/python3.6/dist-packages/IPython/core/magics/execution.py\", line 139, in timeit\n",
            "    timing = self.inner(it, self.timer)\n",
            "\n",
            "  File \"<magic-timeit>\", line 1, in inner\n",
            "\n",
            "  File \"/usr/local/lib/python3.6/dist-packages/tensorflow/python/eager/def_function.py\", line 580, in __call__\n",
            "    result = self._call(*args, **kwds)\n",
            "\n",
            "  File \"/usr/local/lib/python3.6/dist-packages/tensorflow/python/eager/def_function.py\", line 618, in _call\n",
            "    results = self._stateful_fn(*args, **kwds)\n",
            "\n",
            "  File \"/usr/local/lib/python3.6/dist-packages/tensorflow/python/eager/function.py\", line 2419, in __call__\n",
            "    graph_function, args, kwargs = self._maybe_define_function(args, kwargs)\n",
            "\n",
            "  File \"/usr/local/lib/python3.6/dist-packages/tensorflow/python/eager/function.py\", line 2777, in _maybe_define_function\n",
            "    graph_function = self._create_graph_function(args, kwargs)\n",
            "\n",
            "  File \"/usr/local/lib/python3.6/dist-packages/tensorflow/python/eager/function.py\", line 2667, in _create_graph_function\n",
            "    capture_by_value=self._capture_by_value),\n",
            "\n",
            "  File \"/usr/local/lib/python3.6/dist-packages/tensorflow/python/framework/func_graph.py\", line 981, in func_graph_from_py_func\n",
            "    func_outputs = python_func(*func_args, **func_kwargs)\n",
            "\n",
            "  File \"/usr/local/lib/python3.6/dist-packages/tensorflow/python/eager/def_function.py\", line 441, in wrapped_fn\n",
            "    return weak_wrapped_fn().__wrapped__(*args, **kwds)\n",
            "\n",
            "  File \"/usr/local/lib/python3.6/dist-packages/tensorflow/python/framework/func_graph.py\", line 964, in wrapper\n",
            "    user_requested=True,\n",
            "\n",
            "  File \"/usr/local/lib/python3.6/dist-packages/tensorflow/python/autograph/impl/api.py\", line 585, in converted_call\n",
            "    result = converted_f(*effective_args, **kwargs)\n",
            "\n",
            "  File \"/tmp/tmpjniwm6nk.py\", line 23, in tf__sum_squares\n",
            "    ag__.for_stmt(ag__.converted_call(range, (1, (n + 1)), None, fscope), None, loop_body, get_state, set_state, ('s',), {})\n",
            "\n",
            "  File \"/usr/local/lib/python3.6/dist-packages/tensorflow/python/autograph/operators/control_flow.py\", line 372, in for_stmt\n",
            "    _py_for_stmt(iter_, extra_test, body, None, None)\n",
            "\n",
            "  File \"/usr/local/lib/python3.6/dist-packages/tensorflow/python/autograph/operators/control_flow.py\", line 401, in _py_for_stmt\n",
            "    body(target)\n",
            "\n",
            "  File \"/usr/local/lib/python3.6/dist-packages/tensorflow/python/autograph/operators/control_flow.py\", line 388, in protected_body\n",
            "    after_iteration()\n",
            "\n",
            "  File \"/usr/local/lib/python3.6/dist-packages/tensorflow/python/autograph/operators/control_flow.py\", line 820, in after_iteration\n",
            "    did_warn = self._verify_inefficient_unroll()\n",
            "\n",
            "  File \"/usr/local/lib/python3.6/dist-packages/tensorflow/python/autograph/operators/control_flow.py\", line 803, in _verify_inefficient_unroll\n",
            "    '', self.iterations, new_ops, '\\n'.join(traceback.format_stack()))\n",
            "\n",
            "WARNING: Large unrolled loop detected. Did you mean to use a TF loop? The following ops were created after iteration 3002: (<tf.Operation 'add_3000/y' type=Const>, <tf.Operation 'add_3000' type=AddV2>)\n",
            "See https://github.com/tensorflow/tensorflow/blob/master/tensorflow/python/autograph/g3doc/reference/common_errors.md#warning-large-unrolled-loop-detected\n",
            "Location:\n",
            "  File \"/usr/lib/python3.6/runpy.py\", line 193, in _run_module_as_main\n",
            "    \"__main__\", mod_spec)\n",
            "\n",
            "  File \"/usr/lib/python3.6/runpy.py\", line 85, in _run_code\n",
            "    exec(code, run_globals)\n",
            "\n",
            "  File \"/usr/local/lib/python3.6/dist-packages/ipykernel_launcher.py\", line 16, in <module>\n",
            "    app.launch_new_instance()\n",
            "\n",
            "  File \"/usr/local/lib/python3.6/dist-packages/traitlets/config/application.py\", line 664, in launch_instance\n",
            "    app.start()\n",
            "\n",
            "  File \"/usr/local/lib/python3.6/dist-packages/ipykernel/kernelapp.py\", line 499, in start\n",
            "    self.io_loop.start()\n",
            "\n",
            "  File \"/usr/local/lib/python3.6/dist-packages/tornado/ioloop.py\", line 888, in start\n",
            "    handler_func(fd_obj, events)\n",
            "\n",
            "  File \"/usr/local/lib/python3.6/dist-packages/tornado/stack_context.py\", line 277, in null_wrapper\n",
            "    return fn(*args, **kwargs)\n",
            "\n",
            "  File \"/usr/local/lib/python3.6/dist-packages/zmq/eventloop/zmqstream.py\", line 456, in _handle_events\n",
            "    self._handle_recv()\n",
            "\n",
            "  File \"/usr/local/lib/python3.6/dist-packages/zmq/eventloop/zmqstream.py\", line 486, in _handle_recv\n",
            "    self._run_callback(callback, msg)\n",
            "\n",
            "  File \"/usr/local/lib/python3.6/dist-packages/zmq/eventloop/zmqstream.py\", line 438, in _run_callback\n",
            "    callback(*args, **kwargs)\n",
            "\n",
            "  File \"/usr/local/lib/python3.6/dist-packages/tornado/stack_context.py\", line 277, in null_wrapper\n",
            "    return fn(*args, **kwargs)\n",
            "\n",
            "  File \"/usr/local/lib/python3.6/dist-packages/ipykernel/kernelbase.py\", line 283, in dispatcher\n",
            "    return self.dispatch_shell(stream, msg)\n",
            "\n",
            "  File \"/usr/local/lib/python3.6/dist-packages/ipykernel/kernelbase.py\", line 233, in dispatch_shell\n",
            "    handler(stream, idents, msg)\n",
            "\n",
            "  File \"/usr/local/lib/python3.6/dist-packages/ipykernel/kernelbase.py\", line 399, in execute_request\n",
            "    user_expressions, allow_stdin)\n",
            "\n",
            "  File \"/usr/local/lib/python3.6/dist-packages/ipykernel/ipkernel.py\", line 208, in do_execute\n",
            "    res = shell.run_cell(code, store_history=store_history, silent=silent)\n",
            "\n",
            "  File \"/usr/local/lib/python3.6/dist-packages/ipykernel/zmqshell.py\", line 537, in run_cell\n",
            "    return super(ZMQInteractiveShell, self).run_cell(*args, **kwargs)\n",
            "\n",
            "  File \"/usr/local/lib/python3.6/dist-packages/IPython/core/interactiveshell.py\", line 2718, in run_cell\n",
            "    interactivity=interactivity, compiler=compiler, result=result)\n",
            "\n",
            "  File \"/usr/local/lib/python3.6/dist-packages/IPython/core/interactiveshell.py\", line 2828, in run_ast_nodes\n",
            "    if self.run_code(code, result):\n",
            "\n",
            "  File \"/usr/local/lib/python3.6/dist-packages/IPython/core/interactiveshell.py\", line 2882, in run_code\n",
            "    exec(code_obj, self.user_global_ns, self.user_ns)\n",
            "\n",
            "  File \"<ipython-input-98-c34968e7b447>\", line 1, in <module>\n",
            "    get_ipython().magic('timeit sum_squares(10000)')\n",
            "\n",
            "  File \"/usr/local/lib/python3.6/dist-packages/IPython/core/interactiveshell.py\", line 2160, in magic\n",
            "    return self.run_line_magic(magic_name, magic_arg_s)\n",
            "\n",
            "  File \"/usr/local/lib/python3.6/dist-packages/IPython/core/interactiveshell.py\", line 2081, in run_line_magic\n",
            "    result = fn(*args,**kwargs)\n",
            "\n",
            "  File \"<decorator-gen-59>\", line 2, in timeit\n",
            "\n",
            "  File \"/usr/local/lib/python3.6/dist-packages/IPython/core/magic.py\", line 188, in <lambda>\n",
            "    call = lambda f, *a, **k: f(*a, **k)\n",
            "\n",
            "  File \"/usr/local/lib/python3.6/dist-packages/IPython/core/magics/execution.py\", line 1057, in timeit\n",
            "    time_number = timer.timeit(number)\n",
            "\n",
            "  File \"/usr/local/lib/python3.6/dist-packages/IPython/core/magics/execution.py\", line 139, in timeit\n",
            "    timing = self.inner(it, self.timer)\n",
            "\n",
            "  File \"<magic-timeit>\", line 1, in inner\n",
            "\n",
            "  File \"/usr/local/lib/python3.6/dist-packages/tensorflow/python/eager/def_function.py\", line 580, in __call__\n",
            "    result = self._call(*args, **kwds)\n",
            "\n",
            "  File \"/usr/local/lib/python3.6/dist-packages/tensorflow/python/eager/def_function.py\", line 618, in _call\n",
            "    results = self._stateful_fn(*args, **kwds)\n",
            "\n",
            "  File \"/usr/local/lib/python3.6/dist-packages/tensorflow/python/eager/function.py\", line 2419, in __call__\n",
            "    graph_function, args, kwargs = self._maybe_define_function(args, kwargs)\n",
            "\n",
            "  File \"/usr/local/lib/python3.6/dist-packages/tensorflow/python/eager/function.py\", line 2777, in _maybe_define_function\n",
            "    graph_function = self._create_graph_function(args, kwargs)\n",
            "\n",
            "  File \"/usr/local/lib/python3.6/dist-packages/tensorflow/python/eager/function.py\", line 2667, in _create_graph_function\n",
            "    capture_by_value=self._capture_by_value),\n",
            "\n",
            "  File \"/usr/local/lib/python3.6/dist-packages/tensorflow/python/framework/func_graph.py\", line 981, in func_graph_from_py_func\n",
            "    func_outputs = python_func(*func_args, **func_kwargs)\n",
            "\n",
            "  File \"/usr/local/lib/python3.6/dist-packages/tensorflow/python/eager/def_function.py\", line 441, in wrapped_fn\n",
            "    return weak_wrapped_fn().__wrapped__(*args, **kwds)\n",
            "\n",
            "  File \"/usr/local/lib/python3.6/dist-packages/tensorflow/python/framework/func_graph.py\", line 964, in wrapper\n",
            "    user_requested=True,\n",
            "\n",
            "  File \"/usr/local/lib/python3.6/dist-packages/tensorflow/python/autograph/impl/api.py\", line 585, in converted_call\n",
            "    result = converted_f(*effective_args, **kwargs)\n",
            "\n",
            "  File \"/tmp/tmpjniwm6nk.py\", line 23, in tf__sum_squares\n",
            "    ag__.for_stmt(ag__.converted_call(range, (1, (n + 1)), None, fscope), None, loop_body, get_state, set_state, ('s',), {})\n",
            "\n",
            "  File \"/usr/local/lib/python3.6/dist-packages/tensorflow/python/autograph/operators/control_flow.py\", line 372, in for_stmt\n",
            "    _py_for_stmt(iter_, extra_test, body, None, None)\n",
            "\n",
            "  File \"/usr/local/lib/python3.6/dist-packages/tensorflow/python/autograph/operators/control_flow.py\", line 401, in _py_for_stmt\n",
            "    body(target)\n",
            "\n",
            "  File \"/usr/local/lib/python3.6/dist-packages/tensorflow/python/autograph/operators/control_flow.py\", line 388, in protected_body\n",
            "    after_iteration()\n",
            "\n",
            "  File \"/usr/local/lib/python3.6/dist-packages/tensorflow/python/autograph/operators/control_flow.py\", line 820, in after_iteration\n",
            "    did_warn = self._verify_inefficient_unroll()\n",
            "\n",
            "  File \"/usr/local/lib/python3.6/dist-packages/tensorflow/python/autograph/operators/control_flow.py\", line 803, in _verify_inefficient_unroll\n",
            "    '', self.iterations, new_ops, '\\n'.join(traceback.format_stack()))\n",
            "\n",
            "The slowest run took 45543.72 times longer than the fastest. This could mean that an intermediate result is being cached.\n",
            "1 loop, best of 3: 228 µs per loop\n"
          ],
          "name": "stdout"
        }
      ]
    },
    {
      "cell_type": "code",
      "metadata": {
        "id": "T0LxVhUiFj2M",
        "colab_type": "code",
        "colab": {
          "base_uri": "https://localhost:8080/",
          "height": 34
        },
        "outputId": "68b50f91-ed99-4f4d-ad29-6bcf8254e455"
      },
      "source": [
        "%timeit sum_squares.python_function(10000)"
      ],
      "execution_count": 99,
      "outputs": [
        {
          "output_type": "stream",
          "text": [
            "1 loop, best of 3: 206 ms per loop\n"
          ],
          "name": "stdout"
        }
      ]
    },
    {
      "cell_type": "markdown",
      "metadata": {
        "id": "jz-_tLIzFj2N",
        "colab_type": "text"
      },
      "source": [
        "### 3.3)\n",
        "Examine the code examples."
      ]
    },
    {
      "cell_type": "markdown",
      "metadata": {
        "id": "wcXtZQTgFj2N",
        "colab_type": "text"
      },
      "source": [
        "Done."
      ]
    },
    {
      "cell_type": "markdown",
      "metadata": {
        "id": "FHDv-nc5Fj2O",
        "colab_type": "text"
      },
      "source": [
        "### 3.4)\n",
        "When you give Keras a custom loss function, it actually creates a graph function based on it, and then uses that graph function during training. The same is true of custom metric functions, and the `call()` method of custom layers and models. Create a `my_mse()` function, like you did earlier, but add an instruction to log a message inside it (use `print()`, *not* `tf.print()`!), and verify that the message is only logged once when you compile and train the model. Optionally, you can also find out when Keras converts custom metrics, layers and models."
      ]
    },
    {
      "cell_type": "code",
      "metadata": {
        "id": "-Zt4Mli0Fj2O",
        "colab_type": "code",
        "colab": {}
      },
      "source": [
        "# Custom loss function\n",
        "def my_mse(y_true, y_pred):\n",
        "    print(\"Tracing loss my_mse()\")\n",
        "    return tf.reduce_mean(tf.square(y_pred - y_true))"
      ],
      "execution_count": 0,
      "outputs": []
    },
    {
      "cell_type": "code",
      "metadata": {
        "id": "anxE07LhFj2O",
        "colab_type": "code",
        "colab": {}
      },
      "source": [
        "# Custom metric function\n",
        "def my_mae(y_true, y_pred):\n",
        "    print(\"Tracing metric my_mae()\")\n",
        "    return tf.reduce_mean(tf.abs(y_pred - y_true))"
      ],
      "execution_count": 0,
      "outputs": []
    },
    {
      "cell_type": "code",
      "metadata": {
        "id": "xH4KpIoLFj2P",
        "colab_type": "code",
        "colab": {}
      },
      "source": [
        "# Custom layer\n",
        "class MyDense(keras.layers.Layer):\n",
        "    def __init__(self, units, activation=None, **kwargs):\n",
        "        self.units = units\n",
        "        self.activation = keras.layers.Activation(activation)\n",
        "        super(MyDense, self).__init__(**kwargs)\n",
        "\n",
        "    def build(self, input_shape):\n",
        "        self.kernel = self.add_weight(name='kernel', \n",
        "                                      shape=(input_shape[1], self.units),\n",
        "                                      initializer='uniform',\n",
        "                                      trainable=True)\n",
        "        self.biases = self.add_weight(name='bias', \n",
        "                                      shape=(self.units,),\n",
        "                                      initializer='zeros',\n",
        "                                      trainable=True)\n",
        "        super(MyDense, self).build(input_shape)\n",
        "\n",
        "    def call(self, X):\n",
        "        print(\"Tracing MyDense.call()\")\n",
        "        return self.activation(X @ self.kernel + self.biases)"
      ],
      "execution_count": 0,
      "outputs": []
    },
    {
      "cell_type": "code",
      "metadata": {
        "id": "5rmBOsoFFj2Q",
        "colab_type": "code",
        "colab": {}
      },
      "source": [
        "# Custom model\n",
        "class MyModel(keras.models.Model):\n",
        "    def __init__(self):\n",
        "        super(MyModel, self).__init__()\n",
        "        self.hidden1 = MyDense(30, activation=\"relu\")\n",
        "        self.hidden2 = MyDense(30, activation=\"relu\")\n",
        "        self.output_ = MyDense(1)\n",
        "\n",
        "    def call(self, input):\n",
        "        print(\"Tracing MyModel.call()\")\n",
        "        hidden1 = self.hidden1(input)\n",
        "        hidden2 = self.hidden2(hidden1)\n",
        "        concat = keras.layers.concatenate([input, hidden2])\n",
        "        output = self.output_(concat)\n",
        "        return output\n",
        "\n",
        "model = MyModel()"
      ],
      "execution_count": 0,
      "outputs": []
    },
    {
      "cell_type": "code",
      "metadata": {
        "id": "HXPVdWSnFj2R",
        "colab_type": "code",
        "colab": {}
      },
      "source": [
        "model.compile(loss=my_mse, optimizer=keras.optimizers.SGD(lr=1e-3),\n",
        "              metrics=[my_mae])"
      ],
      "execution_count": 0,
      "outputs": []
    },
    {
      "cell_type": "code",
      "metadata": {
        "id": "4WmhIYFzFj2S",
        "colab_type": "code",
        "colab": {
          "base_uri": "https://localhost:8080/",
          "height": 425
        },
        "outputId": "5a71eff4-4757-41f7-b06a-0a2dda88d940"
      },
      "source": [
        "model.fit(X_train_scaled, y_train, epochs=2,\n",
        "          validation_data=(X_valid_scaled, y_valid))\n",
        "model.evaluate(X_test_scaled, y_test)"
      ],
      "execution_count": 105,
      "outputs": [
        {
          "output_type": "stream",
          "text": [
            "Epoch 1/2\n",
            "Tracing MyModel.call()\n",
            "Tracing MyDense.call()\n",
            "Tracing MyDense.call()\n",
            "Tracing MyDense.call()\n",
            "Tracing loss my_mse()\n",
            "Tracing metric my_mae()\n",
            "Tracing MyModel.call()\n",
            "Tracing MyDense.call()\n",
            "Tracing MyDense.call()\n",
            "Tracing MyDense.call()\n",
            "Tracing loss my_mse()\n",
            "Tracing metric my_mae()\n",
            "341/363 [===========================>..] - ETA: 0s - loss: 3.4143 - my_mae: 1.5043Tracing MyModel.call()\n",
            "Tracing MyDense.call()\n",
            "Tracing MyDense.call()\n",
            "Tracing MyDense.call()\n",
            "Tracing loss my_mse()\n",
            "Tracing metric my_mae()\n",
            "363/363 [==============================] - 1s 3ms/step - loss: 3.3172 - my_mae: 1.4751 - val_loss: 1.8451 - val_my_mae: 0.9832\n",
            "Epoch 2/2\n",
            "363/363 [==============================] - 1s 2ms/step - loss: 1.2193 - my_mae: 0.7816 - val_loss: 0.9566 - val_my_mae: 0.6289\n",
            "162/162 [==============================] - 0s 2ms/step - loss: 0.8447 - my_mae: 0.6357\n"
          ],
          "name": "stdout"
        },
        {
          "output_type": "execute_result",
          "data": {
            "text/plain": [
              "[0.8446629643440247, 0.6356696486473083]"
            ]
          },
          "metadata": {
            "tags": []
          },
          "execution_count": 105
        }
      ]
    },
    {
      "cell_type": "markdown",
      "metadata": {
        "id": "iB87CZGaFj2T",
        "colab_type": "text"
      },
      "source": [
        "Notice that each custom function is traced just once, except for the metric function. That's a bit odd."
      ]
    },
    {
      "cell_type": "markdown",
      "metadata": {
        "id": "l8IckXBdFj2U",
        "colab_type": "text"
      },
      "source": [
        "### 3.5)\n",
        "Examine the following function, and try to call it with various argument types and shapes. Notice that only tensors of type `int32` and one dimension (of any size) are accepted now that we have specified the `input_signature`."
      ]
    },
    {
      "cell_type": "code",
      "metadata": {
        "id": "0R1IEO7UFj2U",
        "colab_type": "code",
        "colab": {}
      },
      "source": [
        "@tf.function(input_signature=[tf.TensorSpec([None], tf.int32, name=\"x\")])\n",
        "def cube(z):\n",
        "    return tf.pow(z, 3)"
      ],
      "execution_count": 0,
      "outputs": []
    },
    {
      "cell_type": "code",
      "metadata": {
        "id": "m-w2IPtLFj2V",
        "colab_type": "code",
        "colab": {
          "base_uri": "https://localhost:8080/",
          "height": 34
        },
        "outputId": "530743ab-a550-4245-d1a6-037aec99787c"
      },
      "source": [
        "cube(tf.constant([1, 2, 3]))"
      ],
      "execution_count": 107,
      "outputs": [
        {
          "output_type": "execute_result",
          "data": {
            "text/plain": [
              "<tf.Tensor: shape=(3,), dtype=int32, numpy=array([ 1,  8, 27], dtype=int32)>"
            ]
          },
          "metadata": {
            "tags": []
          },
          "execution_count": 107
        }
      ]
    },
    {
      "cell_type": "code",
      "metadata": {
        "id": "oIBBL1iUFj2W",
        "colab_type": "code",
        "colab": {
          "base_uri": "https://localhost:8080/",
          "height": 34
        },
        "outputId": "cb823bd6-8af7-45ff-f0a2-9288338cf772"
      },
      "source": [
        "cube(tf.constant([1, 2, 3, 4, 5]))"
      ],
      "execution_count": 108,
      "outputs": [
        {
          "output_type": "execute_result",
          "data": {
            "text/plain": [
              "<tf.Tensor: shape=(5,), dtype=int32, numpy=array([  1,   8,  27,  64, 125], dtype=int32)>"
            ]
          },
          "metadata": {
            "tags": []
          },
          "execution_count": 108
        }
      ]
    },
    {
      "cell_type": "code",
      "metadata": {
        "id": "VSHlnW5QFj2X",
        "colab_type": "code",
        "colab": {}
      },
      "source": [
        "try:\n",
        "    cube([1, 2, 3])\n",
        "except ValueError as ex:\n",
        "    print(ex)"
      ],
      "execution_count": 0,
      "outputs": []
    },
    {
      "cell_type": "code",
      "metadata": {
        "id": "0pshRhihFj2Z",
        "colab_type": "code",
        "colab": {
          "base_uri": "https://localhost:8080/",
          "height": 102
        },
        "outputId": "472ac101-f278-4783-e5be-dcdc761185a8"
      },
      "source": [
        "try:\n",
        "    cube(tf.constant([1., 2., 3]))\n",
        "except ValueError as ex:\n",
        "    print(ex)"
      ],
      "execution_count": 110,
      "outputs": [
        {
          "output_type": "stream",
          "text": [
            "Python inputs incompatible with input_signature:\n",
            "  inputs: (\n",
            "    tf.Tensor([1. 2. 3.], shape=(3,), dtype=float32))\n",
            "  input_signature: (\n",
            "    TensorSpec(shape=(None,), dtype=tf.int32, name='x'))\n"
          ],
          "name": "stdout"
        }
      ]
    },
    {
      "cell_type": "code",
      "metadata": {
        "scrolled": true,
        "id": "yXF95ji2Fj2a",
        "colab_type": "code",
        "colab": {
          "base_uri": "https://localhost:8080/",
          "height": 136
        },
        "outputId": "e97c37a2-fa87-41fe-c502-04fdefb6c112"
      },
      "source": [
        "try:\n",
        "    cube(tf.constant([[1, 2], [3, 4]]))\n",
        "except ValueError as ex:\n",
        "    print(ex)"
      ],
      "execution_count": 111,
      "outputs": [
        {
          "output_type": "stream",
          "text": [
            "Python inputs incompatible with input_signature:\n",
            "  inputs: (\n",
            "    tf.Tensor(\n",
            "[[1 2]\n",
            " [3 4]], shape=(2, 2), dtype=int32))\n",
            "  input_signature: (\n",
            "    TensorSpec(shape=(None,), dtype=tf.int32, name='x'))\n"
          ],
          "name": "stdout"
        }
      ]
    },
    {
      "cell_type": "markdown",
      "metadata": {
        "id": "jsYYGQjiFj2b",
        "colab_type": "text"
      },
      "source": [
        "![Exercise](https://c1.staticflickr.com/9/8101/8553474140_c50cf08708_b.jpg)"
      ]
    },
    {
      "cell_type": "markdown",
      "metadata": {
        "id": "SpfGbNThFj2b",
        "colab_type": "text"
      },
      "source": [
        "## Exercise 4 – Function Graphs"
      ]
    },
    {
      "cell_type": "markdown",
      "metadata": {
        "id": "Zlw-TI4OFj2c",
        "colab_type": "text"
      },
      "source": [
        "### 4.1)\n",
        "Examine and run the following code examples."
      ]
    },
    {
      "cell_type": "code",
      "metadata": {
        "id": "MCElWm0CFj2c",
        "colab_type": "code",
        "colab": {}
      },
      "source": [
        "@tf.function(input_signature=[tf.TensorSpec([None], tf.int32, name=\"x\")])\n",
        "def cube(z):\n",
        "    return tf.pow(z, 3)"
      ],
      "execution_count": 0,
      "outputs": []
    },
    {
      "cell_type": "code",
      "metadata": {
        "id": "sK1Na9VvFj2d",
        "colab_type": "code",
        "colab": {
          "base_uri": "https://localhost:8080/",
          "height": 34
        },
        "outputId": "f39f2038-3223-426d-d40f-4287a3c67f75"
      },
      "source": [
        "cube_func_int32 = cube.get_concrete_function(tf.TensorSpec([None], tf.int32))\n",
        "cube_func_int32"
      ],
      "execution_count": 117,
      "outputs": [
        {
          "output_type": "execute_result",
          "data": {
            "text/plain": [
              "<tensorflow.python.eager.function.ConcreteFunction at 0x7f7599407e80>"
            ]
          },
          "metadata": {
            "tags": []
          },
          "execution_count": 117
        }
      ]
    },
    {
      "cell_type": "code",
      "metadata": {
        "id": "UqrX5ggBFj2d",
        "colab_type": "code",
        "colab": {
          "base_uri": "https://localhost:8080/",
          "height": 34
        },
        "outputId": "330b6148-0a8f-4988-a70b-c04796170db1"
      },
      "source": [
        "cube_func_int32 is cube.get_concrete_function(tf.TensorSpec([5], tf.int32))"
      ],
      "execution_count": 118,
      "outputs": [
        {
          "output_type": "execute_result",
          "data": {
            "text/plain": [
              "True"
            ]
          },
          "metadata": {
            "tags": []
          },
          "execution_count": 118
        }
      ]
    },
    {
      "cell_type": "code",
      "metadata": {
        "id": "8Dsfi79UFj2e",
        "colab_type": "code",
        "colab": {
          "base_uri": "https://localhost:8080/",
          "height": 34
        },
        "outputId": "10d5fd21-90b3-498e-ec2d-077bc4e853f6"
      },
      "source": [
        "cube_func_int32 is cube.get_concrete_function(tf.constant([1, 2, 3]))"
      ],
      "execution_count": 119,
      "outputs": [
        {
          "output_type": "execute_result",
          "data": {
            "text/plain": [
              "True"
            ]
          },
          "metadata": {
            "tags": []
          },
          "execution_count": 119
        }
      ]
    },
    {
      "cell_type": "code",
      "metadata": {
        "id": "d5b6xrZNFj2f",
        "colab_type": "code",
        "colab": {
          "base_uri": "https://localhost:8080/",
          "height": 34
        },
        "outputId": "9495ca8f-fbb9-4b1d-9ae4-7934cd65b5cc"
      },
      "source": [
        "cube_func_int32.graph"
      ],
      "execution_count": 120,
      "outputs": [
        {
          "output_type": "execute_result",
          "data": {
            "text/plain": [
              "<tensorflow.python.framework.func_graph.FuncGraph at 0x7f7598b6c780>"
            ]
          },
          "metadata": {
            "tags": []
          },
          "execution_count": 120
        }
      ]
    },
    {
      "cell_type": "markdown",
      "metadata": {
        "id": "UpOhEB05Fj2f",
        "colab_type": "text"
      },
      "source": [
        "### 4.2)\n",
        "The function's graph is represented on the following diagram. Call the graph's `get_operations()` method to get the list of operations. Each operation has an `inputs` attribute that returns an iterator over its input tensors (these are symbolic: contrary to tensors we have used up to now, they have no value). It also has an `outputs` attribute that returns the list of output tensors. Each tensor has an `op` attribute that returns the operation it comes from. Try navigating through the graph using these methods and attributes."
      ]
    },
    {
      "cell_type": "markdown",
      "metadata": {
        "id": "Rb5sAhl5Fj2f",
        "colab_type": "text"
      },
      "source": [
        "<img src=\"https://github.com/cyyeh/tensorflow-tutorials/blob/master/modeling/tf2_course/images/cube_graph.png?raw=1\" width=\"600\" />"
      ]
    },
    {
      "cell_type": "code",
      "metadata": {
        "id": "pRkrpIYbFj2g",
        "colab_type": "code",
        "colab": {}
      },
      "source": [
        ""
      ],
      "execution_count": 0,
      "outputs": []
    },
    {
      "cell_type": "code",
      "metadata": {
        "id": "1Lx2t7rkFj2g",
        "colab_type": "code",
        "colab": {}
      },
      "source": [
        ""
      ],
      "execution_count": 0,
      "outputs": []
    },
    {
      "cell_type": "code",
      "metadata": {
        "id": "i_mvE3vEFj2i",
        "colab_type": "code",
        "colab": {}
      },
      "source": [
        ""
      ],
      "execution_count": 0,
      "outputs": []
    },
    {
      "cell_type": "markdown",
      "metadata": {
        "id": "oiGQuli9Fj2i",
        "colab_type": "text"
      },
      "source": [
        "### 4.3)\n",
        "Each operation has a default name, such as `\"pow\"` (you can override it by setting the `name` attribute when you call the operation). In case of a name conflict, TensorFlow adds an underscore and anindex to make the name unique (e.g. `\"pow_1\"`). Moreover, each tensor has the same name as the operation that outputs it, followed by a colon `:` and the tensor's `index` (e.g., `\"pow:0\"`). Most operations have a single output tensor, so most tensors have a name that ends with `:0`. Try using `get_operation_by_name()` and `get_tensor_by_name()` to access any op and tensor you wish."
      ]
    },
    {
      "cell_type": "code",
      "metadata": {
        "id": "z9Fm5JC2Fj2j",
        "colab_type": "code",
        "colab": {}
      },
      "source": [
        ""
      ],
      "execution_count": 0,
      "outputs": []
    },
    {
      "cell_type": "code",
      "metadata": {
        "id": "CFOieC7AFj2k",
        "colab_type": "code",
        "colab": {}
      },
      "source": [
        ""
      ],
      "execution_count": 0,
      "outputs": []
    },
    {
      "cell_type": "code",
      "metadata": {
        "id": "rlwVkvfsFj2l",
        "colab_type": "code",
        "colab": {}
      },
      "source": [
        ""
      ],
      "execution_count": 0,
      "outputs": []
    },
    {
      "cell_type": "markdown",
      "metadata": {
        "id": "Oue8lR3YFj2m",
        "colab_type": "text"
      },
      "source": [
        "### 4.4)\n",
        "Call the graph's `as_graph_def()` method and print the output. This is a protobuf representation of the computation graph: it is what makes TensorFlow models so portable."
      ]
    },
    {
      "cell_type": "code",
      "metadata": {
        "id": "9xb1AX1pFj2n",
        "colab_type": "code",
        "colab": {}
      },
      "source": [
        ""
      ],
      "execution_count": 0,
      "outputs": []
    },
    {
      "cell_type": "code",
      "metadata": {
        "id": "IUfOfAInFj2n",
        "colab_type": "code",
        "colab": {}
      },
      "source": [
        ""
      ],
      "execution_count": 0,
      "outputs": []
    },
    {
      "cell_type": "code",
      "metadata": {
        "id": "cya31jmxFj2o",
        "colab_type": "code",
        "colab": {}
      },
      "source": [
        ""
      ],
      "execution_count": 0,
      "outputs": []
    },
    {
      "cell_type": "markdown",
      "metadata": {
        "id": "-BFzc6Z1Fj2p",
        "colab_type": "text"
      },
      "source": [
        "### 4.5)\n",
        "Get the concrete function's `function_def`, and look at its `signature`. This shows the names and types of the nodes in the graph that correspond to the function's inputs and outputs. This will come in handy when you deploy models to TensorFlow Serving or Google Cloud ML Engine."
      ]
    },
    {
      "cell_type": "code",
      "metadata": {
        "id": "m_zKjxD8Fj2p",
        "colab_type": "code",
        "colab": {}
      },
      "source": [
        ""
      ],
      "execution_count": 0,
      "outputs": []
    },
    {
      "cell_type": "code",
      "metadata": {
        "id": "9Dq2YHlJFj2p",
        "colab_type": "code",
        "colab": {}
      },
      "source": [
        ""
      ],
      "execution_count": 0,
      "outputs": []
    },
    {
      "cell_type": "code",
      "metadata": {
        "id": "rdN-JWkCFj2q",
        "colab_type": "code",
        "colab": {}
      },
      "source": [
        ""
      ],
      "execution_count": 0,
      "outputs": []
    },
    {
      "cell_type": "markdown",
      "metadata": {
        "id": "b36B7I4QFj2r",
        "colab_type": "text"
      },
      "source": [
        "![Exercise solution](https://camo.githubusercontent.com/250388fde3fac9135ead9471733ee28e049f7a37/68747470733a2f2f75706c6f61642e77696b696d656469612e6f72672f77696b6970656469612f636f6d6d6f6e732f302f30362f46696c6f735f736567756e646f5f6c6f676f5f253238666c69707065642532392e6a7067)"
      ]
    },
    {
      "cell_type": "markdown",
      "metadata": {
        "id": "T8jus-9SFj2r",
        "colab_type": "text"
      },
      "source": [
        "## Exercise 4 – Solution"
      ]
    },
    {
      "cell_type": "markdown",
      "metadata": {
        "id": "KpFFLOzQFj2r",
        "colab_type": "text"
      },
      "source": [
        "### 4.1)\n",
        "Examine the code examples."
      ]
    },
    {
      "cell_type": "markdown",
      "metadata": {
        "id": "zcYOzy3RFj2r",
        "colab_type": "text"
      },
      "source": [
        "Done."
      ]
    },
    {
      "cell_type": "markdown",
      "metadata": {
        "id": "XhQFKOKJFj2s",
        "colab_type": "text"
      },
      "source": [
        "### 4.2)\n",
        "The function's graph is represented on the following diagram. Call the graph's `get_operations()` method to get the list of operations. Each operation has an `inputs` attribute that returns an iterator over its input tensors (these are symbolic: contrary to tensors we have used up to now, they have no value). It also has an `outputs` attribute that returns the list of output tensors. Each tensor has an `op` attribute that returns the operation it comes from. Try navigating through the graph using these methods and attributes."
      ]
    },
    {
      "cell_type": "markdown",
      "metadata": {
        "id": "NDNsKTj9Fj2u",
        "colab_type": "text"
      },
      "source": [
        "<img src=\"https://github.com/cyyeh/tensorflow-tutorials/blob/master/modeling/tf2_course/images/cube_graph.png?raw=1\" width=\"600\" />"
      ]
    },
    {
      "cell_type": "code",
      "metadata": {
        "id": "mLImr3bBFj2u",
        "colab_type": "code",
        "colab": {
          "base_uri": "https://localhost:8080/",
          "height": 85
        },
        "outputId": "a88693ad-79ca-4e13-c748-a180f6204172"
      },
      "source": [
        "cube_func_int32.graph.get_operations()"
      ],
      "execution_count": 121,
      "outputs": [
        {
          "output_type": "execute_result",
          "data": {
            "text/plain": [
              "[<tf.Operation 'x' type=Placeholder>,\n",
              " <tf.Operation 'Pow/y' type=Const>,\n",
              " <tf.Operation 'Pow' type=Pow>,\n",
              " <tf.Operation 'Identity' type=Identity>]"
            ]
          },
          "metadata": {
            "tags": []
          },
          "execution_count": 121
        }
      ]
    },
    {
      "cell_type": "code",
      "metadata": {
        "id": "h02118J3Fj2w",
        "colab_type": "code",
        "colab": {
          "base_uri": "https://localhost:8080/",
          "height": 34
        },
        "outputId": "c9b58dd5-3d3e-4fe9-f31b-f883f5576223"
      },
      "source": [
        "pow_op = cube_func_int32.graph.get_operations()[2]\n",
        "pow_op"
      ],
      "execution_count": 122,
      "outputs": [
        {
          "output_type": "execute_result",
          "data": {
            "text/plain": [
              "<tf.Operation 'Pow' type=Pow>"
            ]
          },
          "metadata": {
            "tags": []
          },
          "execution_count": 122
        }
      ]
    },
    {
      "cell_type": "code",
      "metadata": {
        "id": "YaBRN7C2Fj2x",
        "colab_type": "code",
        "colab": {
          "base_uri": "https://localhost:8080/",
          "height": 51
        },
        "outputId": "6dae1fd3-9760-4001-fe7b-346f5bbdad05"
      },
      "source": [
        "pow_in = list(pow_op.inputs)\n",
        "pow_in"
      ],
      "execution_count": 123,
      "outputs": [
        {
          "output_type": "execute_result",
          "data": {
            "text/plain": [
              "[<tf.Tensor 'x:0' shape=(None,) dtype=int32>,\n",
              " <tf.Tensor 'Pow/y:0' shape=() dtype=int32>]"
            ]
          },
          "metadata": {
            "tags": []
          },
          "execution_count": 123
        }
      ]
    },
    {
      "cell_type": "code",
      "metadata": {
        "id": "2bCCpg0FFj2y",
        "colab_type": "code",
        "colab": {
          "base_uri": "https://localhost:8080/",
          "height": 34
        },
        "outputId": "1dc28b95-fbeb-411f-c162-d584ea482776"
      },
      "source": [
        "pow_out = list(pow_op.outputs)\n",
        "pow_out"
      ],
      "execution_count": 124,
      "outputs": [
        {
          "output_type": "execute_result",
          "data": {
            "text/plain": [
              "[<tf.Tensor 'Pow:0' shape=(None,) dtype=int32>]"
            ]
          },
          "metadata": {
            "tags": []
          },
          "execution_count": 124
        }
      ]
    },
    {
      "cell_type": "code",
      "metadata": {
        "id": "hnjXgZfkFj20",
        "colab_type": "code",
        "colab": {
          "base_uri": "https://localhost:8080/",
          "height": 51
        },
        "outputId": "10d6e095-0639-4a34-c058-05d3a37db893"
      },
      "source": [
        "pow_in = list(pow_op.inputs)\n",
        "pow_in"
      ],
      "execution_count": 125,
      "outputs": [
        {
          "output_type": "execute_result",
          "data": {
            "text/plain": [
              "[<tf.Tensor 'x:0' shape=(None,) dtype=int32>,\n",
              " <tf.Tensor 'Pow/y:0' shape=() dtype=int32>]"
            ]
          },
          "metadata": {
            "tags": []
          },
          "execution_count": 125
        }
      ]
    },
    {
      "cell_type": "code",
      "metadata": {
        "id": "qEBNyJwIFj21",
        "colab_type": "code",
        "colab": {
          "base_uri": "https://localhost:8080/",
          "height": 34
        },
        "outputId": "37727e39-d4d1-4e77-97dd-9af9f13d0a87"
      },
      "source": [
        "pow_in[0].op"
      ],
      "execution_count": 126,
      "outputs": [
        {
          "output_type": "execute_result",
          "data": {
            "text/plain": [
              "<tf.Operation 'x' type=Placeholder>"
            ]
          },
          "metadata": {
            "tags": []
          },
          "execution_count": 126
        }
      ]
    },
    {
      "cell_type": "markdown",
      "metadata": {
        "id": "x_sytSrnFj21",
        "colab_type": "text"
      },
      "source": [
        "### 4.3)\n",
        "Each operation has a default name, such as `\"pow\"` (you can override it by setting the `name` attribute when you call the operation). In case of a name conflict, TensorFlow adds an underscore and anindex to make the name unique (e.g. `\"pow_1\"`). Moreover, each tensor has the same name as the operation that outputs it, followed by a colon `:` and the tensor's `index` (e.g., `\"pow:0\"`). Most operations have a single output tensor, so most tensors have a name that ends with `:0`. Try using `get_operation_by_name()` and `get_tensor_by_name()` to access any op and tensor you wish."
      ]
    },
    {
      "cell_type": "code",
      "metadata": {
        "id": "iGGmGuVXFj22",
        "colab_type": "code",
        "colab": {
          "base_uri": "https://localhost:8080/",
          "height": 34
        },
        "outputId": "ed62903d-a69e-4488-a875-3f82eccf1aff"
      },
      "source": [
        "cube_func_int32.graph.get_operation_by_name(\"x\")"
      ],
      "execution_count": 127,
      "outputs": [
        {
          "output_type": "execute_result",
          "data": {
            "text/plain": [
              "<tf.Operation 'x' type=Placeholder>"
            ]
          },
          "metadata": {
            "tags": []
          },
          "execution_count": 127
        }
      ]
    },
    {
      "cell_type": "code",
      "metadata": {
        "id": "S8_A-LWtFj23",
        "colab_type": "code",
        "colab": {
          "base_uri": "https://localhost:8080/",
          "height": 34
        },
        "outputId": "9fc9fac7-4894-46cf-9eeb-f06c54bb941e"
      },
      "source": [
        "cube_func_int32.graph.get_tensor_by_name(\"x:0\")"
      ],
      "execution_count": 128,
      "outputs": [
        {
          "output_type": "execute_result",
          "data": {
            "text/plain": [
              "<tf.Tensor 'x:0' shape=(None,) dtype=int32>"
            ]
          },
          "metadata": {
            "tags": []
          },
          "execution_count": 128
        }
      ]
    },
    {
      "cell_type": "markdown",
      "metadata": {
        "id": "jPcF9BNUFj24",
        "colab_type": "text"
      },
      "source": [
        "### 4.4)\n",
        "Call the graph's `as_graph_def()` method and print the output. This is a protobuf representation of the computation graph: it is what makes TensorFlow models so portable."
      ]
    },
    {
      "cell_type": "code",
      "metadata": {
        "id": "twDyfYSxFj25",
        "colab_type": "code",
        "colab": {
          "base_uri": "https://localhost:8080/",
          "height": 1000
        },
        "outputId": "fe1638fb-6da6-4813-deaf-78192888e996"
      },
      "source": [
        "cube_func_int32.graph.as_graph_def()"
      ],
      "execution_count": 129,
      "outputs": [
        {
          "output_type": "execute_result",
          "data": {
            "text/plain": [
              "node {\n",
              "  name: \"x\"\n",
              "  op: \"Placeholder\"\n",
              "  attr {\n",
              "    key: \"_user_specified_name\"\n",
              "    value {\n",
              "      s: \"x\"\n",
              "    }\n",
              "  }\n",
              "  attr {\n",
              "    key: \"dtype\"\n",
              "    value {\n",
              "      type: DT_INT32\n",
              "    }\n",
              "  }\n",
              "  attr {\n",
              "    key: \"shape\"\n",
              "    value {\n",
              "      shape {\n",
              "        dim {\n",
              "          size: -1\n",
              "        }\n",
              "      }\n",
              "    }\n",
              "  }\n",
              "}\n",
              "node {\n",
              "  name: \"Pow/y\"\n",
              "  op: \"Const\"\n",
              "  attr {\n",
              "    key: \"dtype\"\n",
              "    value {\n",
              "      type: DT_INT32\n",
              "    }\n",
              "  }\n",
              "  attr {\n",
              "    key: \"value\"\n",
              "    value {\n",
              "      tensor {\n",
              "        dtype: DT_INT32\n",
              "        tensor_shape {\n",
              "        }\n",
              "        int_val: 3\n",
              "      }\n",
              "    }\n",
              "  }\n",
              "}\n",
              "node {\n",
              "  name: \"Pow\"\n",
              "  op: \"Pow\"\n",
              "  input: \"x\"\n",
              "  input: \"Pow/y\"\n",
              "  attr {\n",
              "    key: \"T\"\n",
              "    value {\n",
              "      type: DT_INT32\n",
              "    }\n",
              "  }\n",
              "}\n",
              "node {\n",
              "  name: \"Identity\"\n",
              "  op: \"Identity\"\n",
              "  input: \"Pow\"\n",
              "  attr {\n",
              "    key: \"T\"\n",
              "    value {\n",
              "      type: DT_INT32\n",
              "    }\n",
              "  }\n",
              "}\n",
              "versions {\n",
              "  producer: 175\n",
              "}"
            ]
          },
          "metadata": {
            "tags": []
          },
          "execution_count": 129
        }
      ]
    },
    {
      "cell_type": "markdown",
      "metadata": {
        "id": "7Flgk0dhFj26",
        "colab_type": "text"
      },
      "source": [
        "### 4.5)\n",
        "Get the concrete function's `function_def`, and look at its `signature`. This shows the names and types of the nodes in the graph that correspond to the function's inputs and outputs. This will come in handy when you deploy models to TensorFlow Serving or Google Cloud ML Engine."
      ]
    },
    {
      "cell_type": "code",
      "metadata": {
        "scrolled": false,
        "id": "T9pnHeeVFj26",
        "colab_type": "code",
        "colab": {
          "base_uri": "https://localhost:8080/",
          "height": 170
        },
        "outputId": "70a5ca1d-1a0b-455a-afe3-325b4e7792c0"
      },
      "source": [
        "cube_func_int32.function_def.signature"
      ],
      "execution_count": 130,
      "outputs": [
        {
          "output_type": "execute_result",
          "data": {
            "text/plain": [
              "name: \"__inference_cube_236703\"\n",
              "input_arg {\n",
              "  name: \"x\"\n",
              "  type: DT_INT32\n",
              "}\n",
              "output_arg {\n",
              "  name: \"identity\"\n",
              "  type: DT_INT32\n",
              "}"
            ]
          },
          "metadata": {
            "tags": []
          },
          "execution_count": 130
        }
      ]
    },
    {
      "cell_type": "markdown",
      "metadata": {
        "id": "F2gglwAXFj27",
        "colab_type": "text"
      },
      "source": [
        "![Exercise](https://c1.staticflickr.com/9/8101/8553474140_c50cf08708_b.jpg)"
      ]
    },
    {
      "cell_type": "markdown",
      "metadata": {
        "id": "tse45TglFj27",
        "colab_type": "text"
      },
      "source": [
        "## Exercise 5 – Autodiff"
      ]
    },
    {
      "cell_type": "markdown",
      "metadata": {
        "id": "FRn5RvUqFj29",
        "colab_type": "text"
      },
      "source": [
        "### 5.1)\n",
        "Examine and run the following code examples."
      ]
    },
    {
      "cell_type": "code",
      "metadata": {
        "id": "-r-fQ4GcFj29",
        "colab_type": "code",
        "colab": {}
      },
      "source": [
        "def f(x):\n",
        "    return 3. * x ** 2 + 2. * x - 1."
      ],
      "execution_count": 0,
      "outputs": []
    },
    {
      "cell_type": "code",
      "metadata": {
        "id": "EJMvmlafFj2-",
        "colab_type": "code",
        "colab": {}
      },
      "source": [
        "def approximate_derivative(f, x, eps=1e-3):\n",
        "    return (f(x + eps) - f(x - eps)) / (2. * eps)"
      ],
      "execution_count": 0,
      "outputs": []
    },
    {
      "cell_type": "code",
      "metadata": {
        "id": "EKsINlBhFj2_",
        "colab_type": "code",
        "colab": {
          "base_uri": "https://localhost:8080/",
          "height": 34
        },
        "outputId": "ef52736a-cf19-4b72-8e8c-0289e6905a1f"
      },
      "source": [
        "approximate_derivative(f, 1.0) # true derivative = 8"
      ],
      "execution_count": 133,
      "outputs": [
        {
          "output_type": "execute_result",
          "data": {
            "text/plain": [
              "7.999999999999119"
            ]
          },
          "metadata": {
            "tags": []
          },
          "execution_count": 133
        }
      ]
    },
    {
      "cell_type": "code",
      "metadata": {
        "id": "pg5Ig4I0Fj2_",
        "colab_type": "code",
        "colab": {
          "base_uri": "https://localhost:8080/",
          "height": 287
        },
        "outputId": "491ad9a6-50d5-4afe-b217-10fc65d0339c"
      },
      "source": [
        "xs = np.linspace(-2, 2, 200)\n",
        "fs = f(xs)\n",
        "x0 = 0.5\n",
        "df_x0 = approximate_derivative(f, x0)\n",
        "tangent_x0 = df_x0 * (xs - x0) + f(x0)\n",
        "plt.plot([-2, 2], [0, 0], \"k-\", linewidth=1)\n",
        "plt.plot([0, 0], [-5, 15], \"k-\", linewidth=1)\n",
        "plt.plot(xs, fs)\n",
        "plt.plot(xs, tangent_x0, \"r--\")\n",
        "plt.plot(x0, f(x0), \"ro\")\n",
        "plt.grid(True)\n",
        "plt.xlabel(\"x\", fontsize=14)\n",
        "plt.ylabel(\"f(x)\", fontsize=14, rotation=0)\n",
        "plt.axis([-2, 2, -5, 15])\n",
        "plt.show()"
      ],
      "execution_count": 134,
      "outputs": [
        {
          "output_type": "display_data",
          "data": {
            "image/png": "[encoded data removed]",
            "text/plain": [
              "<Figure size 432x288 with 1 Axes>"
            ]
          },
          "metadata": {
            "tags": [],
            "needs_background": "light"
          }
        }
      ]
    },
    {
      "cell_type": "code",
      "metadata": {
        "id": "GTDzec2GFj3A",
        "colab_type": "code",
        "colab": {}
      },
      "source": [
        "def g(x1, x2):\n",
        "    return (x1 + 5) * (x2 ** 2)"
      ],
      "execution_count": 0,
      "outputs": []
    },
    {
      "cell_type": "code",
      "metadata": {
        "id": "p0v4m1uQFj3B",
        "colab_type": "code",
        "colab": {}
      },
      "source": [
        "def approximate_gradient(f, x1, x2, eps=1e-3):\n",
        "    df_x1 = approximate_derivative(lambda x: f(x, x2), x1, eps)\n",
        "    df_x2 = approximate_derivative(lambda x: f(x1, x), x2, eps)\n",
        "    return df_x1, df_x2"
      ],
      "execution_count": 0,
      "outputs": []
    },
    {
      "cell_type": "code",
      "metadata": {
        "id": "MZwRvWUEFj3C",
        "colab_type": "code",
        "colab": {
          "base_uri": "https://localhost:8080/",
          "height": 34
        },
        "outputId": "819a49fc-f4a7-44b4-b83e-dfe1429e4c15"
      },
      "source": [
        "approximate_gradient(g, 2.0, 3.0) # true gradient = (9, 42)"
      ],
      "execution_count": 137,
      "outputs": [
        {
          "output_type": "execute_result",
          "data": {
            "text/plain": [
              "(8.999999999993236, 41.999999999994486)"
            ]
          },
          "metadata": {
            "tags": []
          },
          "execution_count": 137
        }
      ]
    },
    {
      "cell_type": "code",
      "metadata": {
        "id": "PycCejChFj3C",
        "colab_type": "code",
        "colab": {
          "base_uri": "https://localhost:8080/",
          "height": 51
        },
        "outputId": "0acc2f90-f23f-44e4-d4d7-5a04c251cd54"
      },
      "source": [
        "x1 = tf.Variable(2.0)\n",
        "x2 = tf.Variable(3.0)\n",
        "with tf.GradientTape() as tape:\n",
        "    z = g(x1, x2)\n",
        "grads = tape.gradient(z, [x1, x2])\n",
        "grads"
      ],
      "execution_count": 138,
      "outputs": [
        {
          "output_type": "execute_result",
          "data": {
            "text/plain": [
              "[<tf.Tensor: shape=(), dtype=float32, numpy=9.0>,\n",
              " <tf.Tensor: shape=(), dtype=float32, numpy=42.0>]"
            ]
          },
          "metadata": {
            "tags": []
          },
          "execution_count": 138
        }
      ]
    },
    {
      "cell_type": "code",
      "metadata": {
        "id": "ctMbpXR5Fj3D",
        "colab_type": "code",
        "colab": {
          "base_uri": "https://localhost:8080/",
          "height": 34
        },
        "outputId": "f82e7f1c-2dcf-4e6e-c8c4-43dbf832359f"
      },
      "source": [
        "x1 = tf.Variable(2.0)\n",
        "x2 = tf.Variable(3.0)\n",
        "with tf.GradientTape() as tape:\n",
        "    z = g(x1, x2)\n",
        "\n",
        "dz_x1 = tape.gradient(z, x1)\n",
        "try:\n",
        "    dz_x2 = tape.gradient(z, x2)\n",
        "except RuntimeError as ex:\n",
        "    print(ex)"
      ],
      "execution_count": 139,
      "outputs": [
        {
          "output_type": "stream",
          "text": [
            "GradientTape.gradient can only be called once on non-persistent tapes.\n"
          ],
          "name": "stdout"
        }
      ]
    },
    {
      "cell_type": "code",
      "metadata": {
        "id": "3uipJOVGFj3D",
        "colab_type": "code",
        "colab": {
          "base_uri": "https://localhost:8080/",
          "height": 51
        },
        "outputId": "191e3692-055a-4f41-e510-6c48ab62451c"
      },
      "source": [
        "x1 = tf.Variable(2.0)\n",
        "x2 = tf.Variable(3.0)\n",
        "with tf.GradientTape(persistent=True) as tape:\n",
        "    z = g(x1, x2)\n",
        "\n",
        "dz_x1 = tape.gradient(z, x1)\n",
        "dz_x2 = tape.gradient(z, x2)\n",
        "del tape\n",
        "dz_x1, dz_x2"
      ],
      "execution_count": 140,
      "outputs": [
        {
          "output_type": "execute_result",
          "data": {
            "text/plain": [
              "(<tf.Tensor: shape=(), dtype=float32, numpy=9.0>,\n",
              " <tf.Tensor: shape=(), dtype=float32, numpy=42.0>)"
            ]
          },
          "metadata": {
            "tags": []
          },
          "execution_count": 140
        }
      ]
    },
    {
      "cell_type": "code",
      "metadata": {
        "id": "WiqFF27GFj3E",
        "colab_type": "code",
        "colab": {
          "base_uri": "https://localhost:8080/",
          "height": 34
        },
        "outputId": "84fddf02-bc7b-43dc-fc01-ae51f4f6b89e"
      },
      "source": [
        "x1 = tf.constant(2.0) # <= not Variable\n",
        "x2 = tf.constant(3.0) # <= not Variable\n",
        "with tf.GradientTape() as tape:\n",
        "    z = g(x1, x2)\n",
        "\n",
        "grads = tape.gradient(z, [x1, x2])\n",
        "grads"
      ],
      "execution_count": 141,
      "outputs": [
        {
          "output_type": "execute_result",
          "data": {
            "text/plain": [
              "[None, None]"
            ]
          },
          "metadata": {
            "tags": []
          },
          "execution_count": 141
        }
      ]
    },
    {
      "cell_type": "code",
      "metadata": {
        "id": "daw1vy9tFj3E",
        "colab_type": "code",
        "colab": {
          "base_uri": "https://localhost:8080/",
          "height": 51
        },
        "outputId": "09f1bd99-4112-46cf-bb5c-bbdc9cf50556"
      },
      "source": [
        "x1 = tf.constant(2.0)\n",
        "x2 = tf.constant(3.0)\n",
        "with tf.GradientTape() as tape:\n",
        "    tape.watch(x1)\n",
        "    tape.watch(x2)\n",
        "    z = g(x1, x2)\n",
        "\n",
        "grads = tape.gradient(z, [x1, x2])\n",
        "grads"
      ],
      "execution_count": 142,
      "outputs": [
        {
          "output_type": "execute_result",
          "data": {
            "text/plain": [
              "[<tf.Tensor: shape=(), dtype=float32, numpy=9.0>,\n",
              " <tf.Tensor: shape=(), dtype=float32, numpy=42.0>]"
            ]
          },
          "metadata": {
            "tags": []
          },
          "execution_count": 142
        }
      ]
    },
    {
      "cell_type": "code",
      "metadata": {
        "id": "z8GfMhtnFj3F",
        "colab_type": "code",
        "colab": {
          "base_uri": "https://localhost:8080/",
          "height": 34
        },
        "outputId": "c25392a1-7f5c-4be3-862e-7b8f8817ace6"
      },
      "source": [
        "x = tf.Variable(5.0)\n",
        "with tf.GradientTape() as tape:\n",
        "    z1 = 3 * x\n",
        "    z2 = x ** 2\n",
        "tape.gradient([z1, z2], x) # dz1_x + dz2_x = 3 + 2x = 3 + 2*5 = 13"
      ],
      "execution_count": 143,
      "outputs": [
        {
          "output_type": "execute_result",
          "data": {
            "text/plain": [
              "<tf.Tensor: shape=(), dtype=float32, numpy=13.0>"
            ]
          },
          "metadata": {
            "tags": []
          },
          "execution_count": 143
        }
      ]
    },
    {
      "cell_type": "code",
      "metadata": {
        "id": "MepE_XJOFj3G",
        "colab_type": "code",
        "colab": {
          "base_uri": "https://localhost:8080/",
          "height": 68
        },
        "outputId": "6caf13d4-7176-4213-c5a0-dd3ed89fa3bf"
      },
      "source": [
        "x1 = tf.Variable(2.0)\n",
        "x2 = tf.Variable(3.0)\n",
        "with tf.GradientTape(persistent=True) as hessian_tape:\n",
        "    with tf.GradientTape() as jacobian_tape:\n",
        "        z = g(x1, x2)\n",
        "    jacobians = jacobian_tape.gradient(z, [x1, x2])\n",
        "hessians = [hessian_tape.gradient(jacobian, [x1, x2])\n",
        "            for jacobian in jacobians]\n",
        "del hessian_tape\n",
        "hessians"
      ],
      "execution_count": 144,
      "outputs": [
        {
          "output_type": "execute_result",
          "data": {
            "text/plain": [
              "[[None, <tf.Tensor: shape=(), dtype=float32, numpy=6.0>],\n",
              " [<tf.Tensor: shape=(), dtype=float32, numpy=6.0>,\n",
              "  <tf.Tensor: shape=(), dtype=float32, numpy=14.0>]]"
            ]
          },
          "metadata": {
            "tags": []
          },
          "execution_count": 144
        }
      ]
    },
    {
      "cell_type": "markdown",
      "metadata": {
        "id": "GGZkL_j4Fj3H",
        "colab_type": "text"
      },
      "source": [
        "### 5.2)\n",
        "Implement Gradient Descent manually to find the value of `x` that minimizes the following function `f(x)`.\n",
        "\n",
        "**Tips**:\n",
        "* Define a variable `x` and initialize it to 0.\n",
        "* Define the `learning_rate` (e.g., 0.1).\n",
        "* Write a loop that will repeatedly (1) compute the gradient of `f` (actually a derivative in this case) at the current value of `x`, and (2) tweak `x` slightly in the opposite direction (by subtracting `learning_rate * df_dx`). You can use `x.assign_sub(...)` for this.\n",
        "* Using calculus, we can find that the algorithm should converge to $x = -\\frac{1}{3}$. Indeed, the derivative of $f(x) = 3 x^2 + 2x -1$ is $f'(x) = 6x + 2$, so the minimum is reached when $f'(x) = 0$ (slope is 0), so $6x + 2 = 0$, which leads to $x = -\\frac{1}{3}$.\n"
      ]
    },
    {
      "cell_type": "code",
      "metadata": {
        "id": "VtZtXZQfFj3H",
        "colab_type": "code",
        "colab": {}
      },
      "source": [
        "def f(x):\n",
        "    return 3. * x ** 2 + 2. * x - 1."
      ],
      "execution_count": 0,
      "outputs": []
    },
    {
      "cell_type": "code",
      "metadata": {
        "id": "Vb2MTDTtFj3I",
        "colab_type": "code",
        "colab": {}
      },
      "source": [
        ""
      ],
      "execution_count": 0,
      "outputs": []
    },
    {
      "cell_type": "code",
      "metadata": {
        "id": "kYyN-aBCFj3J",
        "colab_type": "code",
        "colab": {}
      },
      "source": [
        ""
      ],
      "execution_count": 0,
      "outputs": []
    },
    {
      "cell_type": "code",
      "metadata": {
        "id": "hHWMCzniFj3L",
        "colab_type": "code",
        "colab": {}
      },
      "source": [
        ""
      ],
      "execution_count": 0,
      "outputs": []
    },
    {
      "cell_type": "markdown",
      "metadata": {
        "id": "cnXujKkUFj3M",
        "colab_type": "text"
      },
      "source": [
        "### 5.3)\n",
        "Now use an `SGD` optimizer instead of manually tweaking `x`.\n",
        "\n",
        "**Tips**:\n",
        "* You first need to create an `SGD` optimizer, optionally specifying the learning_rate (e.g., `lr=0.1`).\n",
        "* Next replace the manual tweaking of `x` in your previous code to use `optimizer.apply_gradients()` instead. You need to pass it a list of gradient/variable pairs (just one pair in this example)."
      ]
    },
    {
      "cell_type": "code",
      "metadata": {
        "id": "Ca3voub7Fj3M",
        "colab_type": "code",
        "colab": {}
      },
      "source": [
        ""
      ],
      "execution_count": 0,
      "outputs": []
    },
    {
      "cell_type": "code",
      "metadata": {
        "id": "F9VbSIXWFj3M",
        "colab_type": "code",
        "colab": {}
      },
      "source": [
        ""
      ],
      "execution_count": 0,
      "outputs": []
    },
    {
      "cell_type": "code",
      "metadata": {
        "id": "yRaXqIYKFj3N",
        "colab_type": "code",
        "colab": {}
      },
      "source": [
        ""
      ],
      "execution_count": 0,
      "outputs": []
    },
    {
      "cell_type": "markdown",
      "metadata": {
        "id": "3HatErFTFj3N",
        "colab_type": "text"
      },
      "source": [
        "### 5.4)\n",
        "Create a `Sequential` model for the California housing problem (no need to compile it), and train it using your own training loop, instead of using `fit()`. Evaluate your model on the validation set at the end of each epoch, and display the result.\n",
        "\n",
        "**Tips**:\n",
        "* You can use the following `random_batch()` function to get a new batch of training data at each iteration (the Data API would be much preferable, as we will see in the next notebook).\n",
        "* You can use the model like a function to make predictions: `y_pred = model(X_batch)`\n",
        "* You can use `keras.losses.mean_squared_error()` to compute the loss. Note that it returns one loss per instance, so you need to use `tf.reduce_mean()` to get the mean loss. \n",
        "* You can use `model.trainable_variables` to get the full list of trainable variables in your model.\n",
        "* You can use `zip(gradients, variables)` to create a list containing all the gradient/variable pairs."
      ]
    },
    {
      "cell_type": "code",
      "metadata": {
        "id": "FGhI7lwrFj3N",
        "colab_type": "code",
        "colab": {}
      },
      "source": [
        "def random_batch(X, y, batch_size = 32):\n",
        "    idx = np.random.randint(0, len(X), size=batch_size)\n",
        "    return X[idx], y[idx]"
      ],
      "execution_count": 0,
      "outputs": []
    },
    {
      "cell_type": "code",
      "metadata": {
        "id": "NGGYByg5Fj3O",
        "colab_type": "code",
        "colab": {}
      },
      "source": [
        ""
      ],
      "execution_count": 0,
      "outputs": []
    },
    {
      "cell_type": "code",
      "metadata": {
        "id": "17leESeeFj3P",
        "colab_type": "code",
        "colab": {}
      },
      "source": [
        ""
      ],
      "execution_count": 0,
      "outputs": []
    },
    {
      "cell_type": "code",
      "metadata": {
        "id": "4sz_IAapFj3Q",
        "colab_type": "code",
        "colab": {}
      },
      "source": [
        ""
      ],
      "execution_count": 0,
      "outputs": []
    },
    {
      "cell_type": "markdown",
      "metadata": {
        "id": "T3sOh9_-Fj3S",
        "colab_type": "text"
      },
      "source": [
        "### 5.5)\n",
        "Examine and run the following code examples, then update your training loop to display the training loss at each iteration.\n",
        "\n",
        "**Tips**:\n",
        "* You can use a `keras.metrics.MeanSquaredError` instance to efficiently track the running mean squared error at each iteration.\n",
        "* Make sure you reset the metric's states at the start of each epoch.\n",
        "* You can use `print(\"\\r\", mse, end=\"\")` to display the MSE on the same line at each iteration."
      ]
    },
    {
      "cell_type": "code",
      "metadata": {
        "id": "z5JcrFLEFj3S",
        "colab_type": "code",
        "colab": {}
      },
      "source": [
        "metric = keras.metrics.MeanSquaredError()\n",
        "metric([5.], [2.])  # error = (2 - 5)**2 = 9\n",
        "metric([0.], [1.])  # error = (1 - 0)**2 = 1\n",
        "metric.result()     # mean error = (9 + 1) / 2 = 5"
      ],
      "execution_count": 0,
      "outputs": []
    },
    {
      "cell_type": "code",
      "metadata": {
        "id": "lvfA4KgGFj3T",
        "colab_type": "code",
        "colab": {}
      },
      "source": [
        "metric.reset_states()\n",
        "metric.result()"
      ],
      "execution_count": 0,
      "outputs": []
    },
    {
      "cell_type": "code",
      "metadata": {
        "id": "XKUANxS-Fj3U",
        "colab_type": "code",
        "colab": {}
      },
      "source": [
        "metric([1.], [3.])  # error = (3 - 1)**2 = 4\n",
        "metric.result()     # mean error = 4 / 1 = 4"
      ],
      "execution_count": 0,
      "outputs": []
    },
    {
      "cell_type": "code",
      "metadata": {
        "id": "-EC8J9n1Fj3V",
        "colab_type": "code",
        "colab": {}
      },
      "source": [
        ""
      ],
      "execution_count": 0,
      "outputs": []
    },
    {
      "cell_type": "code",
      "metadata": {
        "id": "QBOnFgTQFj3W",
        "colab_type": "code",
        "colab": {}
      },
      "source": [
        ""
      ],
      "execution_count": 0,
      "outputs": []
    },
    {
      "cell_type": "code",
      "metadata": {
        "id": "DpyEL_OYFj3X",
        "colab_type": "code",
        "colab": {}
      },
      "source": [
        ""
      ],
      "execution_count": 0,
      "outputs": []
    },
    {
      "cell_type": "markdown",
      "metadata": {
        "id": "LuFWZvPCFj3Y",
        "colab_type": "text"
      },
      "source": [
        "![Exercise solution](https://camo.githubusercontent.com/250388fde3fac9135ead9471733ee28e049f7a37/68747470733a2f2f75706c6f61642e77696b696d656469612e6f72672f77696b6970656469612f636f6d6d6f6e732f302f30362f46696c6f735f736567756e646f5f6c6f676f5f253238666c69707065642532392e6a7067)"
      ]
    },
    {
      "cell_type": "markdown",
      "metadata": {
        "id": "MGthcA3QFj3Y",
        "colab_type": "text"
      },
      "source": [
        "## Exercise 5 – Solution"
      ]
    },
    {
      "cell_type": "markdown",
      "metadata": {
        "id": "-lnOqNA_Fj3Y",
        "colab_type": "text"
      },
      "source": [
        "### 5.1)\n",
        "Examine the code examples."
      ]
    },
    {
      "cell_type": "markdown",
      "metadata": {
        "id": "z4DwOz4AFj3Y",
        "colab_type": "text"
      },
      "source": [
        "Done"
      ]
    },
    {
      "cell_type": "markdown",
      "metadata": {
        "id": "bU2FzTQYFj3Y",
        "colab_type": "text"
      },
      "source": [
        "### 5.2)\n",
        "Implement Gradient Descent manually to find the value of `x` that minimizes the following function `f(x)`."
      ]
    },
    {
      "cell_type": "code",
      "metadata": {
        "id": "LHAieWkPFj3Y",
        "colab_type": "code",
        "colab": {}
      },
      "source": [
        "def f(x):\n",
        "    return 3. * x ** 2 + 2. * x - 1."
      ],
      "execution_count": 0,
      "outputs": []
    },
    {
      "cell_type": "code",
      "metadata": {
        "id": "XCeofaVHFj3Z",
        "colab_type": "code",
        "colab": {
          "base_uri": "https://localhost:8080/",
          "height": 34
        },
        "outputId": "9aff1b23-4d65-4ea5-80b3-a57a4f4ac850"
      },
      "source": [
        "learning_rate = 0.1\n",
        "x = tf.Variable(0.0)\n",
        "\n",
        "for iteration in range(100):\n",
        "    with tf.GradientTape() as tape:\n",
        "        z = f(x)\n",
        "    dz_dx = tape.gradient(z, x)\n",
        "    x.assign_sub(learning_rate * dz_dx)\n",
        "x"
      ],
      "execution_count": 148,
      "outputs": [
        {
          "output_type": "execute_result",
          "data": {
            "text/plain": [
              "<tf.Variable 'Variable:0' shape=() dtype=float32, numpy=-0.3333333>"
            ]
          },
          "metadata": {
            "tags": []
          },
          "execution_count": 148
        }
      ]
    },
    {
      "cell_type": "markdown",
      "metadata": {
        "id": "bLaK_i-WFj3a",
        "colab_type": "text"
      },
      "source": [
        "### 5.3)\n",
        "Now use an `SGD` optimizer instead of manually tweaking `x`."
      ]
    },
    {
      "cell_type": "code",
      "metadata": {
        "id": "jT7NUnMSFj3a",
        "colab_type": "code",
        "colab": {
          "base_uri": "https://localhost:8080/",
          "height": 34
        },
        "outputId": "3fcd3b25-98f4-4819-9e86-b81a929d9090"
      },
      "source": [
        "x = tf.Variable(0.0)\n",
        "optimizer = keras.optimizers.SGD(lr=0.1)\n",
        "\n",
        "for iteration in range(100):\n",
        "    with tf.GradientTape() as tape:\n",
        "        z = f(x)\n",
        "    dz_dx = tape.gradient(z, x)\n",
        "    optimizer.apply_gradients([(dz_dx, x)])\n",
        "x"
      ],
      "execution_count": 149,
      "outputs": [
        {
          "output_type": "execute_result",
          "data": {
            "text/plain": [
              "<tf.Variable 'Variable:0' shape=() dtype=float32, numpy=-0.3333333>"
            ]
          },
          "metadata": {
            "tags": []
          },
          "execution_count": 149
        }
      ]
    },
    {
      "cell_type": "markdown",
      "metadata": {
        "id": "nYl84Ug0Fj3b",
        "colab_type": "text"
      },
      "source": [
        "### 5.4)\n",
        "Create a `Sequential` model for the California housing problem (no need to compile it), and train it using your own training loop, instead of using `fit()`. Evaluate your model on the validation set at the end of each epoch, and display the result."
      ]
    },
    {
      "cell_type": "code",
      "metadata": {
        "id": "o487HdsOFj3c",
        "colab_type": "code",
        "colab": {}
      },
      "source": [
        "def random_batch(X, y, batch_size = 32):\n",
        "    idx = np.random.randint(0, len(X), size=batch_size)\n",
        "    return X[idx], y[idx]"
      ],
      "execution_count": 0,
      "outputs": []
    },
    {
      "cell_type": "code",
      "metadata": {
        "id": "_h8F1XE8Fj3c",
        "colab_type": "code",
        "colab": {
          "base_uri": "https://localhost:8080/",
          "height": 187
        },
        "outputId": "f8d71129-f0f0-40af-f18d-22030ecfeb18"
      },
      "source": [
        "epochs = 10\n",
        "batch_size = 32\n",
        "steps_per_epoch = len(X_train) // batch_size\n",
        "optimizer = keras.optimizers.SGD(lr=1e-3)\n",
        "loss_fn = keras.losses.mean_squared_error\n",
        "\n",
        "model = keras.models.Sequential([\n",
        "    keras.layers.Dense(30, activation=\"relu\", input_shape=X_train.shape[1:]),\n",
        "    keras.layers.Dense(1)\n",
        "])\n",
        "\n",
        "for epoch in range(epochs):\n",
        "    for step in range(steps_per_epoch):\n",
        "        X_batch, y_batch = random_batch(X_train_scaled, y_train, batch_size)\n",
        "        with tf.GradientTape() as tape:\n",
        "            y_pred = model(X_batch)\n",
        "            loss = tf.reduce_mean(loss_fn(y_batch, y_pred))\n",
        "        grads = tape.gradient(loss, model.variables)\n",
        "        grads_and_vars = zip(grads, model.variables)\n",
        "        optimizer.apply_gradients(grads_and_vars)\n",
        "    y_pred = model(X_valid_scaled)\n",
        "    valid_loss = tf.reduce_mean(loss_fn(y_valid, y_pred))\n",
        "    print(\"Epoch\", epoch, \"valid mse:\", valid_loss.numpy())"
      ],
      "execution_count": 151,
      "outputs": [
        {
          "output_type": "stream",
          "text": [
            "Epoch 0 valid mse: 8.54165\n",
            "Epoch 1 valid mse: 0.64047\n",
            "Epoch 2 valid mse: 0.57623273\n",
            "Epoch 3 valid mse: 0.5394704\n",
            "Epoch 4 valid mse: 0.55607074\n",
            "Epoch 5 valid mse: 0.5131995\n",
            "Epoch 6 valid mse: 0.48569137\n",
            "Epoch 7 valid mse: 0.48963532\n",
            "Epoch 8 valid mse: 0.4522052\n",
            "Epoch 9 valid mse: 0.44069386\n"
          ],
          "name": "stdout"
        }
      ]
    },
    {
      "cell_type": "markdown",
      "metadata": {
        "id": "jbq7bxwWFj3d",
        "colab_type": "text"
      },
      "source": [
        "### 5.5)\n",
        "Examine and run the following code examples, then update your training loop to display the training loss at each iteration."
      ]
    },
    {
      "cell_type": "code",
      "metadata": {
        "id": "s19YDodkFj3d",
        "colab_type": "code",
        "colab": {
          "base_uri": "https://localhost:8080/",
          "height": 34
        },
        "outputId": "920efd7f-c1a5-4c3d-e4ed-1ca07584c9c1"
      },
      "source": [
        "metric = keras.metrics.MeanSquaredError()\n",
        "metric([5.], [2.])  # error = (2 - 5)**2 = 9\n",
        "metric([0.], [1.])  # error = (1 - 0)**2 = 1\n",
        "metric.result()     # mean error = (9 + 1) / 2 = 5"
      ],
      "execution_count": 152,
      "outputs": [
        {
          "output_type": "execute_result",
          "data": {
            "text/plain": [
              "<tf.Tensor: shape=(), dtype=float32, numpy=5.0>"
            ]
          },
          "metadata": {
            "tags": []
          },
          "execution_count": 152
        }
      ]
    },
    {
      "cell_type": "code",
      "metadata": {
        "id": "KnuKtAbKFj3e",
        "colab_type": "code",
        "colab": {
          "base_uri": "https://localhost:8080/",
          "height": 34
        },
        "outputId": "72765753-fcfc-4a5f-812f-7abc62b98202"
      },
      "source": [
        "metric.reset_states()\n",
        "metric.result()"
      ],
      "execution_count": 153,
      "outputs": [
        {
          "output_type": "execute_result",
          "data": {
            "text/plain": [
              "<tf.Tensor: shape=(), dtype=float32, numpy=0.0>"
            ]
          },
          "metadata": {
            "tags": []
          },
          "execution_count": 153
        }
      ]
    },
    {
      "cell_type": "code",
      "metadata": {
        "id": "iDURZd7eFj3e",
        "colab_type": "code",
        "colab": {
          "base_uri": "https://localhost:8080/",
          "height": 34
        },
        "outputId": "eda1ad2b-4eae-44a7-f76e-0d95a5e2a5c2"
      },
      "source": [
        "metric([1.], [3.])  # error = (3 - 1)**2 = 4\n",
        "metric.result()     # mean error = 4 / 1 = 4"
      ],
      "execution_count": 154,
      "outputs": [
        {
          "output_type": "execute_result",
          "data": {
            "text/plain": [
              "<tf.Tensor: shape=(), dtype=float32, numpy=4.0>"
            ]
          },
          "metadata": {
            "tags": []
          },
          "execution_count": 154
        }
      ]
    },
    {
      "cell_type": "code",
      "metadata": {
        "scrolled": true,
        "id": "GaAwTHdbFj3f",
        "colab_type": "code",
        "colab": {
          "base_uri": "https://localhost:8080/",
          "height": 187
        },
        "outputId": "93c41a22-ab5e-45d5-c93c-d7033464d0fb"
      },
      "source": [
        "epochs = 10\n",
        "batch_size = 32\n",
        "steps_per_epoch = len(X_train) // batch_size\n",
        "optimizer = keras.optimizers.SGD(lr=1e-3)\n",
        "loss_fn = keras.losses.mean_squared_error\n",
        "metric = keras.metrics.MeanSquaredError()  # ADDED\n",
        "\n",
        "model = keras.models.Sequential([\n",
        "    keras.layers.Dense(30, activation=\"relu\", input_shape=X_train.shape[1:]),\n",
        "    keras.layers.Dense(1)\n",
        "])\n",
        "\n",
        "for epoch in range(epochs):\n",
        "    metric.reset_states()  # ADDED\n",
        "    for step in range(steps_per_epoch):\n",
        "        X_batch, y_batch = random_batch(X_train_scaled, y_train, batch_size)\n",
        "        with tf.GradientTape() as tape:\n",
        "            y_pred = model(X_batch)\n",
        "            loss = tf.reduce_mean(loss_fn(y_batch, y_pred))\n",
        "            metric(y_batch, y_pred)  # ADDED\n",
        "        grads = tape.gradient(loss, model.trainable_variables)\n",
        "        grads_and_vars = zip(grads, model.trainable_variables)\n",
        "        optimizer.apply_gradients(grads_and_vars)\n",
        "        print(\"\\rEpoch\", epoch, \" train mse:\", metric.result().numpy(), end=\"\")  # ADDED\n",
        "    y_pred = model(X_valid_scaled)\n",
        "    valid_loss = tf.reduce_mean(loss_fn(y_valid, y_pred))\n",
        "    print(\"\\tvalid mse:\", valid_loss.numpy())"
      ],
      "execution_count": 155,
      "outputs": [
        {
          "output_type": "stream",
          "text": [
            "Epoch 0  train mse: 2.046319\tvalid mse: 9.920165\n",
            "Epoch 1  train mse: 0.87379575\tvalid mse: 0.7284442\n",
            "Epoch 2  train mse: 0.7080329\tvalid mse: 0.95715517\n",
            "Epoch 3  train mse: 0.67871004\tvalid mse: 2.0234988\n",
            "Epoch 4  train mse: 0.644139\tvalid mse: 0.62096685\n",
            "Epoch 5  train mse: 0.6597003\tvalid mse: 0.5951186\n",
            "Epoch 6  train mse: 0.5933942\tvalid mse: 0.8365088\n",
            "Epoch 7  train mse: 0.59320307\tvalid mse: 0.56522745\n",
            "Epoch 8  train mse: 0.58318955\tvalid mse: 0.7235465\n",
            "Epoch 9  train mse: 0.5497341\tvalid mse: 0.5172614\n"
          ],
          "name": "stdout"
        }
      ]
    },
    {
      "cell_type": "markdown",
      "metadata": {
        "id": "BEkUnzOZFj3f",
        "colab_type": "text"
      },
      "source": [
        "## Conclusion"
      ]
    },
    {
      "cell_type": "markdown",
      "metadata": {
        "id": "EDp2LPzHFj3f",
        "colab_type": "text"
      },
      "source": [
        "Great! You now know how to use TensorFlow's low-level API to write custom loss functions, layers, and models. You also learned how to optimize your functions by converting them to graphs: this allows TensorFlow to run operations in parallel and to perform various optimizations. Next, you learned how TensorFlow Functions and graphs are structured, and how to navigate through them. Finally, you learned how to use autodiff and write your own custom training loops."
      ]
    }
  ]
}