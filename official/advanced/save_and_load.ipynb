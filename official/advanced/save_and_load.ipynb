{
 "cells": [
  {
   "cell_type": "markdown",
   "metadata": {
    "colab_type": "text",
    "id": "1l8bWGmIJuQa"
   },
   "source": [
    "##### Copyright 2019 The TensorFlow Authors.\n",
    "\n"
   ]
  },
  {
   "cell_type": "code",
   "execution_count": 1,
   "metadata": {
    "cellView": "form",
    "colab": {},
    "colab_type": "code",
    "id": "CPSnXS88KFEo"
   },
   "outputs": [],
   "source": [
    "#@title Licensed under the Apache License, Version 2.0 (the \"License\");\n",
    "# you may not use this file except in compliance with the License.\n",
    "# You may obtain a copy of the License at\n",
    "#\n",
    "# https://www.apache.org/licenses/LICENSE-2.0\n",
    "#\n",
    "# Unless required by applicable law or agreed to in writing, software\n",
    "# distributed under the License is distributed on an \"AS IS\" BASIS,\n",
    "# WITHOUT WARRANTIES OR CONDITIONS OF ANY KIND, either express or implied.\n",
    "# See the License for the specific language governing permissions and\n",
    "# limitations under the License."
   ]
  },
  {
   "cell_type": "markdown",
   "metadata": {
    "colab_type": "text",
    "id": "89xNCIO5hiCj"
   },
   "source": [
    "# Save and load a model using a distribution strategy"
   ]
  },
  {
   "cell_type": "markdown",
   "metadata": {
    "colab_type": "text",
    "id": "9Ejs4QVxIdAm"
   },
   "source": [
    "<table class=\"tfo-notebook-buttons\" align=\"left\">\n",
    "  <td>\n",
    "    <a target=\"_blank\" href=\"https://www.tensorflow.org/tutorials/distribute/save_and_load\"><img src=\"https://www.tensorflow.org/images/tf_logo_32px.png\" />View on TensorFlow.org</a>\n",
    "  </td>\n",
    "  <td>\n",
    "    <a target=\"_blank\" href=\"https://colab.research.google.com/github/tensorflow/docs/blob/master/site/en/tutorials/distribute/save_and_load.ipynb\"><img src=\"https://www.tensorflow.org/images/colab_logo_32px.png\" />Run in Google Colab</a>\n",
    "  </td>\n",
    "  <td>\n",
    "    <a target=\"_blank\" href=\"https://github.com/tensorflow/docs/blob/master/site/en/tutorials/distribute/save_and_load.ipynb\"><img src=\"https://www.tensorflow.org/images/GitHub-Mark-32px.png\" />View source on GitHub</a>\n",
    "  </td>\n",
    "  <td>\n",
    "    <a href=\"https://storage.googleapis.com/tensorflow_docs/docs/site/en/tutorials/distribute/save_and_load.ipynb\"><img src=\"https://www.tensorflow.org/images/download_logo_32px.png\" />Download notebook</a>\n",
    "  </td>\n",
    "\n",
    "</table>"
   ]
  },
  {
   "cell_type": "markdown",
   "metadata": {
    "colab_type": "text",
    "id": "A0lG6qgThxAS"
   },
   "source": [
    "## Overview\n",
    "\n",
    "It's common to save and load a model during training. There are two sets of APIs for saving and loading a keras model: a high-level API, and a low-level API. This tutorial demonstrates how you can use the SavedModel APIs when using `tf.distribute.Strategy`. To learn about SavedModel and serialization in general, please read the [saved model guide](../../guide/saved_model.ipynb), and the [Keras model serialization guide](../../guide/keras/save_and_serialize.ipynb). Let's start with a simple example: "
   ]
  },
  {
   "cell_type": "markdown",
   "metadata": {
    "colab_type": "text",
    "id": "FITHltVKQ4eZ"
   },
   "source": [
    "Import dependencies:"
   ]
  },
  {
   "cell_type": "code",
   "execution_count": 2,
   "metadata": {
    "colab": {},
    "colab_type": "code",
    "id": "RWG5HchAiOrZ"
   },
   "outputs": [
    {
     "name": "stdout",
     "output_type": "stream",
     "text": [
      "\u001b[31mERROR: tensorflow 2.1.0 has requirement gast==0.2.2, but you'll have gast 0.3.3 which is incompatible.\u001b[0m\r\n"
     ]
    }
   ],
   "source": [
    "from __future__ import absolute_import, division, print_function, unicode_literals\n",
    "\n",
    "try:\n",
    "  # %tensorflow_version only exists in Colab.\n",
    "  !pip install -q tf-nightly\n",
    "except Exception:\n",
    "  pass\n",
    "import tensorflow_datasets as tfds\n",
    "\n",
    "import tensorflow as tf\n",
    "tfds.disable_progress_bar()"
   ]
  },
  {
   "cell_type": "markdown",
   "metadata": {
    "colab_type": "text",
    "id": "qqapWj98ptNV"
   },
   "source": [
    "Prepare the data and model using `tf.distribute.Strategy`:"
   ]
  },
  {
   "cell_type": "code",
   "execution_count": 3,
   "metadata": {
    "colab": {},
    "colab_type": "code",
    "id": "yrYiAf_ziRyw"
   },
   "outputs": [
    {
     "name": "stdout",
     "output_type": "stream",
     "text": [
      "INFO:tensorflow:Using MirroredStrategy with devices ('/job:localhost/replica:0/task:0/device:GPU:0',)\n"
     ]
    }
   ],
   "source": [
    "mirrored_strategy = tf.distribute.MirroredStrategy()\n",
    "\n",
    "def get_data():\n",
    "  datasets, ds_info = tfds.load(name='mnist', with_info=True, as_supervised=True)\n",
    "  mnist_train, mnist_test = datasets['train'], datasets['test']\n",
    "\n",
    "  BUFFER_SIZE = 10000\n",
    "\n",
    "  BATCH_SIZE_PER_REPLICA = 64\n",
    "  BATCH_SIZE = BATCH_SIZE_PER_REPLICA * mirrored_strategy.num_replicas_in_sync\n",
    "\n",
    "  def scale(image, label):\n",
    "    image = tf.cast(image, tf.float32)\n",
    "    image /= 255\n",
    "\n",
    "    return image, label\n",
    "\n",
    "  train_dataset = mnist_train.map(scale).cache().shuffle(BUFFER_SIZE).batch(BATCH_SIZE)\n",
    "  eval_dataset = mnist_test.map(scale).batch(BATCH_SIZE)\n",
    "\n",
    "  return train_dataset, eval_dataset\n",
    "\n",
    "def get_model():\n",
    "  with mirrored_strategy.scope():\n",
    "    model = tf.keras.Sequential([\n",
    "        tf.keras.layers.Conv2D(32, 3, activation='relu', input_shape=(28, 28, 1)),\n",
    "        tf.keras.layers.MaxPooling2D(),\n",
    "        tf.keras.layers.Flatten(),\n",
    "        tf.keras.layers.Dense(64, activation='relu'),\n",
    "        tf.keras.layers.Dense(10)\n",
    "    ])\n",
    "\n",
    "    model.compile(loss=tf.keras.losses.SparseCategoricalCrossentropy(from_logits=True),\n",
    "                  optimizer=tf.keras.optimizers.Adam(),\n",
    "                  metrics=['accuracy'])\n",
    "    return model"
   ]
  },
  {
   "cell_type": "markdown",
   "metadata": {
    "colab_type": "text",
    "id": "qmU4Y3feS9Na"
   },
   "source": [
    "Train the model: "
   ]
  },
  {
   "cell_type": "code",
   "execution_count": 4,
   "metadata": {
    "colab": {},
    "colab_type": "code",
    "id": "zmGurbJmS_vN"
   },
   "outputs": [
    {
     "name": "stdout",
     "output_type": "stream",
     "text": [
      "\u001b[1mDownloading and preparing dataset mnist/3.0.1 (download: 11.06 MiB, generated: 21.00 MiB, total: 32.06 MiB) to /home/kbuilder/tensorflow_datasets/mnist/3.0.1...\u001b[0m\n"
     ]
    },
    {
     "name": "stderr",
     "output_type": "stream",
     "text": [
      "WARNING:absl:Dataset mnist is hosted on GCS. It will automatically be downloaded to your\n",
      "local data directory. If you'd instead prefer to read directly from our public\n",
      "GCS bucket (recommended if you're running on GCP), you can instead set\n",
      "data_dir=gs://tfds-data/datasets.\n",
      "\n"
     ]
    },
    {
     "name": "stdout",
     "output_type": "stream",
     "text": [
      "\u001b[1mDataset mnist downloaded and prepared to /home/kbuilder/tensorflow_datasets/mnist/3.0.1. Subsequent calls will reuse this data.\u001b[0m\n",
      "Epoch 1/2\n",
      "INFO:tensorflow:Reduce to /job:localhost/replica:0/task:0/device:CPU:0 then broadcast to ('/job:localhost/replica:0/task:0/device:CPU:0',).\n"
     ]
    },
    {
     "name": "stderr",
     "output_type": "stream",
     "text": [
      "INFO:tensorflow:Reduce to /job:localhost/replica:0/task:0/device:CPU:0 then broadcast to ('/job:localhost/replica:0/task:0/device:CPU:0',).\n"
     ]
    },
    {
     "name": "stdout",
     "output_type": "stream",
     "text": [
      "INFO:tensorflow:Reduce to /job:localhost/replica:0/task:0/device:CPU:0 then broadcast to ('/job:localhost/replica:0/task:0/device:CPU:0',).\n"
     ]
    },
    {
     "name": "stderr",
     "output_type": "stream",
     "text": [
      "INFO:tensorflow:Reduce to /job:localhost/replica:0/task:0/device:CPU:0 then broadcast to ('/job:localhost/replica:0/task:0/device:CPU:0',).\n"
     ]
    },
    {
     "name": "stdout",
     "output_type": "stream",
     "text": [
      "INFO:tensorflow:Reduce to /job:localhost/replica:0/task:0/device:CPU:0 then broadcast to ('/job:localhost/replica:0/task:0/device:CPU:0',).\n"
     ]
    },
    {
     "name": "stderr",
     "output_type": "stream",
     "text": [
      "INFO:tensorflow:Reduce to /job:localhost/replica:0/task:0/device:CPU:0 then broadcast to ('/job:localhost/replica:0/task:0/device:CPU:0',).\n"
     ]
    },
    {
     "name": "stdout",
     "output_type": "stream",
     "text": [
      "INFO:tensorflow:Reduce to /job:localhost/replica:0/task:0/device:CPU:0 then broadcast to ('/job:localhost/replica:0/task:0/device:CPU:0',).\n"
     ]
    },
    {
     "name": "stderr",
     "output_type": "stream",
     "text": [
      "INFO:tensorflow:Reduce to /job:localhost/replica:0/task:0/device:CPU:0 then broadcast to ('/job:localhost/replica:0/task:0/device:CPU:0',).\n"
     ]
    },
    {
     "name": "stdout",
     "output_type": "stream",
     "text": [
      "INFO:tensorflow:Reduce to /job:localhost/replica:0/task:0/device:CPU:0 then broadcast to ('/job:localhost/replica:0/task:0/device:CPU:0',).\n"
     ]
    },
    {
     "name": "stderr",
     "output_type": "stream",
     "text": [
      "INFO:tensorflow:Reduce to /job:localhost/replica:0/task:0/device:CPU:0 then broadcast to ('/job:localhost/replica:0/task:0/device:CPU:0',).\n"
     ]
    },
    {
     "name": "stdout",
     "output_type": "stream",
     "text": [
      "INFO:tensorflow:Reduce to /job:localhost/replica:0/task:0/device:CPU:0 then broadcast to ('/job:localhost/replica:0/task:0/device:CPU:0',).\n"
     ]
    },
    {
     "name": "stderr",
     "output_type": "stream",
     "text": [
      "INFO:tensorflow:Reduce to /job:localhost/replica:0/task:0/device:CPU:0 then broadcast to ('/job:localhost/replica:0/task:0/device:CPU:0',).\n"
     ]
    },
    {
     "name": "stdout",
     "output_type": "stream",
     "text": [
      "INFO:tensorflow:Reduce to /job:localhost/replica:0/task:0/device:CPU:0 then broadcast to ('/job:localhost/replica:0/task:0/device:CPU:0',).\n"
     ]
    },
    {
     "name": "stderr",
     "output_type": "stream",
     "text": [
      "INFO:tensorflow:Reduce to /job:localhost/replica:0/task:0/device:CPU:0 then broadcast to ('/job:localhost/replica:0/task:0/device:CPU:0',).\n"
     ]
    },
    {
     "name": "stdout",
     "output_type": "stream",
     "text": [
      "INFO:tensorflow:Reduce to /job:localhost/replica:0/task:0/device:CPU:0 then broadcast to ('/job:localhost/replica:0/task:0/device:CPU:0',).\n"
     ]
    },
    {
     "name": "stderr",
     "output_type": "stream",
     "text": [
      "INFO:tensorflow:Reduce to /job:localhost/replica:0/task:0/device:CPU:0 then broadcast to ('/job:localhost/replica:0/task:0/device:CPU:0',).\n"
     ]
    },
    {
     "name": "stdout",
     "output_type": "stream",
     "text": [
      "938/938 [==============================] - 3s 3ms/step - accuracy: 0.9392 - loss: 0.2078\n",
      "Epoch 2/2\n",
      "938/938 [==============================] - 2s 2ms/step - accuracy: 0.9790 - loss: 0.0700\n"
     ]
    },
    {
     "data": {
      "text/plain": [
       "<tensorflow.python.keras.callbacks.History at 0x7fa23c4af748>"
      ]
     },
     "execution_count": 4,
     "metadata": {},
     "output_type": "execute_result"
    }
   ],
   "source": [
    "model = get_model()\n",
    "train_dataset, eval_dataset = get_data()\n",
    "model.fit(train_dataset, epochs=2)"
   ]
  },
  {
   "cell_type": "markdown",
   "metadata": {
    "colab_type": "text",
    "id": "L01wjgvRizHS"
   },
   "source": [
    "## Save and load the model\n",
    "\n",
    "Now that you have a simple model to work with, let's take a look at the saving/loading APIs. \n",
    "There are two sets of APIs available:\n",
    "\n",
    "*   High level keras `model.save` and `tf.keras.models.load_model`\n",
    "*   Low level `tf.saved_model.save` and `tf.saved_model.load`\n",
    "\n"
   ]
  },
  {
   "cell_type": "markdown",
   "metadata": {
    "colab_type": "text",
    "id": "FX_IF2F1tvFs"
   },
   "source": [
    "### The Keras APIs"
   ]
  },
  {
   "cell_type": "markdown",
   "metadata": {
    "colab_type": "text",
    "id": "O8xfceg4Z3H_"
   },
   "source": [
    "Here is an example of saving and loading a model with the Keras APIs:"
   ]
  },
  {
   "cell_type": "code",
   "execution_count": 5,
   "metadata": {
    "colab": {},
    "colab_type": "code",
    "id": "LYOStjV5knTQ"
   },
   "outputs": [
    {
     "name": "stdout",
     "output_type": "stream",
     "text": [
      "INFO:tensorflow:Assets written to: /tmp/keras_save/assets\n"
     ]
    },
    {
     "name": "stderr",
     "output_type": "stream",
     "text": [
      "INFO:tensorflow:Assets written to: /tmp/keras_save/assets\n"
     ]
    }
   ],
   "source": [
    "keras_model_path = \"/tmp/keras_save\"\n",
    "model.save(keras_model_path)  # save() should be called out of strategy scope"
   ]
  },
  {
   "cell_type": "markdown",
   "metadata": {
    "colab_type": "text",
    "id": "yvQIdQp3zNMp"
   },
   "source": [
    "Restore the model without `tf.distribute.Strategy`:"
   ]
  },
  {
   "cell_type": "code",
   "execution_count": 6,
   "metadata": {
    "colab": {},
    "colab_type": "code",
    "id": "WrXAAVtrzRgv"
   },
   "outputs": [
    {
     "name": "stdout",
     "output_type": "stream",
     "text": [
      "Epoch 1/2\n",
      "938/938 [==============================] - 4s 4ms/step - loss: 0.0509 - accuracy: 0.9851\n",
      "Epoch 2/2\n",
      "938/938 [==============================] - 2s 2ms/step - loss: 0.0351 - accuracy: 0.9893\n"
     ]
    },
    {
     "data": {
      "text/plain": [
       "<tensorflow.python.keras.callbacks.History at 0x7fa23c0ec390>"
      ]
     },
     "execution_count": 6,
     "metadata": {},
     "output_type": "execute_result"
    }
   ],
   "source": [
    "restored_keras_model = tf.keras.models.load_model(keras_model_path)\n",
    "restored_keras_model.fit(train_dataset, epochs=2)"
   ]
  },
  {
   "cell_type": "markdown",
   "metadata": {
    "colab_type": "text",
    "id": "gYAnskzorda-"
   },
   "source": [
    "After restoring the model, you can continue training on it, even without needing to call `compile()` again, since it is already compiled before saving. The model is saved in the TensorFlow's standard `SavedModel` proto format. For more information, please refer to [the guide to `saved_model` format](../../guide/saved_model.ipynb).\n",
    "\n",
    "It is important to only call the `model.save()` method out of the scope of `tf.distribute.strategy`. Calling it within the scope is not supported.\n",
    "\n",
    "Now to load the model and train it using a `tf.distribute.Strategy`:"
   ]
  },
  {
   "cell_type": "code",
   "execution_count": 7,
   "metadata": {
    "colab": {},
    "colab_type": "code",
    "id": "wROPrJaAqBQz"
   },
   "outputs": [
    {
     "name": "stdout",
     "output_type": "stream",
     "text": [
      "Epoch 1/2\n",
      "938/938 [==============================] - 10s 11ms/step - loss: 0.0513 - accuracy: 0.9842\n",
      "Epoch 2/2\n",
      "938/938 [==============================] - 9s 10ms/step - loss: 0.0360 - accuracy: 0.9891\n"
     ]
    }
   ],
   "source": [
    "another_strategy = tf.distribute.OneDeviceStrategy(\"/cpu:0\")\n",
    "with another_strategy.scope():\n",
    "  restored_keras_model_ds = tf.keras.models.load_model(keras_model_path)\n",
    "  restored_keras_model_ds.fit(train_dataset, epochs=2)"
   ]
  },
  {
   "cell_type": "markdown",
   "metadata": {
    "colab_type": "text",
    "id": "PdiiPmL5tQk5"
   },
   "source": [
    "As you can see, loading works as expected with `tf.distribute.Strategy`. The strategy used here does not have to be the same strategy used before saving. "
   ]
  },
  {
   "cell_type": "markdown",
   "metadata": {
    "colab_type": "text",
    "id": "3CrXIbmFt0f6"
   },
   "source": [
    "### The `tf.saved_model` APIs"
   ]
  },
  {
   "cell_type": "markdown",
   "metadata": {
    "colab_type": "text",
    "id": "HtGzPp6et4Em"
   },
   "source": [
    "Now let's take a look at the lower level APIs. Saving the model is similar to the keras API:"
   ]
  },
  {
   "cell_type": "code",
   "execution_count": 8,
   "metadata": {
    "colab": {},
    "colab_type": "code",
    "id": "4y6T31APuCqK"
   },
   "outputs": [
    {
     "name": "stdout",
     "output_type": "stream",
     "text": [
      "INFO:tensorflow:Assets written to: /tmp/tf_save/assets\n"
     ]
    },
    {
     "name": "stderr",
     "output_type": "stream",
     "text": [
      "INFO:tensorflow:Assets written to: /tmp/tf_save/assets\n"
     ]
    }
   ],
   "source": [
    "model = get_model()  # get a fresh model\n",
    "saved_model_path = \"/tmp/tf_save\"\n",
    "tf.saved_model.save(model, saved_model_path)"
   ]
  },
  {
   "cell_type": "markdown",
   "metadata": {
    "colab_type": "text",
    "id": "q1QNRYcwuRll"
   },
   "source": [
    "Loading can be done with `tf.saved_model.load()`. However, since it is an API that is on the lower level (and hence has a wider range of use cases), it does not return a Keras model. Instead, it returns an object that contain functions that can be used to do inference. For example:"
   ]
  },
  {
   "cell_type": "code",
   "execution_count": 9,
   "metadata": {
    "colab": {},
    "colab_type": "code",
    "id": "aaEKqBSPwAuM"
   },
   "outputs": [],
   "source": [
    "DEFAULT_FUNCTION_KEY = \"serving_default\"\n",
    "loaded = tf.saved_model.load(saved_model_path)\n",
    "inference_func = loaded.signatures[DEFAULT_FUNCTION_KEY]"
   ]
  },
  {
   "cell_type": "markdown",
   "metadata": {
    "colab_type": "text",
    "id": "x65l7AaHUZCA"
   },
   "source": [
    "The loaded object may contain multiple functions, each associated with a key. The `\"serving_default\"` is the default key for the inference function with a saved Keras model. To do an inference with this function: "
   ]
  },
  {
   "cell_type": "code",
   "execution_count": 10,
   "metadata": {
    "colab": {},
    "colab_type": "code",
    "id": "5Ore5q8-UjW1"
   },
   "outputs": [
    {
     "name": "stdout",
     "output_type": "stream",
     "text": [
      "{'dense_3': <tf.Tensor: shape=(64, 10), dtype=float32, numpy=\n",
      "array([[-1.96133554e-01, -8.99917632e-02,  5.72351888e-02,\n",
      "        -2.03668073e-01, -8.02970827e-02,  9.13910493e-02,\n",
      "         4.98383269e-02,  4.41648960e-02,  8.80791321e-02,\n",
      "         1.01648100e-01],\n",
      "       [-1.48200288e-01, -1.29803583e-01, -4.92911600e-02,\n",
      "        -4.31712158e-02, -4.17232513e-07,  2.48269737e-03,\n",
      "         6.05636351e-02, -7.60715455e-02,  8.77136737e-03,\n",
      "         1.22106284e-01],\n",
      "       [-1.14124089e-01,  2.91979518e-02,  1.44588664e-01,\n",
      "         1.33038908e-02,  7.02818558e-02, -1.12405017e-01,\n",
      "         9.75675136e-02, -7.85338879e-03,  2.86279321e-02,\n",
      "         1.65302068e-01],\n",
      "       [-7.58894533e-02,  5.27040381e-03,  1.62535720e-02,\n",
      "        -5.75706623e-02, -5.75268604e-02,  9.00734738e-02,\n",
      "         9.87085998e-02,  4.29135561e-02,  1.50331855e-03,\n",
      "         6.13686927e-02],\n",
      "       [ 4.39777076e-02, -3.69722173e-02,  5.13516590e-02,\n",
      "        -1.22394459e-02,  9.95589048e-02, -1.04474604e-01,\n",
      "         6.41042888e-02, -5.07826544e-02, -2.47018635e-02,\n",
      "         1.56176925e-01],\n",
      "       [-2.01032147e-01, -7.08478242e-02,  9.03695226e-02,\n",
      "        -8.60676318e-02,  4.08706367e-02,  1.63995773e-02,\n",
      "         9.39518735e-02,  3.39298770e-02,  1.55457065e-01,\n",
      "         1.50124356e-01],\n",
      "       [-1.06005855e-02, -1.33717358e-01, -1.32284939e-01,\n",
      "         2.54734494e-02,  5.27433790e-02,  2.89486311e-02,\n",
      "         1.61560640e-01,  2.64430940e-02,  4.95831892e-02,\n",
      "        -1.04799215e-02],\n",
      "       [-1.34344816e-01, -5.63028604e-02,  2.37932950e-02,\n",
      "        -8.69873017e-02, -2.66894847e-02,  8.21951851e-02,\n",
      "         4.62654606e-02, -5.04439808e-02,  9.48826596e-02,\n",
      "         1.17101341e-01],\n",
      "       [-1.10890612e-01, -7.69181475e-02,  8.46826434e-02,\n",
      "         3.99532914e-03,  1.03629373e-01,  3.06019187e-02,\n",
      "         1.89658552e-02,  4.65907902e-03,  2.52259433e-01,\n",
      "         1.66577354e-01],\n",
      "       [ 3.67448963e-02,  1.47593990e-02,  9.32093412e-02,\n",
      "        -5.00318184e-02, -3.01302411e-03,  5.82278483e-02,\n",
      "         4.74688038e-02, -1.00209385e-01,  3.49669904e-03,\n",
      "         7.51842111e-02],\n",
      "       [-7.08391070e-02, -9.30373557e-03,  1.34077311e-01,\n",
      "        -1.27691656e-01, -1.33699346e-02, -1.72409639e-02,\n",
      "         9.24061835e-02,  2.53205374e-02,  7.58755803e-02,\n",
      "         1.22301623e-01],\n",
      "       [-1.43457741e-01, -4.95532379e-02,  9.67939198e-03,\n",
      "        -1.09622523e-01, -2.19590515e-02,  4.09523249e-02,\n",
      "         2.22873434e-01, -3.48504931e-02,  3.27815115e-03,\n",
      "         1.86141998e-01],\n",
      "       [ 7.27619678e-02,  3.33519652e-04,  5.82757890e-02,\n",
      "         6.02807552e-02,  1.00553691e-01, -1.91339374e-01,\n",
      "        -4.15410213e-02, -3.03809196e-02,  1.23533033e-01,\n",
      "         6.76057413e-02],\n",
      "       [ 1.60785951e-02,  7.73552433e-02,  1.16158687e-01,\n",
      "        -4.99300025e-02,  5.40967286e-03,  7.81429783e-02,\n",
      "         8.18617046e-02, -1.19235151e-01,  3.17210332e-02,\n",
      "         9.80318040e-02],\n",
      "       [-6.69366196e-02, -1.34491595e-02,  7.29699135e-02,\n",
      "        -8.05621669e-02, -3.92730199e-02,  1.43991679e-01,\n",
      "         1.29977494e-01,  3.63391936e-02, -5.77996820e-02,\n",
      "         1.92659736e-01],\n",
      "       [-1.48615032e-01, -5.78435324e-02, -4.66760993e-03,\n",
      "        -1.39846206e-01, -1.42127156e-01,  1.38930246e-01,\n",
      "         1.83318332e-01,  2.81293169e-02,  5.97124808e-02,\n",
      "         6.52328059e-02],\n",
      "       [ 4.75024879e-02, -4.88181785e-02,  4.93016914e-02,\n",
      "        -1.16606474e-01, -2.04755403e-02,  8.72644931e-02,\n",
      "         6.95293248e-02,  9.07087550e-02,  7.97500536e-02,\n",
      "         6.47542104e-02],\n",
      "       [-9.33603048e-02,  3.96358781e-02,  7.80954957e-02,\n",
      "        -1.68710072e-02, -1.41407549e-02, -1.54955387e-02,\n",
      "         5.00886664e-02, -5.82708642e-02,  7.58513287e-02,\n",
      "         6.72038496e-02],\n",
      "       [-3.28678191e-02, -2.87328698e-02,  1.32058665e-01,\n",
      "        -7.00094178e-03,  3.35284248e-02,  2.37089023e-02,\n",
      "        -7.71103948e-02, -8.35825205e-02,  9.50305983e-02,\n",
      "         5.82487285e-02],\n",
      "       [-8.11429918e-02, -4.84020598e-02, -5.09409457e-02,\n",
      "        -8.44112486e-02, -2.88712606e-03,  9.81849208e-02,\n",
      "         1.39197752e-01,  6.05722219e-02, -2.17108205e-02,\n",
      "         1.29393294e-01],\n",
      "       [-5.76556846e-02, -1.31579321e-02,  1.74757570e-01,\n",
      "        -3.53392363e-02,  4.18791473e-02, -9.96205211e-02,\n",
      "         6.63839132e-02, -1.38457641e-02,  1.66366369e-01,\n",
      "         1.78172722e-01],\n",
      "       [-2.45274939e-02, -7.31242299e-02,  1.38977036e-01,\n",
      "         3.59346159e-04, -6.53326511e-04, -7.71519840e-02,\n",
      "        -9.51982802e-04, -5.50748501e-03,  4.19146270e-02,\n",
      "         1.41310960e-01],\n",
      "       [ 3.34180519e-03,  1.59534998e-02,  4.28659469e-02,\n",
      "         4.56771627e-02,  1.04735963e-01, -7.72633702e-02,\n",
      "        -8.42894614e-03, -2.03115810e-02,  1.26896530e-01,\n",
      "         6.91109151e-02],\n",
      "       [-1.29256845e-02, -3.17020975e-02,  5.90581708e-02,\n",
      "         6.83882833e-02,  4.32343334e-02, -8.46726894e-02,\n",
      "         8.44761357e-02, -2.13912517e-01,  1.53998062e-02,\n",
      "         1.00718305e-01],\n",
      "       [ 5.67358434e-02,  1.07368380e-02,  1.21820606e-01,\n",
      "        -5.34656271e-03,  4.18498367e-02,  3.15281898e-02,\n",
      "         5.71291149e-03, -1.20728120e-01,  7.73476809e-02,\n",
      "         1.04705974e-01],\n",
      "       [-2.08248734e-01, -8.56723338e-02,  7.81483948e-02,\n",
      "        -3.43442485e-02,  9.89411026e-04, -2.34887004e-02,\n",
      "        -5.58937937e-02, -4.85779867e-02,  8.56974348e-02,\n",
      "         1.59180462e-01],\n",
      "       [-7.86753222e-02, -1.15503788e-01,  3.18336599e-02,\n",
      "        -5.69770597e-02, -2.67266780e-02, -1.04770660e-02,\n",
      "         2.99584158e-02, -7.73736611e-02,  1.70992628e-01,\n",
      "         1.05053321e-01],\n",
      "       [-1.43744066e-01, -1.09881878e-01,  8.63679349e-02,\n",
      "        -1.43713564e-01, -3.14624570e-02,  7.33181015e-02,\n",
      "         1.34213850e-01,  1.25551224e-03,  1.04995623e-01,\n",
      "         1.21919356e-01],\n",
      "       [ 5.31937219e-02, -3.26366723e-03,  3.72976214e-02,\n",
      "        -7.89363384e-02,  5.03053740e-02, -2.15256065e-02,\n",
      "         1.04078136e-01, -1.24125339e-01, -4.37332839e-02,\n",
      "         3.98572274e-02],\n",
      "       [-4.60611656e-02, -4.42581885e-02,  1.24468505e-01,\n",
      "         2.34494358e-03, -1.90029666e-03, -1.73648894e-02,\n",
      "         2.88615264e-02,  1.93128139e-02, -1.89081803e-02,\n",
      "         1.51722506e-01],\n",
      "       [-1.07579723e-01, -2.05734558e-02,  7.19124600e-02,\n",
      "         1.02934297e-02, -1.14280805e-01,  6.20848835e-02,\n",
      "         1.27063662e-01, -1.56550258e-02, -2.29589716e-02,\n",
      "         9.20520499e-02],\n",
      "       [-1.91268548e-02, -7.33306408e-02,  1.15679570e-01,\n",
      "         6.50116131e-02,  1.30618662e-01, -2.79935822e-02,\n",
      "        -8.10756385e-02, -5.81446216e-02,  9.66015905e-02,\n",
      "         1.52912080e-01],\n",
      "       [-3.34607810e-02, -2.46259421e-02,  1.53773904e-01,\n",
      "        -8.70825723e-02,  2.55618282e-02,  1.77343339e-01,\n",
      "         7.61522800e-02, -8.49774405e-02, -2.72407606e-02,\n",
      "         1.05200268e-01],\n",
      "       [ 5.24520203e-02, -8.21891725e-02,  2.12251171e-02,\n",
      "        -7.52647370e-02, -6.36062399e-02,  6.20677620e-02,\n",
      "         1.14666391e-02, -3.02391779e-02,  1.01120457e-01,\n",
      "        -8.00127685e-02],\n",
      "       [-2.31466740e-02, -2.40431800e-02,  1.20549224e-01,\n",
      "         3.84962931e-03,  8.90968367e-02,  1.20679438e-02,\n",
      "         1.88198369e-02, -1.20212853e-01,  1.88943028e-01,\n",
      "         1.21986479e-01],\n",
      "       [ 2.05767527e-03, -4.29998077e-02,  8.71043280e-02,\n",
      "        -1.70038342e-01, -1.17425971e-01,  6.06633276e-02,\n",
      "         2.54798889e-01, -1.36154741e-02, -1.02594197e-02,\n",
      "         1.31891459e-01],\n",
      "       [-1.77511960e-01, -9.10294056e-02,  1.62143499e-01,\n",
      "        -9.82845277e-02,  6.14727214e-02, -1.81489065e-02,\n",
      "        -1.29771978e-03,  6.16981834e-03,  7.66835362e-02,\n",
      "         1.78009793e-01],\n",
      "       [ 2.57229656e-02, -6.99428767e-02,  9.53248069e-02,\n",
      "        -2.14528412e-01, -1.43716969e-02,  5.37738353e-02,\n",
      "         1.25183940e-01,  8.16648081e-02,  5.18179387e-02,\n",
      "         1.37206972e-01],\n",
      "       [ 7.62915239e-03, -9.75075662e-02,  4.35205624e-02,\n",
      "         2.73035746e-02, -7.01228827e-02,  4.56251986e-02,\n",
      "        -1.31377811e-02,  2.32199579e-02,  1.14370823e-01,\n",
      "         8.47587213e-02],\n",
      "       [-7.62442648e-02, -6.49273545e-02,  6.25415966e-02,\n",
      "        -7.59613812e-02, -3.95292081e-02,  5.07490858e-02,\n",
      "         7.03412890e-02, -2.11565271e-02, -1.47583857e-02,\n",
      "         1.32950053e-01],\n",
      "       [ 4.64446098e-02,  1.41048841e-02,  1.04979269e-01,\n",
      "         5.33931404e-02,  1.11131296e-01,  8.39950740e-02,\n",
      "         3.77221704e-02, -5.42117953e-02,  1.11722440e-01,\n",
      "         3.88636366e-02],\n",
      "       [-4.07318585e-02, -7.53755271e-02,  6.13200665e-02,\n",
      "        -1.04026541e-01, -2.16229968e-02,  9.03885216e-02,\n",
      "         7.27553517e-02,  7.37041757e-02,  1.02862298e-01,\n",
      "         1.35650679e-01],\n",
      "       [-7.09809661e-02, -2.87056677e-02,  7.67468438e-02,\n",
      "         5.65006025e-02,  4.45543230e-03,  6.59103245e-02,\n",
      "        -6.49957508e-02, -8.01610872e-02, -7.18082488e-03,\n",
      "         1.41420081e-01],\n",
      "       [-9.97150689e-02, -6.89035952e-02,  2.20929295e-01,\n",
      "        -1.15520924e-01,  4.10802029e-02, -3.71817946e-02,\n",
      "         9.47023183e-03,  4.13596258e-03, -2.43627578e-02,\n",
      "         2.00255156e-01],\n",
      "       [-3.04441005e-02, -7.74747320e-03,  8.43273774e-02,\n",
      "        -7.77589232e-02, -4.37131152e-03,  5.53898960e-02,\n",
      "         1.46720499e-01, -9.93248224e-02, -1.83915272e-02,\n",
      "         1.27283126e-01],\n",
      "       [-6.50824457e-02, -1.53148577e-01,  1.67065248e-01,\n",
      "        -8.91781002e-02,  3.72054428e-02, -1.05723068e-02,\n",
      "        -2.95497626e-02,  4.24032807e-02,  1.00996509e-01,\n",
      "         2.61766851e-01],\n",
      "       [ 4.85769100e-03,  5.73722757e-02,  9.01314691e-02,\n",
      "        -2.05482449e-02,  4.19713706e-02, -4.50084060e-02,\n",
      "         4.27925736e-02, -2.49167606e-02,  4.52345684e-02,\n",
      "         8.57270956e-02],\n",
      "       [-4.13751714e-02, -9.20040235e-02, -1.28067061e-02,\n",
      "        -1.26718074e-01,  3.98858637e-03,  4.34089825e-02,\n",
      "         1.62546664e-01, -3.32777388e-02,  3.40824686e-02,\n",
      "         9.79116857e-02],\n",
      "       [ 2.40239799e-02, -7.73528591e-02,  4.99255136e-02,\n",
      "        -3.39750275e-02,  2.83951312e-03,  3.63225043e-02,\n",
      "         7.17998818e-02, -3.38429809e-02,  6.14980087e-02,\n",
      "         8.92134011e-02],\n",
      "       [-2.51207259e-02, -3.28324772e-02,  7.54617825e-02,\n",
      "        -1.22722134e-01, -1.46354102e-02,  3.41604948e-02,\n",
      "         8.80681723e-02,  3.42476368e-03, -1.61585808e-02,\n",
      "         1.01157755e-01],\n",
      "       [-6.99151531e-02,  1.54989921e-02,  1.43389076e-01,\n",
      "        -2.96225026e-03,  1.55071720e-01, -7.39232600e-02,\n",
      "         1.27577364e-01, -1.41077459e-01, -4.16688770e-02,\n",
      "         1.84126019e-01],\n",
      "       [ 1.31549239e-01,  8.90698470e-03,  2.66337544e-02,\n",
      "         4.09350693e-02,  8.10756534e-02, -1.01821214e-01,\n",
      "         4.12460789e-02,  7.20355660e-03,  1.11706659e-01,\n",
      "         3.01043577e-02],\n",
      "       [ 2.35974416e-02, -1.42137501e-02,  1.88320532e-01,\n",
      "         6.68963641e-02,  1.03013866e-01, -5.42251244e-02,\n",
      "        -6.00009635e-02, -4.19501290e-02,  1.36947185e-01,\n",
      "         8.20508897e-02],\n",
      "       [-3.68456058e-02, -1.70836411e-02,  8.81898925e-02,\n",
      "        -3.92635278e-02, -8.02987516e-02,  4.16328385e-02,\n",
      "         1.31119788e-01, -2.60792673e-02,  2.40116641e-02,\n",
      "         1.33976266e-01],\n",
      "       [-9.88221020e-02, -2.75573283e-02,  1.96978115e-02,\n",
      "        -4.83901352e-02, -1.03210650e-01,  1.33373886e-01,\n",
      "         1.35849565e-01, -7.38061145e-02, -6.65160269e-03,\n",
      "         1.48986220e-01],\n",
      "       [-1.54548556e-01, -3.73717397e-02,  1.67004794e-01,\n",
      "        -9.02163796e-03,  4.47463505e-02, -7.20809400e-02,\n",
      "         4.96697649e-02, -6.15917929e-02,  1.46048397e-01,\n",
      "         1.06720768e-01],\n",
      "       [ 2.91412510e-03,  6.60502762e-02,  1.04768068e-01,\n",
      "         3.70935164e-02,  1.18154198e-01, -2.60467082e-02,\n",
      "         3.91533226e-02, -7.36796558e-02,  4.60400432e-03,\n",
      "         1.39590189e-01],\n",
      "       [-7.93734044e-02, -5.16912565e-02,  1.76278979e-01,\n",
      "        -1.25259250e-01,  1.12262741e-02,  1.95442989e-01,\n",
      "         1.11649349e-01, -1.07759520e-01,  5.81474602e-03,\n",
      "         1.55263051e-01],\n",
      "       [-1.35095060e-01, -1.02386415e-01,  7.32647479e-02,\n",
      "        -1.56029537e-01, -6.15369231e-02,  1.87230632e-01,\n",
      "         1.91701338e-01, -8.04696530e-02, -3.41904983e-02,\n",
      "         2.11053669e-01],\n",
      "       [-8.36833566e-02, -6.32400885e-02,  1.27735198e-01,\n",
      "        -1.06524378e-01,  1.84745528e-02, -7.11580738e-02,\n",
      "         1.37563139e-01,  2.06685886e-02,  8.58734176e-02,\n",
      "         1.78152785e-01],\n",
      "       [-3.50877121e-02,  5.00978604e-02,  1.05329998e-01,\n",
      "         9.09200609e-02,  1.06900662e-01, -5.83434179e-02,\n",
      "        -3.10821086e-03, -4.78663370e-02,  1.23825714e-01,\n",
      "         9.86818969e-02],\n",
      "       [-3.38502638e-02, -6.36455268e-02,  5.20538539e-03,\n",
      "        -7.10687563e-02, -4.61718217e-02,  1.21617608e-01,\n",
      "         1.67760164e-01, -5.10643870e-02,  2.70655230e-02,\n",
      "         1.57403633e-01],\n",
      "       [ 1.19274100e-02, -3.31671908e-03,  1.15562854e-02,\n",
      "        -1.10450111e-01,  5.31893224e-03, -1.91159546e-03,\n",
      "         7.91927725e-02, -1.51492395e-02,  2.68101394e-02,\n",
      "         5.91604561e-02],\n",
      "       [-7.28180707e-02, -1.05356596e-01,  1.01772234e-01,\n",
      "        -2.30266564e-02, -3.63166407e-02, -6.50984943e-02,\n",
      "         6.48432299e-02, -1.29597217e-01,  5.13754487e-02,\n",
      "         3.78420651e-02]], dtype=float32)>}\n"
     ]
    }
   ],
   "source": [
    "predict_dataset = eval_dataset.map(lambda image, label: image)\n",
    "for batch in predict_dataset.take(1):\n",
    "  print(inference_func(batch))"
   ]
  },
  {
   "cell_type": "markdown",
   "metadata": {
    "colab_type": "text",
    "id": "osB1LY8WwUJZ"
   },
   "source": [
    "You can also load and do inference in a distributed manner:"
   ]
  },
  {
   "cell_type": "code",
   "execution_count": 11,
   "metadata": {
    "colab": {},
    "colab_type": "code",
    "id": "iDYvu12zYTmT"
   },
   "outputs": [
    {
     "name": "stdout",
     "output_type": "stream",
     "text": [
      "INFO:tensorflow:Using MirroredStrategy with devices ('/job:localhost/replica:0/task:0/device:GPU:0',)\n"
     ]
    },
    {
     "name": "stderr",
     "output_type": "stream",
     "text": [
      "INFO:tensorflow:Using MirroredStrategy with devices ('/job:localhost/replica:0/task:0/device:GPU:0',)\n"
     ]
    },
    {
     "name": "stdout",
     "output_type": "stream",
     "text": [
      "WARNING:tensorflow:Using MirroredStrategy eagerly has significant overhead currently. We will be working on improving this in the future, but for now please wrap `call_for_each_replica` or `experimental_run` or `run` inside a tf.function to get the best performance.\n"
     ]
    },
    {
     "name": "stderr",
     "output_type": "stream",
     "text": [
      "WARNING:tensorflow:Using MirroredStrategy eagerly has significant overhead currently. We will be working on improving this in the future, but for now please wrap `call_for_each_replica` or `experimental_run` or `run` inside a tf.function to get the best performance.\n"
     ]
    },
    {
     "name": "stdout",
     "output_type": "stream",
     "text": [
      "WARNING:tensorflow:Using MirroredStrategy eagerly has significant overhead currently. We will be working on improving this in the future, but for now please wrap `call_for_each_replica` or `experimental_run` or `run` inside a tf.function to get the best performance.\n"
     ]
    },
    {
     "name": "stderr",
     "output_type": "stream",
     "text": [
      "WARNING:tensorflow:Using MirroredStrategy eagerly has significant overhead currently. We will be working on improving this in the future, but for now please wrap `call_for_each_replica` or `experimental_run` or `run` inside a tf.function to get the best performance.\n"
     ]
    },
    {
     "name": "stdout",
     "output_type": "stream",
     "text": [
      "WARNING:tensorflow:Using MirroredStrategy eagerly has significant overhead currently. We will be working on improving this in the future, but for now please wrap `call_for_each_replica` or `experimental_run` or `run` inside a tf.function to get the best performance.\n"
     ]
    },
    {
     "name": "stderr",
     "output_type": "stream",
     "text": [
      "WARNING:tensorflow:Using MirroredStrategy eagerly has significant overhead currently. We will be working on improving this in the future, but for now please wrap `call_for_each_replica` or `experimental_run` or `run` inside a tf.function to get the best performance.\n"
     ]
    },
    {
     "name": "stdout",
     "output_type": "stream",
     "text": [
      "WARNING:tensorflow:Using MirroredStrategy eagerly has significant overhead currently. We will be working on improving this in the future, but for now please wrap `call_for_each_replica` or `experimental_run` or `run` inside a tf.function to get the best performance.\n"
     ]
    },
    {
     "name": "stderr",
     "output_type": "stream",
     "text": [
      "WARNING:tensorflow:Using MirroredStrategy eagerly has significant overhead currently. We will be working on improving this in the future, but for now please wrap `call_for_each_replica` or `experimental_run` or `run` inside a tf.function to get the best performance.\n"
     ]
    },
    {
     "name": "stdout",
     "output_type": "stream",
     "text": [
      "WARNING:tensorflow:Using MirroredStrategy eagerly has significant overhead currently. We will be working on improving this in the future, but for now please wrap `call_for_each_replica` or `experimental_run` or `run` inside a tf.function to get the best performance.\n"
     ]
    },
    {
     "name": "stderr",
     "output_type": "stream",
     "text": [
      "WARNING:tensorflow:Using MirroredStrategy eagerly has significant overhead currently. We will be working on improving this in the future, but for now please wrap `call_for_each_replica` or `experimental_run` or `run` inside a tf.function to get the best performance.\n"
     ]
    }
   ],
   "source": [
    "another_strategy = tf.distribute.MirroredStrategy()\n",
    "with another_strategy.scope():\n",
    "  loaded = tf.saved_model.load(saved_model_path)\n",
    "  inference_func = loaded.signatures[DEFAULT_FUNCTION_KEY]\n",
    "\n",
    "  dist_predict_dataset = another_strategy.experimental_distribute_dataset(\n",
    "      predict_dataset)\n",
    "\n",
    "  # Calling the function in a distributed manner\n",
    "  for batch in dist_predict_dataset:\n",
    "    another_strategy.run(inference_func,args=(batch,))"
   ]
  },
  {
   "cell_type": "markdown",
   "metadata": {
    "colab_type": "text",
    "id": "hWGSukoyw3fF"
   },
   "source": [
    "Calling the restored function is just a forward pass on the saved model (predict). What if yout want to continue training the loaded function? Or embed the loaded function into a bigger model? A common practice is to wrap this loaded object to a Keras layer to achieve this. Luckily, [TF Hub](https://www.tensorflow.org/hub) has [hub.KerasLayer](https://github.com/tensorflow/hub/blob/master/tensorflow_hub/keras_layer.py) for this purpose, shown here:"
   ]
  },
  {
   "cell_type": "code",
   "execution_count": 12,
   "metadata": {
    "colab": {},
    "colab_type": "code",
    "id": "clfk3hQoyKu6"
   },
   "outputs": [
    {
     "name": "stdout",
     "output_type": "stream",
     "text": [
      "INFO:tensorflow:Using MirroredStrategy with devices ('/job:localhost/replica:0/task:0/device:GPU:0',)\n"
     ]
    },
    {
     "name": "stderr",
     "output_type": "stream",
     "text": [
      "INFO:tensorflow:Using MirroredStrategy with devices ('/job:localhost/replica:0/task:0/device:GPU:0',)\n"
     ]
    },
    {
     "name": "stdout",
     "output_type": "stream",
     "text": [
      "Epoch 1/2\n",
      "INFO:tensorflow:Reduce to /job:localhost/replica:0/task:0/device:CPU:0 then broadcast to ('/job:localhost/replica:0/task:0/device:CPU:0',).\n"
     ]
    },
    {
     "name": "stderr",
     "output_type": "stream",
     "text": [
      "INFO:tensorflow:Reduce to /job:localhost/replica:0/task:0/device:CPU:0 then broadcast to ('/job:localhost/replica:0/task:0/device:CPU:0',).\n"
     ]
    },
    {
     "name": "stdout",
     "output_type": "stream",
     "text": [
      "INFO:tensorflow:Reduce to /job:localhost/replica:0/task:0/device:CPU:0 then broadcast to ('/job:localhost/replica:0/task:0/device:CPU:0',).\n"
     ]
    },
    {
     "name": "stderr",
     "output_type": "stream",
     "text": [
      "INFO:tensorflow:Reduce to /job:localhost/replica:0/task:0/device:CPU:0 then broadcast to ('/job:localhost/replica:0/task:0/device:CPU:0',).\n"
     ]
    },
    {
     "name": "stdout",
     "output_type": "stream",
     "text": [
      "938/938 [==============================] - 3s 3ms/step - accuracy: 0.9415 - loss: 0.2040\n",
      "Epoch 2/2\n",
      "938/938 [==============================] - 2s 2ms/step - accuracy: 0.9801 - loss: 0.0668\n"
     ]
    }
   ],
   "source": [
    "import tensorflow_hub as hub\n",
    "\n",
    "def build_model(loaded):\n",
    "  x = tf.keras.layers.Input(shape=(28, 28, 1), name='input_x')\n",
    "  # Wrap what's loaded to a KerasLayer\n",
    "  keras_layer = hub.KerasLayer(loaded, trainable=True)(x)\n",
    "  model = tf.keras.Model(x, keras_layer)\n",
    "  return model\n",
    "\n",
    "another_strategy = tf.distribute.MirroredStrategy()\n",
    "with another_strategy.scope():\n",
    "  loaded = tf.saved_model.load(saved_model_path)\n",
    "  model = build_model(loaded)\n",
    "\n",
    "  model.compile(loss=tf.keras.losses.SparseCategoricalCrossentropy(from_logits=True),\n",
    "                optimizer=tf.keras.optimizers.Adam(),\n",
    "                metrics=['accuracy'])\n",
    "  model.fit(train_dataset, epochs=2)"
   ]
  },
  {
   "cell_type": "markdown",
   "metadata": {
    "colab_type": "text",
    "id": "Oe1z_OtSJlu2"
   },
   "source": [
    "As you can see, `hub.KerasLayer` wraps the result loaded back from `tf.saved_model.load()` into a Keras layer that can be used to build another model. This is very useful for transfer learning. "
   ]
  },
  {
   "cell_type": "markdown",
   "metadata": {
    "colab_type": "text",
    "id": "KFDOZpK5Wa3W"
   },
   "source": [
    "### Which API should I use?"
   ]
  },
  {
   "cell_type": "markdown",
   "metadata": {
    "colab_type": "text",
    "id": "GC6GQ9HDLxD6"
   },
   "source": [
    "For saving, if you are working with a keras model, it is almost always recommended to use the Keras's `model.save()` API. If what you are saving is not a Keras model, then the lower level API is your only choice. \n",
    "\n",
    "For loading, which API you use depends on what you want to get from the loading API. If you cannot (or do not want to) get a Keras model, then use `tf.saved_model.load()`. Otherwise, use `tf.keras.models.load_model()`. Note that you can get a Keras model back only if you saved a Keras model. \n",
    "\n",
    "It is possible to mix and match the APIs. You can save a Keras model with `model.save`, and load a non-Keras model with the low-level API, `tf.saved_model.load`. "
   ]
  },
  {
   "cell_type": "code",
   "execution_count": 13,
   "metadata": {
    "colab": {},
    "colab_type": "code",
    "id": "Ktwg2GwnXE8v"
   },
   "outputs": [
    {
     "name": "stdout",
     "output_type": "stream",
     "text": [
      "INFO:tensorflow:Assets written to: /tmp/keras_save/assets\n"
     ]
    },
    {
     "name": "stderr",
     "output_type": "stream",
     "text": [
      "INFO:tensorflow:Assets written to: /tmp/keras_save/assets\n"
     ]
    },
    {
     "name": "stdout",
     "output_type": "stream",
     "text": [
      "INFO:tensorflow:Using MirroredStrategy with devices ('/job:localhost/replica:0/task:0/device:GPU:0',)\n"
     ]
    },
    {
     "name": "stderr",
     "output_type": "stream",
     "text": [
      "INFO:tensorflow:Using MirroredStrategy with devices ('/job:localhost/replica:0/task:0/device:GPU:0',)\n"
     ]
    }
   ],
   "source": [
    "model = get_model()\n",
    "\n",
    "# Saving the model using Keras's save() API\n",
    "model.save(keras_model_path) \n",
    "\n",
    "another_strategy = tf.distribute.MirroredStrategy()\n",
    "# Loading the model using lower level API\n",
    "with another_strategy.scope():\n",
    "  loaded = tf.saved_model.load(keras_model_path)"
   ]
  },
  {
   "cell_type": "markdown",
   "metadata": {
    "colab_type": "text",
    "id": "hJTWOnC9iuA3"
   },
   "source": [
    "### Caveats"
   ]
  },
  {
   "cell_type": "markdown",
   "metadata": {
    "colab_type": "text",
    "id": "Tzog2ti7YYgy"
   },
   "source": [
    "A special case is when you have a Keras model that does not have well-defined inputs. For example, a Sequential model can be created without any input shapes (`Sequential([Dense(3), ...]`). Subclassed models also do not have well-defined inputs after initialization. In this case, you should stick with the lower level APIs on both saving and loading, otherwise you will get an error. \n",
    "\n",
    "To check if your model has well-defined inputs, just check if `model.inputs` is `None`. If it is not `None`, you are all good. Input shapes are automatically defined when the model is used in `.fit`, `.evaluate`, `.predict`, or when calling the model (`model(inputs)`). \n",
    "\n",
    "Here is an example:"
   ]
  },
  {
   "cell_type": "code",
   "execution_count": 14,
   "metadata": {
    "colab": {},
    "colab_type": "code",
    "id": "gurSIbDFjOBc"
   },
   "outputs": [
    {
     "name": "stdout",
     "output_type": "stream",
     "text": [
      "WARNING:tensorflow:Skipping full serialization of Keras layer <__main__.SubclassedModel object at 0x7fa1f405f4e0>, because it is not built.\n"
     ]
    },
    {
     "name": "stderr",
     "output_type": "stream",
     "text": [
      "WARNING:tensorflow:Skipping full serialization of Keras layer <__main__.SubclassedModel object at 0x7fa1f405f4e0>, because it is not built.\n"
     ]
    },
    {
     "name": "stdout",
     "output_type": "stream",
     "text": [
      "WARNING:tensorflow:Skipping full serialization of Keras layer <tensorflow.python.keras.layers.core.Dense object at 0x7fa1f405fbe0>, because it is not built.\n"
     ]
    },
    {
     "name": "stderr",
     "output_type": "stream",
     "text": [
      "WARNING:tensorflow:Skipping full serialization of Keras layer <tensorflow.python.keras.layers.core.Dense object at 0x7fa1f405fbe0>, because it is not built.\n"
     ]
    },
    {
     "name": "stdout",
     "output_type": "stream",
     "text": [
      "INFO:tensorflow:Assets written to: /tmp/tf_save/assets\n"
     ]
    },
    {
     "name": "stderr",
     "output_type": "stream",
     "text": [
      "INFO:tensorflow:Assets written to: /tmp/tf_save/assets\n"
     ]
    }
   ],
   "source": [
    "class SubclassedModel(tf.keras.Model):\n",
    "\n",
    "  output_name = 'output_layer'\n",
    "\n",
    "  def __init__(self):\n",
    "    super(SubclassedModel, self).__init__()\n",
    "    self._dense_layer = tf.keras.layers.Dense(\n",
    "        5, dtype=tf.dtypes.float32, name=self.output_name)\n",
    "\n",
    "  def call(self, inputs):\n",
    "    return self._dense_layer(inputs)\n",
    "\n",
    "my_model = SubclassedModel()\n",
    "# my_model.save(keras_model_path)  # ERROR! \n",
    "tf.saved_model.save(my_model, saved_model_path)"
   ]
  }
 ],
 "metadata": {
  "colab": {
   "collapsed_sections": [],
   "name": "save_and_load.ipynb",
   "private_outputs": true,
   "provenance": [],
   "toc_visible": true
  },
  "kernelspec": {
   "display_name": "Python 3",
   "name": "python3"
  },
  "language_info": {
   "codemirror_mode": {
    "name": "ipython",
    "version": 3
   },
   "file_extension": ".py",
   "mimetype": "text/x-python",
   "name": "python",
   "nbconvert_exporter": "python",
   "pygments_lexer": "ipython3",
   "version": "3.6.9"
  }
 },
 "nbformat": 4,
 "nbformat_minor": 0
}
